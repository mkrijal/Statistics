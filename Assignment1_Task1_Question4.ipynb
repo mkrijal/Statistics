{
 "cells": [
  {
   "cell_type": "markdown",
   "metadata": {},
   "source": [
    "T1)The Cozine Corporation operates a garbage hauling business. Up to this point, the company has been\n",
    "charged a flat fee for each of the garbage trucks that enter the county landfill. The flat fee is based on\n",
    "the assumed truck weight of 45,000 pounds. In two weeks, the company is required to appear before\n",
    "the county commissioners to discuss a rate adjustment. In preparation for this meeting, Cozine has hired\n",
    "an independent company to weigh a sample of Cozine’s garbage trucks just prior to their entering the\n",
    "landfill. The data file COZINE contains the data the company has collected."
   ]
  },
  {
   "cell_type": "code",
   "execution_count": 2,
   "metadata": {
    "collapsed": true
   },
   "outputs": [],
   "source": [
    "import pandas as pd\n",
    "import numpy as np"
   ]
  },
  {
   "cell_type": "code",
   "execution_count": 3,
   "metadata": {
    "collapsed": false
   },
   "outputs": [
    {
     "data": {
      "text/html": [
       "<div>\n",
       "<table border=\"1\" class=\"dataframe\">\n",
       "  <thead>\n",
       "    <tr style=\"text-align: right;\">\n",
       "      <th></th>\n",
       "      <th>0</th>\n",
       "      <th>1</th>\n",
       "      <th>2</th>\n",
       "      <th>3</th>\n",
       "      <th>4</th>\n",
       "      <th>5</th>\n",
       "      <th>6</th>\n",
       "      <th>7</th>\n",
       "      <th>8</th>\n",
       "      <th>9</th>\n",
       "    </tr>\n",
       "  </thead>\n",
       "  <tbody>\n",
       "    <tr>\n",
       "      <th>0</th>\n",
       "      <td>40859</td>\n",
       "      <td>37145</td>\n",
       "      <td>42928</td>\n",
       "      <td>46851</td>\n",
       "      <td>46554</td>\n",
       "      <td>48586</td>\n",
       "      <td>33702</td>\n",
       "      <td>41110</td>\n",
       "      <td>46161</td>\n",
       "      <td>37871</td>\n",
       "    </tr>\n",
       "    <tr>\n",
       "      <th>1</th>\n",
       "      <td>39377</td>\n",
       "      <td>35576</td>\n",
       "      <td>34982</td>\n",
       "      <td>38285</td>\n",
       "      <td>39061</td>\n",
       "      <td>33952</td>\n",
       "      <td>39842</td>\n",
       "      <td>40465</td>\n",
       "      <td>42512</td>\n",
       "      <td>40611</td>\n",
       "    </tr>\n",
       "    <tr>\n",
       "      <th>2</th>\n",
       "      <td>40757</td>\n",
       "      <td>40593</td>\n",
       "      <td>47102</td>\n",
       "      <td>41676</td>\n",
       "      <td>41293</td>\n",
       "      <td>40050</td>\n",
       "      <td>49494</td>\n",
       "      <td>45290</td>\n",
       "      <td>51027</td>\n",
       "      <td>39511</td>\n",
       "    </tr>\n",
       "    <tr>\n",
       "      <th>3</th>\n",
       "      <td>48314</td>\n",
       "      <td>35873</td>\n",
       "      <td>44048</td>\n",
       "      <td>45428</td>\n",
       "      <td>49292</td>\n",
       "      <td>41679</td>\n",
       "      <td>40010</td>\n",
       "      <td>44566</td>\n",
       "      <td>40551</td>\n",
       "      <td>44879</td>\n",
       "    </tr>\n",
       "    <tr>\n",
       "      <th>4</th>\n",
       "      <td>36512</td>\n",
       "      <td>38780</td>\n",
       "      <td>36218</td>\n",
       "      <td>40621</td>\n",
       "      <td>41877</td>\n",
       "      <td>42107</td>\n",
       "      <td>40774</td>\n",
       "      <td>50339</td>\n",
       "      <td>35379</td>\n",
       "      <td>39201</td>\n",
       "    </tr>\n",
       "  </tbody>\n",
       "</table>\n",
       "</div>"
      ],
      "text/plain": [
       "       0      1      2      3      4      5      6      7      8      9\n",
       "0  40859  37145  42928  46851  46554  48586  33702  41110  46161  37871\n",
       "1  39377  35576  34982  38285  39061  33952  39842  40465  42512  40611\n",
       "2  40757  40593  47102  41676  41293  40050  49494  45290  51027  39511\n",
       "3  48314  35873  44048  45428  49292  41679  40010  44566  40551  44879\n",
       "4  36512  38780  36218  40621  41877  42107  40774  50339  35379  39201"
      ]
     },
     "execution_count": 3,
     "metadata": {},
     "output_type": "execute_result"
    }
   ],
   "source": [
    "garbage = pd.read_excel('D://Business Statistic/MANB1123-master/MANB1123-master/Data_Set/Cozine.xlsx', header = None)\n",
    "garbage.head()"
   ]
  },
  {
   "cell_type": "code",
   "execution_count": 4,
   "metadata": {
    "collapsed": false
   },
   "outputs": [
    {
     "name": "stdout",
     "output_type": "stream",
     "text": [
      "<class 'pandas.core.frame.DataFrame'>\n",
      "RangeIndex: 20 entries, 0 to 19\n",
      "Data columns (total 10 columns):\n",
      "0    20 non-null int64\n",
      "1    20 non-null int64\n",
      "2    20 non-null int64\n",
      "3    20 non-null int64\n",
      "4    20 non-null int64\n",
      "5    20 non-null int64\n",
      "6    20 non-null int64\n",
      "7    20 non-null int64\n",
      "8    20 non-null int64\n",
      "9    20 non-null int64\n",
      "dtypes: int64(10)\n",
      "memory usage: 1.6 KB\n"
     ]
    }
   ],
   "source": [
    "garbage.info()"
   ]
  },
  {
   "cell_type": "code",
   "execution_count": 5,
   "metadata": {
    "collapsed": false
   },
   "outputs": [
    {
     "data": {
      "text/plain": [
       "0    42494.5\n",
       "1    43642.5\n",
       "2    42917.5\n",
       "3    40475.0\n",
       "4    42413.5\n",
       "5    41972.5\n",
       "6    42063.5\n",
       "7    44133.5\n",
       "8    42335.5\n",
       "9    42195.0\n",
       "dtype: float64"
      ]
     },
     "execution_count": 5,
     "metadata": {},
     "output_type": "execute_result"
    }
   ],
   "source": [
    "garbage.median()"
   ]
  },
  {
   "cell_type": "code",
   "execution_count": 6,
   "metadata": {
    "collapsed": false
   },
   "outputs": [],
   "source": [
    "import math\n",
    "import functools"
   ]
  },
  {
   "cell_type": "code",
   "execution_count": 7,
   "metadata": {
    "collapsed": true
   },
   "outputs": [],
   "source": [
    "def percentile(N, percent, key=lambda x:x):\n",
    "    \"\"\"\n",
    "    Find the percentile of a list of values.\n",
    "\n",
    "    @parameter N - is a list of values. Note N MUST BE already sorted.\n",
    "    @parameter percent - a float value from 0.0 to 1.0.\n",
    "    @parameter key - optional key function to compute value from each element of N.\n",
    "\n",
    "    @return - the percentile of the values\n",
    "    \"\"\"\n",
    "    if not N:\n",
    "        return None\n",
    "    k = (len(N)-1) * percent\n",
    "    f = math.floor(k)\n",
    "    c = math.ceil(k)\n",
    "    if f == c:\n",
    "        return key(N[int(k)])\n",
    "    d0 = key(N[int(f)]) * (c-k)\n",
    "    d1 = key(N[int(c)]) * (k-f)\n",
    "    return d0+d1\n",
    "\n",
    "# median is 50th percentile.\n",
    "median = functools.partial(percentile, percent=0.5)"
   ]
  },
  {
   "cell_type": "code",
   "execution_count": 8,
   "metadata": {
    "collapsed": false
   },
   "outputs": [
    {
     "data": {
      "text/plain": [
       "41849.0"
      ]
     },
     "execution_count": 8,
     "metadata": {},
     "output_type": "execute_result"
    }
   ],
   "source": [
    "percentile(list(garbage[0]),0.5)"
   ]
  },
  {
   "cell_type": "code",
   "execution_count": 9,
   "metadata": {
    "collapsed": true
   },
   "outputs": [],
   "source": [
    "import plotly.plotly as py\n",
    "import plotly.graph_objs as go"
   ]
  },
  {
   "cell_type": "code",
   "execution_count": 41,
   "metadata": {
    "collapsed": false
   },
   "outputs": [
    {
     "data": {
      "text/html": [
       "<iframe id=\"igraph\" scrolling=\"no\" style=\"border:none;\" seamless=\"seamless\" src=\"https://plot.ly/~mkrijal/108.embed\" height=\"525px\" width=\"100%\"></iframe>"
      ],
      "text/plain": [
       "<plotly.tools.PlotlyDisplay object>"
      ]
     },
     "execution_count": 41,
     "metadata": {},
     "output_type": "execute_result"
    }
   ],
   "source": [
    "y0 = garbage[0]\n",
    "y1 = garbage[1]\n",
    "y2 = garbage[2]\n",
    "y3 = garbage[3]\n",
    "y4 = garbage[4]\n",
    "y5 = garbage[5]\n",
    "y6 = garbage[6]\n",
    "y7 = garbage[7]\n",
    "\n",
    "\n",
    "column0 = go.Box(\n",
    "    y=y0\n",
    ")\n",
    "column1 = go.Box(\n",
    "    y=y1\n",
    ")\n",
    "column2 = go.Box(\n",
    "    y=y2\n",
    ")\n",
    "column3 = go.Box(\n",
    "    y=y3\n",
    ")\n",
    "column4 = go.Box(\n",
    "    y=y4\n",
    ")\n",
    "column5 = go.Box(\n",
    "    y=y5\n",
    ")\n",
    "column6 = go.Box(\n",
    "    y=y6\n",
    ")\n",
    "column7 = go.Box(\n",
    "    y=y7\n",
    ")\n",
    "data = [column0, column1, column2, column3, column4, column5, column6, column7]\n",
    "py.iplot(data, sharing='public')"
   ]
  },
  {
   "cell_type": "markdown",
   "metadata": {},
   "source": [
    "# Compute appropriate measures of central location for the data."
   ]
  },
  {
   "cell_type": "code",
   "execution_count": 11,
   "metadata": {
    "collapsed": false
   },
   "outputs": [],
   "source": [
    "import seaborn as sns\n",
    "import matplotlib.pyplot as plt\n",
    "%matplotlib inline\n",
    "plt.rcParams['figure.figsize'] = (20, 10)\n",
    "plt.rcParams['font.size'] = 14"
   ]
  },
  {
   "cell_type": "code",
   "execution_count": 12,
   "metadata": {
    "collapsed": false
   },
   "outputs": [],
   "source": [
    "a = garbage[0]\n",
    "b = garbage[1]\n",
    "\n",
    "trace1 = go.Histogram(\n",
    "    x=garbage[0],\n",
    "    opacity=0.75,\n",
    "    histnorm='probability',\n",
    "    name='column 0'\n",
    ")\n",
    "trace2 = go.Histogram(\n",
    "    x=garbage[1],\n",
    "    opacity=0.75,\n",
    "    histnorm='probability',\n",
    "    name='column 1',\n",
    "    yaxis='y2'\n",
    ")"
   ]
  },
  {
   "cell_type": "code",
   "execution_count": 13,
   "metadata": {
    "collapsed": false
   },
   "outputs": [
    {
     "data": {
      "text/html": [
       "<iframe id=\"igraph\" scrolling=\"no\" style=\"border:none;\" seamless=\"seamless\" src=\"https://plot.ly/~mkrijal/86.embed\" height=\"525px\" width=\"100%\"></iframe>"
      ],
      "text/plain": [
       "<plotly.tools.PlotlyDisplay object>"
      ]
     },
     "execution_count": 13,
     "metadata": {},
     "output_type": "execute_result"
    }
   ],
   "source": [
    "data = [trace1, trace2]\n",
    "\n",
    "layout = go.Layout(\n",
    "    title='item',\n",
    "    barmode='overlay',\n",
    "    xaxis=dict(\n",
    "    title=''\n",
    "    ),\n",
    "    yaxis=dict(\n",
    "        title='Normalized Frequency 1'\n",
    "    ),\n",
    "    yaxis2=dict(\n",
    "        title='Normalized Frequency 2',\n",
    "        anchor='free',\n",
    "        overlaying='y',\n",
    "        side='right',\n",
    "        position=1\n",
    "    ),\n",
    "    \n",
    "     # Mean lines\n",
    "    shapes= [{'line': {'color': '#0099FF', 'dash': 'solid', 'width': 1},\n",
    "    'type': 'line',\n",
    "    'x0': garbage[0].mean(),\n",
    "    'x1': garbage[1].mean(),\n",
    "    'xref': 'x',\n",
    "    'y0': -0.1,\n",
    "    'y1': 1,\n",
    "    'yref': 'paper'},\n",
    "   {'line': {'color': '#FDAB5A', 'dash': 'solid', 'width': 1},\n",
    "    'type': 'line',\n",
    "    'x0': garbage[1].mean(),\n",
    "    'x1': garbage[1].mean(),\n",
    "    'xref': 'x',\n",
    "    'y0': -0.1,\n",
    "    'y1': 1,\n",
    "    'yref': 'paper'}],\n",
    "\n",
    "    # Annotations\n",
    "    annotations=[\n",
    "        dict(\n",
    "            x=garbage[0].mean(),\n",
    "            y=1,\n",
    "            xref='x',\n",
    "            yref='paper',\n",
    "            text=\"Mean a = {:,.0f}\".format(garbage[0].mean()),\n",
    "            showarrow=True,\n",
    "            arrowhead=7,\n",
    "            ax=1,\n",
    "            ay=1,\n",
    "            axref='paper',\n",
    "            ayref='paper'\n",
    "        ),\n",
    "        dict(\n",
    "            x=garbage[1].mean(),\n",
    "            y=0.95,\n",
    "            xref='x',\n",
    "            yref='paper',\n",
    "            text=\"Mean b = {:,.0f}\".format(garbage[1].mean()),\n",
    "            showarrow=True,\n",
    "            arrowhead=7,\n",
    "            ax=1,\n",
    "            ay=1,\n",
    "            axref='paper',\n",
    "            ayref='paper'\n",
    "        )\n",
    "    ]\n",
    "\n",
    ") \n",
    "fig = go.Figure(data=data, layout=layout)\n",
    "py.iplot(fig)"
   ]
  },
  {
   "cell_type": "code",
   "execution_count": 14,
   "metadata": {
    "collapsed": true
   },
   "outputs": [],
   "source": [
    "a = garbage[0]\n",
    "b = garbage[1]\n",
    "\n",
    "trace1 = go.Histogram(\n",
    "    x=garbage[0],\n",
    "    opacity=0.75,\n",
    "    name='column 0'\n",
    ")\n",
    "trace2 = go.Histogram(\n",
    "    x=garbage[1],\n",
    "    opacity=0.75,\n",
    "    name='column 1',\n",
    "    yaxis='y2'\n",
    ")"
   ]
  },
  {
   "cell_type": "code",
   "execution_count": 15,
   "metadata": {
    "collapsed": false
   },
   "outputs": [
    {
     "data": {
      "text/html": [
       "<iframe id=\"igraph\" scrolling=\"no\" style=\"border:none;\" seamless=\"seamless\" src=\"https://plot.ly/~mkrijal/88.embed\" height=\"525px\" width=\"100%\"></iframe>"
      ],
      "text/plain": [
       "<plotly.tools.PlotlyDisplay object>"
      ]
     },
     "execution_count": 15,
     "metadata": {},
     "output_type": "execute_result"
    }
   ],
   "source": [
    "data = [trace1, trace2]\n",
    "\n",
    "layout = go.Layout(\n",
    "    title='item',\n",
    "    barmode='overlay',\n",
    "    xaxis=dict(\n",
    "    title=''\n",
    "    ),\n",
    "    yaxis=dict(\n",
    "        title='Frequency 1'\n",
    "    ),\n",
    "    yaxis2=dict(\n",
    "        title='Frequency 2',\n",
    "        anchor='free',\n",
    "        overlaying='y',\n",
    "        side='right',\n",
    "        position=1\n",
    "    ),\n",
    "    \n",
    "     # Mean lines\n",
    "    shapes= [{'line': {'color': '#0099FF', 'dash': 'solid', 'width': 1},\n",
    "    'type': 'line',\n",
    "    'x0': garbage[0].mean(),\n",
    "    'x1': garbage[1].mean(),\n",
    "    'xref': 'x',\n",
    "    'y0': -0.1,\n",
    "    'y1': 1,\n",
    "    'yref': 'paper'},\n",
    "   {'line': {'color': '#FDAB5A', 'dash': 'solid', 'width': 1},\n",
    "    'type': 'line',\n",
    "    'x0': garbage[1].mean(),\n",
    "    'x1': garbage[1].mean(),\n",
    "    'xref': 'x',\n",
    "    'y0': -0.1,\n",
    "    'y1': 1,\n",
    "    'yref': 'paper'}],\n",
    "\n",
    "    # Annotations\n",
    "    annotations=[\n",
    "        dict(\n",
    "            x=garbage[0].mean(),\n",
    "            y=1,\n",
    "            xref='x',\n",
    "            yref='paper',\n",
    "            text=\"Mean a = {:,.0f}\".format(garbage[0].mean()),\n",
    "            showarrow=True,\n",
    "            arrowhead=7,\n",
    "            ax=1,\n",
    "            ay=1,\n",
    "            axref='paper',\n",
    "            ayref='paper'\n",
    "        ),\n",
    "        dict(\n",
    "            x=garbage[1].mean(),\n",
    "            y=0.95,\n",
    "            xref='x',\n",
    "            yref='paper',\n",
    "            text=\"Mean b = {:,.0f}\".format(garbage[1].mean()),\n",
    "            showarrow=True,\n",
    "            arrowhead=7,\n",
    "            ax=1,\n",
    "            ay=1,\n",
    "            axref='paper',\n",
    "            ayref='paper'\n",
    "        )\n",
    "    ]\n",
    "\n",
    ") \n",
    "fig = go.Figure(data=data, layout=layout)\n",
    "py.iplot(fig)"
   ]
  },
  {
   "cell_type": "code",
   "execution_count": 16,
   "metadata": {
    "collapsed": false
   },
   "outputs": [
    {
     "data": {
      "text/plain": [
       "[40859,\n",
       " 39377,\n",
       " 40757,\n",
       " 48314,\n",
       " 36512,\n",
       " 32205,\n",
       " 44637,\n",
       " 42275,\n",
       " 50382,\n",
       " 43688,\n",
       " 40010,\n",
       " 39912,\n",
       " 45945,\n",
       " 40325,\n",
       " 42714,\n",
       " 43535,\n",
       " 47145,\n",
       " 43652,\n",
       " 42981,\n",
       " 41176,\n",
       " 37145,\n",
       " 35576,\n",
       " 40593,\n",
       " 35873,\n",
       " 38780,\n",
       " 47501,\n",
       " 43226,\n",
       " 45153,\n",
       " 47486,\n",
       " 44348,\n",
       " 45228,\n",
       " 45227,\n",
       " 42545,\n",
       " 36809,\n",
       " 44059,\n",
       " 39537,\n",
       " 48415,\n",
       " 47523,\n",
       " 47609,\n",
       " 40694,\n",
       " 42928,\n",
       " 34982,\n",
       " 47102,\n",
       " 44048,\n",
       " 36218,\n",
       " 37137,\n",
       " 38429,\n",
       " 45276,\n",
       " 46955,\n",
       " 42811,\n",
       " 43950,\n",
       " 45052,\n",
       " 46336,\n",
       " 49573,\n",
       " 41051,\n",
       " 44748,\n",
       " 42907,\n",
       " 41539,\n",
       " 42324,\n",
       " 41379,\n",
       " 46851,\n",
       " 38285,\n",
       " 41676,\n",
       " 45428,\n",
       " 40621,\n",
       " 39516,\n",
       " 41084,\n",
       " 39581,\n",
       " 42429,\n",
       " 38098,\n",
       " 39688,\n",
       " 43734,\n",
       " 41436,\n",
       " 39847,\n",
       " 37360,\n",
       " 43996,\n",
       " 42551,\n",
       " 38345,\n",
       " 37756,\n",
       " 40329,\n",
       " 46554,\n",
       " 39061,\n",
       " 41293,\n",
       " 49292,\n",
       " 41877,\n",
       " 44879,\n",
       " 42500,\n",
       " 38492,\n",
       " 42007,\n",
       " 46705,\n",
       " 46959,\n",
       " 44627,\n",
       " 39037,\n",
       " 42327,\n",
       " 46813,\n",
       " 46085,\n",
       " 49047,\n",
       " 36153,\n",
       " 36718,\n",
       " 38950,\n",
       " 48586,\n",
       " 33952,\n",
       " 40050,\n",
       " 41679,\n",
       " 42107,\n",
       " 43774,\n",
       " 44120,\n",
       " 46223,\n",
       " 43724,\n",
       " 40817,\n",
       " 35308,\n",
       " 48196,\n",
       " 46089,\n",
       " 41110,\n",
       " 40902,\n",
       " 31476,\n",
       " 41838,\n",
       " 32253,\n",
       " 42728,\n",
       " 44450,\n",
       " 33702,\n",
       " 39842,\n",
       " 49494,\n",
       " 40010,\n",
       " 40774,\n",
       " 45324,\n",
       " 42527,\n",
       " 37436,\n",
       " 41903,\n",
       " 38808,\n",
       " 44092,\n",
       " 43155,\n",
       " 39789,\n",
       " 52774,\n",
       " 37038,\n",
       " 43762,\n",
       " 39504,\n",
       " 42392,\n",
       " 45614,\n",
       " 42224,\n",
       " 41110,\n",
       " 40465,\n",
       " 45290,\n",
       " 44566,\n",
       " 50339,\n",
       " 44264,\n",
       " 38538,\n",
       " 36076,\n",
       " 37992,\n",
       " 38880,\n",
       " 41558,\n",
       " 44238,\n",
       " 44029,\n",
       " 46758,\n",
       " 44904,\n",
       " 47575,\n",
       " 45448,\n",
       " 43137,\n",
       " 36267,\n",
       " 46801,\n",
       " 46161,\n",
       " 42512,\n",
       " 51027,\n",
       " 40551,\n",
       " 35379,\n",
       " 36787,\n",
       " 49162,\n",
       " 44703,\n",
       " 35256,\n",
       " 40370,\n",
       " 42159,\n",
       " 49041,\n",
       " 44074,\n",
       " 45347,\n",
       " 44980,\n",
       " 35454,\n",
       " 41962,\n",
       " 41932,\n",
       " 39682,\n",
       " 42996,\n",
       " 37871,\n",
       " 40611,\n",
       " 39511,\n",
       " 44879,\n",
       " 39201,\n",
       " 37760,\n",
       " 43851,\n",
       " 44426,\n",
       " 45148,\n",
       " 40277,\n",
       " 39515,\n",
       " 40725,\n",
       " 40798,\n",
       " 47062,\n",
       " 43627,\n",
       " 42173,\n",
       " 45949,\n",
       " 42762,\n",
       " 43989,\n",
       " 42217]"
      ]
     },
     "execution_count": 16,
     "metadata": {},
     "output_type": "execute_result"
    }
   ],
   "source": [
    "data = list(garbage[0]) + list(garbage[1]) + list(garbage[2]) + list(garbage[3]) + list(garbage[4]) + list(garbage[5]) + list(garbage[6]) + list(garbage[7]) + list(garbage[8]) + list(garbage[9]) \n",
    "data"
   ]
  },
  {
   "cell_type": "code",
   "execution_count": 17,
   "metadata": {
    "collapsed": false
   },
   "outputs": [],
   "source": [
    "df = pd.DataFrame(data)"
   ]
  },
  {
   "cell_type": "code",
   "execution_count": 18,
   "metadata": {
    "collapsed": false
   },
   "outputs": [
    {
     "data": {
      "text/html": [
       "<div>\n",
       "<table border=\"1\" class=\"dataframe\">\n",
       "  <thead>\n",
       "    <tr style=\"text-align: right;\">\n",
       "      <th></th>\n",
       "      <th>0</th>\n",
       "    </tr>\n",
       "  </thead>\n",
       "  <tbody>\n",
       "    <tr>\n",
       "      <th>0</th>\n",
       "      <td>40859</td>\n",
       "    </tr>\n",
       "    <tr>\n",
       "      <th>1</th>\n",
       "      <td>39377</td>\n",
       "    </tr>\n",
       "    <tr>\n",
       "      <th>2</th>\n",
       "      <td>40757</td>\n",
       "    </tr>\n",
       "    <tr>\n",
       "      <th>3</th>\n",
       "      <td>48314</td>\n",
       "    </tr>\n",
       "    <tr>\n",
       "      <th>4</th>\n",
       "      <td>36512</td>\n",
       "    </tr>\n",
       "  </tbody>\n",
       "</table>\n",
       "</div>"
      ],
      "text/plain": [
       "       0\n",
       "0  40859\n",
       "1  39377\n",
       "2  40757\n",
       "3  48314\n",
       "4  36512"
      ]
     },
     "execution_count": 18,
     "metadata": {},
     "output_type": "execute_result"
    }
   ],
   "source": [
    "df.head()"
   ]
  },
  {
   "cell_type": "code",
   "execution_count": 19,
   "metadata": {
    "collapsed": false
   },
   "outputs": [
    {
     "data": {
      "text/plain": [
       "200"
      ]
     },
     "execution_count": 19,
     "metadata": {},
     "output_type": "execute_result"
    }
   ],
   "source": [
    "df.shape[0]"
   ]
  },
  {
   "cell_type": "code",
   "execution_count": 20,
   "metadata": {
    "collapsed": false
   },
   "outputs": [
    {
     "data": {
      "text/html": [
       "<div>\n",
       "<table border=\"1\" class=\"dataframe\">\n",
       "  <thead>\n",
       "    <tr style=\"text-align: right;\">\n",
       "      <th></th>\n",
       "      <th>0</th>\n",
       "    </tr>\n",
       "  </thead>\n",
       "  <tbody>\n",
       "    <tr>\n",
       "      <th>count</th>\n",
       "      <td>200.00000</td>\n",
       "    </tr>\n",
       "    <tr>\n",
       "      <th>mean</th>\n",
       "      <td>42260.64000</td>\n",
       "    </tr>\n",
       "    <tr>\n",
       "      <th>std</th>\n",
       "      <td>3934.55888</td>\n",
       "    </tr>\n",
       "    <tr>\n",
       "      <th>min</th>\n",
       "      <td>31476.00000</td>\n",
       "    </tr>\n",
       "    <tr>\n",
       "      <th>25%</th>\n",
       "      <td>39686.50000</td>\n",
       "    </tr>\n",
       "    <tr>\n",
       "      <th>50%</th>\n",
       "      <td>42325.50000</td>\n",
       "    </tr>\n",
       "    <tr>\n",
       "      <th>75%</th>\n",
       "      <td>44923.00000</td>\n",
       "    </tr>\n",
       "    <tr>\n",
       "      <th>max</th>\n",
       "      <td>52774.00000</td>\n",
       "    </tr>\n",
       "  </tbody>\n",
       "</table>\n",
       "</div>"
      ],
      "text/plain": [
       "                 0\n",
       "count    200.00000\n",
       "mean   42260.64000\n",
       "std     3934.55888\n",
       "min    31476.00000\n",
       "25%    39686.50000\n",
       "50%    42325.50000\n",
       "75%    44923.00000\n",
       "max    52774.00000"
      ]
     },
     "execution_count": 20,
     "metadata": {},
     "output_type": "execute_result"
    }
   ],
   "source": [
    "df.describe()"
   ]
  },
  {
   "cell_type": "code",
   "execution_count": 21,
   "metadata": {
    "collapsed": false
   },
   "outputs": [
    {
     "data": {
      "text/plain": [
       "0    42325.5\n",
       "dtype: float64"
      ]
     },
     "execution_count": 21,
     "metadata": {},
     "output_type": "execute_result"
    }
   ],
   "source": [
    "df.median()"
   ]
  },
  {
   "cell_type": "markdown",
   "metadata": {},
   "source": [
    "# a) Based on the sample data, what percentile does the 45,000-pound weight fall closest to?"
   ]
  },
  {
   "cell_type": "code",
   "execution_count": 22,
   "metadata": {
    "collapsed": false
   },
   "outputs": [
    {
     "data": {
      "text/plain": [
       "42325.5"
      ]
     },
     "execution_count": 22,
     "metadata": {},
     "output_type": "execute_result"
    }
   ],
   "source": [
    "np.percentile(data, 50)"
   ]
  },
  {
   "cell_type": "code",
   "execution_count": 23,
   "metadata": {
    "collapsed": false
   },
   "outputs": [
    {
     "data": {
      "text/plain": [
       "44923.0"
      ]
     },
     "execution_count": 23,
     "metadata": {},
     "output_type": "execute_result"
    }
   ],
   "source": [
    "np.percentile(data, 75)"
   ]
  },
  {
   "cell_type": "code",
   "execution_count": 24,
   "metadata": {
    "collapsed": false
   },
   "outputs": [
    {
     "data": {
      "text/html": [
       "<iframe id=\"igraph\" scrolling=\"no\" style=\"border:none;\" seamless=\"seamless\" src=\"https://plot.ly/~mkrijal/90.embed\" height=\"525px\" width=\"100%\"></iframe>"
      ],
      "text/plain": [
       "<plotly.tools.PlotlyDisplay object>"
      ]
     },
     "execution_count": 24,
     "metadata": {},
     "output_type": "execute_result"
    }
   ],
   "source": [
    "y0 = df[0]\n",
    "\n",
    "column0 = go.Box(y=y0)\n",
    "data1 = [column0]\n",
    "py.iplot(data1)\n"
   ]
  },
  {
   "cell_type": "markdown",
   "metadata": {},
   "source": [
    "# b) Compute appropriate measures of central location for the data."
   ]
  },
  {
   "cell_type": "code",
   "execution_count": 25,
   "metadata": {
    "collapsed": false
   },
   "outputs": [
    {
     "data": {
      "text/plain": [
       "0    42325.5\n",
       "dtype: float64"
      ]
     },
     "execution_count": 25,
     "metadata": {},
     "output_type": "execute_result"
    }
   ],
   "source": [
    "df.median()"
   ]
  },
  {
   "cell_type": "markdown",
   "metadata": {},
   "source": [
    "# c) Construct a frequency histogram based on the sample data. Use the 2 power k more than n guideline to determine the number of classes. Also, construct a box and whisker plot for these data. Discuss the relative advantages of histograms and box and whisker plots for presenting these data."
   ]
  },
  {
   "cell_type": "code",
   "execution_count": 26,
   "metadata": {
    "collapsed": false
   },
   "outputs": [
    {
     "data": {
      "text/html": [
       "<iframe id=\"igraph\" scrolling=\"no\" style=\"border:none;\" seamless=\"seamless\" src=\"https://plot.ly/~mkrijal/4.embed\" height=\"525px\" width=\"100%\"></iframe>"
      ],
      "text/plain": [
       "<plotly.tools.PlotlyDisplay object>"
      ]
     },
     "execution_count": 26,
     "metadata": {},
     "output_type": "execute_result"
    }
   ],
   "source": [
    "x = df[0]\n",
    "data2 = [go.Histogram(x=x)]\n",
    "\n",
    "py.iplot(data2, filename='basic histogram')"
   ]
  },
  {
   "cell_type": "code",
   "execution_count": 40,
   "metadata": {
    "collapsed": false
   },
   "outputs": [
    {
     "data": {
      "text/html": [
       "<iframe id=\"igraph\" scrolling=\"no\" style=\"border:none;\" seamless=\"seamless\" src=\"https://plot.ly/~mkrijal/104.embed\" height=\"525px\" width=\"100%\"></iframe>"
      ],
      "text/plain": [
       "<plotly.tools.PlotlyDisplay object>"
      ]
     },
     "execution_count": 40,
     "metadata": {},
     "output_type": "execute_result"
    }
   ],
   "source": [
    "highest_num = df[0].max()\n",
    "lowest_num = df[0].min()\n",
    "\n",
    "bins_size = (highest_num - lowest_num) / 10 # assume k = 10\n",
    "\n",
    "trace1 = go.Histogram(\n",
    "    x=df[0],\n",
    "    opacity=0.75,\n",
    "    name='column 0',\n",
    "    xbins=dict(\n",
    "        start=30000,\n",
    "        end=55000,\n",
    "        size=bins_size),\n",
    "    \n",
    ")\n",
    "data = [trace1]\n",
    "\n",
    "layout = go.Layout(\n",
    "    title='Truck Weight',\n",
    "    barmode='overlay',\n",
    "    xaxis=dict(\n",
    "    title='Weight'\n",
    "    ),\n",
    "    yaxis=dict(\n",
    "        title='Frequency'\n",
    "    )\n",
    "\n",
    "\n",
    ") \n",
    "fig = go.Figure(data=data, layout=layout)\n",
    "py.iplot(fig)"
   ]
  },
  {
   "cell_type": "markdown",
   "metadata": {},
   "source": [
    "# d) Use the information determined in parts (a–c) to develop a presentation to the county commissioners. Make sure the presentation attempts to answer the question of whether Cozine deserves a rate reduction."
   ]
  },
  {
   "cell_type": "code",
   "execution_count": 28,
   "metadata": {
    "collapsed": false
   },
   "outputs": [
    {
     "data": {
      "text/plain": [
       "49"
      ]
     },
     "execution_count": 28,
     "metadata": {},
     "output_type": "execute_result"
    }
   ],
   "source": [
    "more = df[0] > 45000\n",
    "more.sum()  #get total number of weight more than 45000"
   ]
  },
  {
   "cell_type": "code",
   "execution_count": 29,
   "metadata": {
    "collapsed": false
   },
   "outputs": [
    {
     "data": {
      "text/plain": [
       "151"
      ]
     },
     "execution_count": 29,
     "metadata": {},
     "output_type": "execute_result"
    }
   ],
   "source": [
    "less = df[0] < 45000\n",
    "less.sum()  #get total number of weight less than 45000"
   ]
  },
  {
   "cell_type": "markdown",
   "metadata": {},
   "source": [
    "Cozine deserve a rate reduction because most of their lorry weight is less than 45000. Furthermore the mean weight is 422641 and the median weight is 42325. 45000 weight is closest to 75% percentile"
   ]
  },
  {
   "cell_type": "code",
   "execution_count": null,
   "metadata": {
    "collapsed": true
   },
   "outputs": [],
   "source": []
  }
 ],
 "metadata": {
  "kernelspec": {
   "display_name": "Python 3",
   "language": "python",
   "name": "python3"
  },
  "language_info": {
   "codemirror_mode": {
    "name": "ipython",
    "version": 3
   },
   "file_extension": ".py",
   "mimetype": "text/x-python",
   "name": "python",
   "nbconvert_exporter": "python",
   "pygments_lexer": "ipython3",
   "version": "3.6.0"
  }
 },
 "nbformat": 4,
 "nbformat_minor": 2
}
