{
 "cells": [
  {
   "cell_type": "markdown",
   "metadata": {},
   "source": [
    "Q2)The United Way raises money for community charity activities. Recently, in one community, the\n",
    "fundraising committee was concerned about whether there is a difference in the proportion of\n",
    "employees who give to United Way depending on whether the employer is a private business or a\n",
    "government agency. A random sample of people who had been contacted about contributing last year\n",
    "was selected. Of those contacted, 70 worked for a private business and 50 worked for a government\n",
    "agency. For the 70 private-sector employees, the mean contribution was RM230.25 with a standard\n",
    "deviation equal to RM55.52. For the 50 government employees in the sample the mean and standard\n",
    "deviation were RM309.45 and RM61.75, respectively."
   ]
  },
  {
   "cell_type": "markdown",
   "metadata": {},
   "source": [
    "a) Based on these sample data and alpha = 0.05, what should be concluded? Be sure to show the\n",
    "decision rule."
   ]
  },
  {
   "cell_type": "markdown",
   "metadata": {},
   "source": [
    "We are interested in determining whether there is a difference in the proportion of employees who give to United Way whether the employee is a private business or government agency"
   ]
  },
  {
   "cell_type": "markdown",
   "metadata": {},
   "source": [
    "Ho : u1 = u2, Ha: u1 not equal to u2"
   ]
  },
  {
   "cell_type": "code",
   "execution_count": 1,
   "metadata": {
    "collapsed": true
   },
   "outputs": [],
   "source": [
    "import pandas as pd\n",
    "import numpy as np\n",
    "import scipy.stats as st \n",
    "import math as m"
   ]
  },
  {
   "cell_type": "code",
   "execution_count": 2,
   "metadata": {
    "collapsed": true
   },
   "outputs": [],
   "source": [
    "n1 = 70 # private sector employees\n",
    "n2 = 50 #government sector employees\n",
    "x1 = 230.25 #sample mean for private sector employees\n",
    "x2 = 309.25 #sample mean for government sector employees\n",
    "sd1 = 55.52 #standard deviation for private sector employees\n",
    "sd2 = 61.75 #standard deviation for government sector employees  "
   ]
  },
  {
   "cell_type": "code",
   "execution_count": 6,
   "metadata": {
    "collapsed": false
   },
   "outputs": [
    {
     "data": {
      "text/plain": [
       "1.9802722492407059"
      ]
     },
     "execution_count": 6,
     "metadata": {},
     "output_type": "execute_result"
    }
   ],
   "source": [
    "#two tailed test\n",
    "#get critical value\n",
    "c = st.t.ppf(1 - (0.05/2), n1 + n2 -2)\n",
    "c"
   ]
  },
  {
   "cell_type": "markdown",
   "metadata": {},
   "source": [
    "+c = 1.980 , -c = -1.980"
   ]
  },
  {
   "cell_type": "markdown",
   "metadata": {},
   "source": [
    "The decision rule: if the t not equal to c, therefore reject Ho, otherwise accept Ho"
   ]
  },
  {
   "cell_type": "markdown",
   "metadata": {},
   "source": [
    "b) Construct a 95% confidence interval for the difference between the mean contributions of\n",
    "private business and government agency employees who contribute to United Way. Do the\n",
    "hypothesis test and the confidence interval produce compatible results? Explain and give\n",
    "reasons for your answer."
   ]
  },
  {
   "cell_type": "code",
   "execution_count": 7,
   "metadata": {
    "collapsed": false
   },
   "outputs": [
    {
     "data": {
      "text/plain": [
       "58.18807322170272"
      ]
     },
     "execution_count": 7,
     "metadata": {},
     "output_type": "execute_result"
    }
   ],
   "source": [
    "sp = m.sqrt(((n1 - 1)* m.pow(sd1,2) + (n2 - 1)* m.pow(sd2,2)) / (n1 + n2 -2))\n",
    "sp"
   ]
  },
  {
   "cell_type": "code",
   "execution_count": 8,
   "metadata": {
    "collapsed": false
   },
   "outputs": [
    {
     "data": {
      "text/plain": [
       "-0.25139099417628497"
      ]
     },
     "execution_count": 8,
     "metadata": {},
     "output_type": "execute_result"
    }
   ],
   "source": [
    "t = ((x1 - x2) - 0) / sp * m.sqrt(1/n1 + 1/n2)\n",
    "t"
   ]
  },
  {
   "cell_type": "markdown",
   "metadata": {},
   "source": [
    "t(-0.251,0.251) not equal to c(-1.980, 1.980), therefore Ho is rejected"
   ]
  },
  {
   "cell_type": "code",
   "execution_count": null,
   "metadata": {
    "collapsed": true
   },
   "outputs": [],
   "source": []
  }
 ],
 "metadata": {
  "kernelspec": {
   "display_name": "Python 3",
   "language": "python",
   "name": "python3"
  },
  "language_info": {
   "codemirror_mode": {
    "name": "ipython",
    "version": 3
   },
   "file_extension": ".py",
   "mimetype": "text/x-python",
   "name": "python",
   "nbconvert_exporter": "python",
   "pygments_lexer": "ipython3",
   "version": "3.6.0"
  }
 },
 "nbformat": 4,
 "nbformat_minor": 2
}
