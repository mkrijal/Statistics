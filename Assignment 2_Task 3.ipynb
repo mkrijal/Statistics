{
 "cells": [
  {
   "cell_type": "markdown",
   "metadata": {},
   "source": [
    "Following his graduation from college, Tony Smith wanted to continue to live and work in Oxford.\n",
    "However, the community was small and there were not a lot of readily available opportunities for a new\n",
    "college graduate. Fortunately, Tony had some experience working in the food service industry gained in\n",
    "the summers and throughout high school at his uncle’s restaurant in Buffalo. When Tony decided to\n",
    "leverage his experience into a small delivery and take-out restaurant located close to the university, he\n",
    "thought he had hit on a great idea. Tony would offer a limited fare consisting of the Buffalo wings his\n",
    "uncle had perfected at his restaurant. Tony called his restaurant Wings of Fire. Although success came\n",
    "slowly, the uniqueness of Tony’s offering coupled with the growth of the university community made\n",
    "Wings of Fire a success. Tony’s business was pretty simple. Tony purchased wings locally. The wings\n",
    "were then seasoned and prepared in Tony’s restaurant. Once an order was received, Tony cooked the\n",
    "wings, which were then delivered or picked up by the customer. Tony’s establishment was small and\n",
    "there was no place for customers to dine in the restaurant. However, his wings proved so popular that\n",
    "over time Tony hired several employees, including three delivery drivers. Business was steady and\n",
    "predictable during the week, with the biggest days being home-football Saturdays.\n",
    "A little over a year ago, Oxford really began to grow and expand. Tony noticed that his business was\n",
    "beginning to suffer when other fast-food delivery restaurants opened around campus. Some of these\n",
    "restaurants were offering guarantees such as “30 minutes or it’s free.” Tony’s Wings of Fire now had to\n",
    "compete with fish tacos, specialty pizzas, and gourmet burgers. Most of these new restaurants,\n",
    "however, were dine-in establishments that provided carry-out and delivery as a customer convenience.\n",
    "However, Tony was certain that he would need to offer a delivery guarantee to remain competitive with\n",
    "the newer establishments. Tony was certain that a delivery guarantee of “30 minutes or it’s free” could\n",
    "easily be accomplished every day except on football Saturdays. Tony thought that if he could offer a 30\n",
    "minute guarantee on his busiest day, he would be able to hold onto and perhaps even recover market\n",
    "share from the competition. However, before he was willing to commit to such a guarantee, Tony\n",
    "wanted to ensure that it was possible to meet the 30-minute promise. Tony knew it would be no\n",
    "problem for customers to pick up orders within 30 minutes of phoning them in. However, he was less\n",
    "confident about delivering orders to customers in 30 minutes or less. Not only would the wings need to\n",
    "be cooked and packaged, but the delivery time might be affected by the availability of drivers. Tony\n",
    "decided that he needed to analyze the opportunity further. As a part of his analysis, Tony decided to\n",
    "take a random sample of deliveries over five different football weekends. Cooking time and packaging\n",
    "time were not considered in his analysis because wings were not cooked for individual orders. Rather,\n",
    "large numbers of wings were cooked at a single time and then packaged in boxes of 12. Tony therefore\n",
    "decided to focus his analysis on the time required to deliver cooked and packaged wings. He collected\n",
    "information on the amount of time an order had to wait for a driver (the pick-up time) as well as the\n",
    "amount of time required to transport the wings to the customer (the drive time). The sampled\n",
    "information is in the file Wings of Fire. Tony is not willing to offer the guarantee on football Saturdays\n",
    "unless he can be reasonably sure that the total time to deliver a customer’s order is less than 30\n",
    "minutes, on average. Tony would also like to have an estimate of the actual time required to deliver a\n",
    "customer’s order on football Saturdays. Finally, Tony would like to know how likely it is that the total\n",
    "time to make a delivery would take more than 30 minutes. Based on the sampled data, should Tony\n",
    "offer the guarantee? What percent of the Saturday deliveries would result in a customer receiving a free\n",
    "order? What recommendations might help Tony improve his Saturday delivery times?"
   ]
  },
  {
   "cell_type": "markdown",
   "metadata": {},
   "source": [
    "a) Use the sample information to compute a measure of performance that Tony can use to analyze\n",
    "his delivery performance."
   ]
  },
  {
   "cell_type": "code",
   "execution_count": 4,
   "metadata": {
    "collapsed": true
   },
   "outputs": [],
   "source": [
    "import pandas as pd\n",
    "import numpy as np\n",
    "import scipy.stats as st \n",
    "import math as m"
   ]
  },
  {
   "cell_type": "code",
   "execution_count": 5,
   "metadata": {
    "collapsed": false
   },
   "outputs": [
    {
     "data": {
      "text/html": [
       "<div>\n",
       "<table border=\"1\" class=\"dataframe\">\n",
       "  <thead>\n",
       "    <tr style=\"text-align: right;\">\n",
       "      <th></th>\n",
       "      <th>Pick-up Time</th>\n",
       "      <th>Drive Time</th>\n",
       "    </tr>\n",
       "  </thead>\n",
       "  <tbody>\n",
       "    <tr>\n",
       "      <th>NaN</th>\n",
       "      <td>4.94</td>\n",
       "      <td>26.96</td>\n",
       "    </tr>\n",
       "    <tr>\n",
       "      <th>NaN</th>\n",
       "      <td>0.00</td>\n",
       "      <td>21.73</td>\n",
       "    </tr>\n",
       "    <tr>\n",
       "      <th>NaN</th>\n",
       "      <td>4.98</td>\n",
       "      <td>19.74</td>\n",
       "    </tr>\n",
       "    <tr>\n",
       "      <th>NaN</th>\n",
       "      <td>5.03</td>\n",
       "      <td>20.08</td>\n",
       "    </tr>\n",
       "    <tr>\n",
       "      <th>NaN</th>\n",
       "      <td>4.15</td>\n",
       "      <td>19.04</td>\n",
       "    </tr>\n",
       "  </tbody>\n",
       "</table>\n",
       "</div>"
      ],
      "text/plain": [
       "     Pick-up Time  Drive Time\n",
       "NaN          4.94       26.96\n",
       "NaN          0.00       21.73\n",
       "NaN          4.98       19.74\n",
       "NaN          5.03       20.08\n",
       "NaN          4.15       19.04"
      ]
     },
     "execution_count": 5,
     "metadata": {},
     "output_type": "execute_result"
    }
   ],
   "source": [
    "delivery = pd.read_excel('D://Business Statistic/MANB1123-master/MANB1123-master/Data_Set/WingsofFire.xlsx')\n",
    "delivery.head()"
   ]
  },
  {
   "cell_type": "code",
   "execution_count": 6,
   "metadata": {
    "collapsed": false
   },
   "outputs": [
    {
     "data": {
      "text/plain": [
       "200"
      ]
     },
     "execution_count": 6,
     "metadata": {},
     "output_type": "execute_result"
    }
   ],
   "source": [
    "n = delivery.shape[0]\n",
    "n"
   ]
  },
  {
   "cell_type": "code",
   "execution_count": 15,
   "metadata": {
    "collapsed": false
   },
   "outputs": [
    {
     "data": {
      "text/html": [
       "<div>\n",
       "<table border=\"1\" class=\"dataframe\">\n",
       "  <thead>\n",
       "    <tr style=\"text-align: right;\">\n",
       "      <th></th>\n",
       "      <th>Pick-up Time</th>\n",
       "      <th>Drive Time</th>\n",
       "      <th>Total</th>\n",
       "    </tr>\n",
       "  </thead>\n",
       "  <tbody>\n",
       "    <tr>\n",
       "      <th>NaN</th>\n",
       "      <td>4.94</td>\n",
       "      <td>26.96</td>\n",
       "      <td>31.90</td>\n",
       "    </tr>\n",
       "    <tr>\n",
       "      <th>NaN</th>\n",
       "      <td>0.00</td>\n",
       "      <td>21.73</td>\n",
       "      <td>21.73</td>\n",
       "    </tr>\n",
       "    <tr>\n",
       "      <th>NaN</th>\n",
       "      <td>4.98</td>\n",
       "      <td>19.74</td>\n",
       "      <td>24.72</td>\n",
       "    </tr>\n",
       "    <tr>\n",
       "      <th>NaN</th>\n",
       "      <td>5.03</td>\n",
       "      <td>20.08</td>\n",
       "      <td>25.11</td>\n",
       "    </tr>\n",
       "    <tr>\n",
       "      <th>NaN</th>\n",
       "      <td>4.15</td>\n",
       "      <td>19.04</td>\n",
       "      <td>23.19</td>\n",
       "    </tr>\n",
       "  </tbody>\n",
       "</table>\n",
       "</div>"
      ],
      "text/plain": [
       "     Pick-up Time  Drive Time  Total\n",
       "NaN          4.94       26.96  31.90\n",
       "NaN          0.00       21.73  21.73\n",
       "NaN          4.98       19.74  24.72\n",
       "NaN          5.03       20.08  25.11\n",
       "NaN          4.15       19.04  23.19"
      ]
     },
     "execution_count": 15,
     "metadata": {},
     "output_type": "execute_result"
    }
   ],
   "source": [
    "delivery['Total'] = delivery['Pick-up Time'] + delivery['Drive Time']\n",
    "delivery.head()"
   ]
  },
  {
   "cell_type": "code",
   "execution_count": 16,
   "metadata": {
    "collapsed": false
   },
   "outputs": [
    {
     "data": {
      "text/plain": [
       "22.522599999999997"
      ]
     },
     "execution_count": 16,
     "metadata": {},
     "output_type": "execute_result"
    }
   ],
   "source": [
    "#Average pick-up time & Drive Time\n",
    "u = delivery.Total.mean()\n",
    "u"
   ]
  },
  {
   "cell_type": "code",
   "execution_count": 17,
   "metadata": {
    "collapsed": false
   },
   "outputs": [
    {
     "data": {
      "text/plain": [
       "23.757136924623108"
      ]
     },
     "execution_count": 17,
     "metadata": {},
     "output_type": "execute_result"
    }
   ],
   "source": [
    "#Variance pick-up time & Drive Time\n",
    "v = delivery.Total.var()\n",
    "v"
   ]
  },
  {
   "cell_type": "code",
   "execution_count": 18,
   "metadata": {
    "collapsed": false
   },
   "outputs": [
    {
     "data": {
      "text/plain": [
       "4.874129350419735"
      ]
     },
     "execution_count": 18,
     "metadata": {},
     "output_type": "execute_result"
    }
   ],
   "source": [
    "#Standard deviation pick-up time & Drive Time\n",
    "s= delivery.Total.std()\n",
    "s"
   ]
  },
  {
   "cell_type": "code",
   "execution_count": 19,
   "metadata": {
    "collapsed": false
   },
   "outputs": [
    {
     "data": {
      "text/plain": [
       "7"
      ]
     },
     "execution_count": 19,
     "metadata": {},
     "output_type": "execute_result"
    }
   ],
   "source": [
    "more = delivery['Total'] > 30\n",
    "more.sum()  #get total number of delivery more than 30 minutes"
   ]
  },
  {
   "cell_type": "markdown",
   "metadata": {},
   "source": [
    "b) State a hypothesis test that would help Tony decide to offer the delivery guarantee or not."
   ]
  },
  {
   "cell_type": "markdown",
   "metadata": {},
   "source": [
    "Ho: mean >= 30 minutes, Ha: mean < 30 minutes"
   ]
  },
  {
   "cell_type": "markdown",
   "metadata": {},
   "source": [
    "c) Calculate sample statistics and formally test the hypothesis stated in (b)."
   ]
  },
  {
   "cell_type": "code",
   "execution_count": 22,
   "metadata": {
    "collapsed": false
   },
   "outputs": [
    {
     "data": {
      "text/plain": [
       "0.035000000000000003"
      ]
     },
     "execution_count": 22,
     "metadata": {},
     "output_type": "execute_result"
    }
   ],
   "source": [
    "assume = more.sum()\n",
    "alpha = assume / 200\n",
    "alpha"
   ]
  },
  {
   "cell_type": "code",
   "execution_count": 27,
   "metadata": {
    "collapsed": false
   },
   "outputs": [
    {
     "data": {
      "text/plain": [
       "-1.6525467461659398"
      ]
     },
     "execution_count": 27,
     "metadata": {},
     "output_type": "execute_result"
    }
   ],
   "source": [
    "#Calculate critical value\n",
    "z = st.t.ppf(0.05, n-1)  #Assume alpha = 0.05\n",
    "z"
   ]
  },
  {
   "cell_type": "code",
   "execution_count": 47,
   "metadata": {
    "collapsed": false
   },
   "outputs": [
    {
     "data": {
      "text/plain": [
       "-21.695444931878864"
      ]
     },
     "execution_count": 47,
     "metadata": {},
     "output_type": "execute_result"
    }
   ],
   "source": [
    "# calculate t-test statistics\n",
    "\n",
    "value1 = u - 30\n",
    "value2 = s / m.sqrt(n)\n",
    "t = value1 / value2\n",
    "t"
   ]
  },
  {
   "cell_type": "markdown",
   "metadata": {},
   "source": [
    "t(-21.696) < z(-1.65), therefore Ho is rejected. Tony can offer delivery guarantee of “30 minutes or it’s free” because from the sample given, performance of delivery has increased."
   ]
  },
  {
   "cell_type": "code",
   "execution_count": null,
   "metadata": {
    "collapsed": true
   },
   "outputs": [],
   "source": []
  }
 ],
 "metadata": {
  "kernelspec": {
   "display_name": "Python 3",
   "language": "python",
   "name": "python3"
  },
  "language_info": {
   "codemirror_mode": {
    "name": "ipython",
    "version": 3
   },
   "file_extension": ".py",
   "mimetype": "text/x-python",
   "name": "python",
   "nbconvert_exporter": "python",
   "pygments_lexer": "ipython3",
   "version": "3.6.0"
  }
 },
 "nbformat": 4,
 "nbformat_minor": 2
}
