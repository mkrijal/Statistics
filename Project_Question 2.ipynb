{
 "cells": [
  {
   "cell_type": "markdown",
   "metadata": {},
   "source": [
    "2)The athletic director of State University is interested in developing a multiple regression model\n",
    "that might be used to explain the variation in attendance at football games at his school. A\n",
    "sample of 16 games was selected from home games played during the past 10 seasons. Data for\n",
    "the following factors were determined:\n",
    "<p>y = Game attendance</p>\n",
    "<p>x1 = Team win/loss percentage to date</p>\n",
    "<p>x2 = Opponent win/loss percentage to date</p>\n",
    "<p>x3 = Games played this season</p>\n",
    "<p>x4 = Temperature at game time</p>\n",
    "\n",
    "The data collected are in the file called Football. Provide the regression analysis report for\n",
    "athletic director of State University. Your report should explain and summarize the following:\n",
    "\n",
    "a)Scatter plots for each independent variable versus the dependent variable. Based on the\n",
    "scatter plots, produce a model that you believe represents the relationship between the\n",
    "dependent variable and the group of predictor variables represented in the scatter plots.\n",
    "\n",
    "b)Based on the correlation matrix developed from these data, comment on whether you\n",
    "think a multiple regression model will be effectively developed from these data.\n",
    "\n",
    "c)Use the sample data to estimate the multiple regression model that contains all four\n",
    "independent variables."
   ]
  },
  {
   "cell_type": "code",
   "execution_count": 78,
   "metadata": {
    "collapsed": true
   },
   "outputs": [],
   "source": [
    "import pandas as pd\n",
    "import numpy as np\n",
    "import scipy.stats as st \n",
    "import math as m"
   ]
  },
  {
   "cell_type": "code",
   "execution_count": 79,
   "metadata": {
    "collapsed": false
   },
   "outputs": [
    {
     "data": {
      "text/html": [
       "<div>\n",
       "<table border=\"1\" class=\"dataframe\">\n",
       "  <thead>\n",
       "    <tr style=\"text-align: right;\">\n",
       "      <th></th>\n",
       "      <th>Game Number</th>\n",
       "      <th>Game Attendance</th>\n",
       "      <th>Team Win/Loss Percentage</th>\n",
       "      <th>Opponent Win/Loss Percentage</th>\n",
       "      <th>Games Played</th>\n",
       "      <th>Temperature</th>\n",
       "    </tr>\n",
       "  </thead>\n",
       "  <tbody>\n",
       "    <tr>\n",
       "      <th>0</th>\n",
       "      <td>1</td>\n",
       "      <td>14502</td>\n",
       "      <td>33.3</td>\n",
       "      <td>80.0</td>\n",
       "      <td>6</td>\n",
       "      <td>47</td>\n",
       "    </tr>\n",
       "    <tr>\n",
       "      <th>1</th>\n",
       "      <td>2</td>\n",
       "      <td>12459</td>\n",
       "      <td>25.0</td>\n",
       "      <td>50.0</td>\n",
       "      <td>4</td>\n",
       "      <td>56</td>\n",
       "    </tr>\n",
       "    <tr>\n",
       "      <th>2</th>\n",
       "      <td>3</td>\n",
       "      <td>15600</td>\n",
       "      <td>80.0</td>\n",
       "      <td>66.6</td>\n",
       "      <td>5</td>\n",
       "      <td>55</td>\n",
       "    </tr>\n",
       "    <tr>\n",
       "      <th>3</th>\n",
       "      <td>4</td>\n",
       "      <td>16780</td>\n",
       "      <td>75.0</td>\n",
       "      <td>100.0</td>\n",
       "      <td>8</td>\n",
       "      <td>60</td>\n",
       "    </tr>\n",
       "    <tr>\n",
       "      <th>4</th>\n",
       "      <td>5</td>\n",
       "      <td>14600</td>\n",
       "      <td>60.0</td>\n",
       "      <td>80.0</td>\n",
       "      <td>10</td>\n",
       "      <td>55</td>\n",
       "    </tr>\n",
       "  </tbody>\n",
       "</table>\n",
       "</div>"
      ],
      "text/plain": [
       "   Game Number  Game Attendance  Team Win/Loss Percentage  \\\n",
       "0            1            14502                      33.3   \n",
       "1            2            12459                      25.0   \n",
       "2            3            15600                      80.0   \n",
       "3            4            16780                      75.0   \n",
       "4            5            14600                      60.0   \n",
       "\n",
       "   Opponent Win/Loss Percentage  Games Played  Temperature  \n",
       "0                          80.0             6           47  \n",
       "1                          50.0             4           56  \n",
       "2                          66.6             5           55  \n",
       "3                         100.0             8           60  \n",
       "4                          80.0            10           55  "
      ]
     },
     "execution_count": 79,
     "metadata": {},
     "output_type": "execute_result"
    }
   ],
   "source": [
    "football = pd.read_excel('D://Business Statistic/MANB1123-master/MANB1123-master/Data_Set/Football.xlsx')\n",
    "football.head()"
   ]
  },
  {
   "cell_type": "code",
   "execution_count": 80,
   "metadata": {
    "collapsed": false
   },
   "outputs": [
    {
     "data": {
      "text/plain": [
       "16"
      ]
     },
     "execution_count": 80,
     "metadata": {},
     "output_type": "execute_result"
    }
   ],
   "source": [
    "n = football.shape[0] #total rows\n",
    "n"
   ]
  },
  {
   "cell_type": "code",
   "execution_count": 81,
   "metadata": {
    "collapsed": false
   },
   "outputs": [
    {
     "data": {
      "text/plain": [
       "6"
      ]
     },
     "execution_count": 81,
     "metadata": {},
     "output_type": "execute_result"
    }
   ],
   "source": [
    "football.shape[1] # total columns"
   ]
  },
  {
   "cell_type": "code",
   "execution_count": 82,
   "metadata": {
    "collapsed": false
   },
   "outputs": [
    {
     "data": {
      "text/plain": [
       "Index(['Game Number', 'Game Attendance', 'Team Win/Loss Percentage',\n",
       "       'Opponent Win/Loss Percentage', 'Games Played', 'Temperature'],\n",
       "      dtype='object')"
      ]
     },
     "execution_count": 82,
     "metadata": {},
     "output_type": "execute_result"
    }
   ],
   "source": [
    "football.columns #list of columns"
   ]
  },
  {
   "cell_type": "code",
   "execution_count": 83,
   "metadata": {
    "collapsed": false
   },
   "outputs": [
    {
     "data": {
      "text/plain": [
       "Game Number                       int64\n",
       "Game Attendance                   int64\n",
       "Team Win/Loss Percentage        float64\n",
       "Opponent Win/Loss Percentage    float64\n",
       "Games Played                      int64\n",
       "Temperature                       int64\n",
       "dtype: object"
      ]
     },
     "execution_count": 83,
     "metadata": {},
     "output_type": "execute_result"
    }
   ],
   "source": [
    "football.dtypes"
   ]
  },
  {
   "cell_type": "markdown",
   "metadata": {},
   "source": [
    "a)Scatter plots for each independent variable versus the dependent variable. Based on the\n",
    "scatter plots, produce a model that you believe represents the relationship between the\n",
    "dependent variable and the group of predictor variables represented in the scatter plots."
   ]
  },
  {
   "cell_type": "code",
   "execution_count": 84,
   "metadata": {
    "collapsed": true
   },
   "outputs": [],
   "source": [
    "import seaborn as sns\n",
    "import matplotlib.pyplot as plt\n",
    "%matplotlib inline\n",
    "plt.rcParams['figure.figsize'] = (8, 6)\n",
    "plt.rcParams['font.size'] = 14"
   ]
  },
  {
   "cell_type": "code",
   "execution_count": 85,
   "metadata": {
    "collapsed": false
   },
   "outputs": [
    {
     "data": {
      "text/plain": [
       "<matplotlib.axes._subplots.AxesSubplot at 0x17e04e52898>"
      ]
     },
     "execution_count": 85,
     "metadata": {},
     "output_type": "execute_result"
    },
    {
     "data": {
      "image/png": "[encoded data removed]",
      "text/plain": [
       "<matplotlib.figure.Figure at 0x17e04e5d588>"
      ]
     },
     "metadata": {},
     "output_type": "display_data"
    }
   ],
   "source": [
    "# Pandas scatter plot\n",
    "football.plot(kind='scatter', x='Team Win/Loss Percentage', y='Game Attendance', alpha=0.2)"
   ]
  },
  {
   "cell_type": "code",
   "execution_count": 86,
   "metadata": {
    "collapsed": false
   },
   "outputs": [
    {
     "data": {
      "text/plain": [
       "<seaborn.axisgrid.FacetGrid at 0x17e04f0fa58>"
      ]
     },
     "execution_count": 86,
     "metadata": {},
     "output_type": "execute_result"
    },
    {
     "data": {
      "image/png": "[encoded data removed]",
      "text/plain": [
       "<matplotlib.figure.Figure at 0x17e04f0f6d8>"
      ]
     },
     "metadata": {},
     "output_type": "display_data"
    }
   ],
   "source": [
    "# Seaborn scatter plot with regression line\n",
    "sns.lmplot(x='Team Win/Loss Percentage', y='Game Attendance', data=football, aspect=1.5, scatter_kws={'alpha':0.2})"
   ]
  },
  {
   "cell_type": "code",
   "execution_count": 87,
   "metadata": {
    "collapsed": false
   },
   "outputs": [
    {
     "data": {
      "text/plain": [
       "<seaborn.axisgrid.FacetGrid at 0x17e04fb1a58>"
      ]
     },
     "execution_count": 87,
     "metadata": {},
     "output_type": "execute_result"
    },
    {
     "data": {
      "image/png": "[encoded data removed]",
      "text/plain": [
       "<matplotlib.figure.Figure at 0x17e04fb1be0>"
      ]
     },
     "metadata": {},
     "output_type": "display_data"
    }
   ],
   "source": [
    "# Seaborn scatter plot with regression line\n",
    "sns.lmplot(x='Opponent Win/Loss Percentage', y='Game Attendance', data=football, aspect=1.5, scatter_kws={'alpha':0.2})"
   ]
  },
  {
   "cell_type": "code",
   "execution_count": 88,
   "metadata": {
    "collapsed": false
   },
   "outputs": [
    {
     "data": {
      "text/plain": [
       "<seaborn.axisgrid.FacetGrid at 0x17e05058b00>"
      ]
     },
     "execution_count": 88,
     "metadata": {},
     "output_type": "execute_result"
    },
    {
     "data": {
      "image/png": "[encoded data removed]",
      "text/plain": [
       "<matplotlib.figure.Figure at 0x17e050583c8>"
      ]
     },
     "metadata": {},
     "output_type": "display_data"
    }
   ],
   "source": [
    "# Seaborn scatter plot with regression line\n",
    "sns.lmplot(x='Games Played', y='Game Attendance', data=football, aspect=1.5, scatter_kws={'alpha':0.2})"
   ]
  },
  {
   "cell_type": "code",
   "execution_count": 89,
   "metadata": {
    "collapsed": false
   },
   "outputs": [
    {
     "data": {
      "text/plain": [
       "<seaborn.axisgrid.FacetGrid at 0x17e05069c18>"
      ]
     },
     "execution_count": 89,
     "metadata": {},
     "output_type": "execute_result"
    },
    {
     "data": {
      "image/png": "[encoded data removed]",
      "text/plain": [
       "<matplotlib.figure.Figure at 0x17e050692e8>"
      ]
     },
     "metadata": {},
     "output_type": "display_data"
    }
   ],
   "source": [
    "# Seaborn scatter plot with regression line\n",
    "sns.lmplot(x='Temperature', y='Game Attendance', data=football, aspect=1.5, scatter_kws={'alpha':0.2})"
   ]
  },
  {
   "cell_type": "code",
   "execution_count": 90,
   "metadata": {
    "collapsed": false
   },
   "outputs": [
    {
     "data": {
      "text/plain": [
       "[33.299999999999997,\n",
       " 25.0,\n",
       " 80.0,\n",
       " 75.0,\n",
       " 60.0,\n",
       " 100.0,\n",
       " 66.599999999999994,\n",
       " 50.0,\n",
       " 80.0,\n",
       " 75.0,\n",
       " 20.0,\n",
       " 70.0,\n",
       " 83.299999999999997,\n",
       " 20.0,\n",
       " 80.0,\n",
       " 80.0]"
      ]
     },
     "execution_count": 90,
     "metadata": {},
     "output_type": "execute_result"
    }
   ],
   "source": [
    "x1 = football['Team Win/Loss Percentage']\n",
    "list(x1)"
   ]
  },
  {
   "cell_type": "code",
   "execution_count": 91,
   "metadata": {
    "collapsed": false
   },
   "outputs": [
    {
     "data": {
      "text/plain": [
       "[80.0,\n",
       " 50.0,\n",
       " 66.599999999999994,\n",
       " 100.0,\n",
       " 80.0,\n",
       " 60.0,\n",
       " 25.0,\n",
       " 50.0,\n",
       " 40.0,\n",
       " 100.0,\n",
       " 75.0,\n",
       " 70.0,\n",
       " 66.599999999999994,\n",
       " 20.0,\n",
       " 100.0,\n",
       " 70.0]"
      ]
     },
     "execution_count": 91,
     "metadata": {},
     "output_type": "execute_result"
    }
   ],
   "source": [
    "x2 = football['Opponent Win/Loss Percentage']\n",
    "list(x2)"
   ]
  },
  {
   "cell_type": "code",
   "execution_count": 92,
   "metadata": {
    "collapsed": false
   },
   "outputs": [
    {
     "data": {
      "text/plain": [
       "[6, 4, 5, 8, 10, 10, 3, 6, 10, 8, 5, 10, 6, 5, 8, 10]"
      ]
     },
     "execution_count": 92,
     "metadata": {},
     "output_type": "execute_result"
    }
   ],
   "source": [
    "x3 = football['Games Played']\n",
    "list(x3)"
   ]
  },
  {
   "cell_type": "code",
   "execution_count": 93,
   "metadata": {
    "collapsed": false
   },
   "outputs": [
    {
     "data": {
      "text/plain": [
       "[47, 56, 55, 60, 55, 49, 67, 55, 53, 48, 65, 56, 60, 59, 46, 50]"
      ]
     },
     "execution_count": 93,
     "metadata": {},
     "output_type": "execute_result"
    }
   ],
   "source": [
    "x4 = football['Temperature']\n",
    "list(x4)"
   ]
  },
  {
   "cell_type": "code",
   "execution_count": 94,
   "metadata": {
    "collapsed": false
   },
   "outputs": [
    {
     "data": {
      "text/plain": [
       "[14502,\n",
       " 12459,\n",
       " 15600,\n",
       " 16780,\n",
       " 14600,\n",
       " 19300,\n",
       " 14603,\n",
       " 15789,\n",
       " 17800,\n",
       " 19450,\n",
       " 13890,\n",
       " 15097,\n",
       " 17666,\n",
       " 12500,\n",
       " 16780,\n",
       " 17543]"
      ]
     },
     "execution_count": 94,
     "metadata": {},
     "output_type": "execute_result"
    }
   ],
   "source": [
    "y = football['Game Attendance']\n",
    "list(y)"
   ]
  },
  {
   "cell_type": "code",
   "execution_count": 95,
   "metadata": {
    "collapsed": false
   },
   "outputs": [],
   "source": [
    "del football['Game Number'] #remove game number column"
   ]
  },
  {
   "cell_type": "code",
   "execution_count": 96,
   "metadata": {
    "collapsed": false
   },
   "outputs": [
    {
     "data": {
      "text/plain": [
       "<matplotlib.axes._subplots.AxesSubplot at 0x17e062c66a0>"
      ]
     },
     "execution_count": 96,
     "metadata": {},
     "output_type": "execute_result"
    },
    {
     "data": {
      "image/png": "[encoded data removed]",
      "text/plain": [
       "<matplotlib.figure.Figure at 0x17e0511ab38>"
      ]
     },
     "metadata": {},
     "output_type": "display_data"
    }
   ],
   "source": [
    "# visualize the relationship between the features and the response using scatterplots\n",
    "fig, axs = plt.subplots(1, 4, sharey=True)\n",
    "football.plot(kind='scatter', x='Team Win/Loss Percentage', y='Game Attendance', ax=axs[0], figsize=(16, 8))\n",
    "football.plot(kind='scatter', x='Opponent Win/Loss Percentage', y='Game Attendance', ax=axs[1])\n",
    "football.plot(kind='scatter', x='Games Played', y='Game Attendance', ax=axs[2])\n",
    "football.plot(kind='scatter', x='Temperature', y='Game Attendance', ax=axs[3])"
   ]
  },
  {
   "cell_type": "markdown",
   "metadata": {},
   "source": [
    "b) Based on the correlation matrix developed from these data, comment on whether you\n",
    "think a multiple regression model will be effectively developed from these data."
   ]
  },
  {
   "cell_type": "code",
   "execution_count": 97,
   "metadata": {
    "collapsed": false
   },
   "outputs": [
    {
     "data": {
      "text/html": [
       "<div>\n",
       "<table border=\"1\" class=\"dataframe\">\n",
       "  <thead>\n",
       "    <tr style=\"text-align: right;\">\n",
       "      <th></th>\n",
       "      <th>Game Attendance</th>\n",
       "      <th>Team Win/Loss Percentage</th>\n",
       "      <th>Opponent Win/Loss Percentage</th>\n",
       "      <th>Games Played</th>\n",
       "      <th>Temperature</th>\n",
       "    </tr>\n",
       "  </thead>\n",
       "  <tbody>\n",
       "    <tr>\n",
       "      <th>Game Attendance</th>\n",
       "      <td>1.000000</td>\n",
       "      <td>0.848749</td>\n",
       "      <td>0.414250</td>\n",
       "      <td>0.599215</td>\n",
       "      <td>-0.476186</td>\n",
       "    </tr>\n",
       "    <tr>\n",
       "      <th>Team Win/Loss Percentage</th>\n",
       "      <td>0.848749</td>\n",
       "      <td>1.000000</td>\n",
       "      <td>0.286750</td>\n",
       "      <td>0.577958</td>\n",
       "      <td>-0.330096</td>\n",
       "    </tr>\n",
       "    <tr>\n",
       "      <th>Opponent Win/Loss Percentage</th>\n",
       "      <td>0.414250</td>\n",
       "      <td>0.286750</td>\n",
       "      <td>1.000000</td>\n",
       "      <td>0.403594</td>\n",
       "      <td>-0.446949</td>\n",
       "    </tr>\n",
       "    <tr>\n",
       "      <th>Games Played</th>\n",
       "      <td>0.599215</td>\n",
       "      <td>0.577958</td>\n",
       "      <td>0.403594</td>\n",
       "      <td>1.000000</td>\n",
       "      <td>-0.550083</td>\n",
       "    </tr>\n",
       "    <tr>\n",
       "      <th>Temperature</th>\n",
       "      <td>-0.476186</td>\n",
       "      <td>-0.330096</td>\n",
       "      <td>-0.446949</td>\n",
       "      <td>-0.550083</td>\n",
       "      <td>1.000000</td>\n",
       "    </tr>\n",
       "  </tbody>\n",
       "</table>\n",
       "</div>"
      ],
      "text/plain": [
       "                              Game Attendance  Team Win/Loss Percentage  \\\n",
       "Game Attendance                      1.000000                  0.848749   \n",
       "Team Win/Loss Percentage             0.848749                  1.000000   \n",
       "Opponent Win/Loss Percentage         0.414250                  0.286750   \n",
       "Games Played                         0.599215                  0.577958   \n",
       "Temperature                         -0.476186                 -0.330096   \n",
       "\n",
       "                              Opponent Win/Loss Percentage  Games Played  \\\n",
       "Game Attendance                                   0.414250      0.599215   \n",
       "Team Win/Loss Percentage                          0.286750      0.577958   \n",
       "Opponent Win/Loss Percentage                      1.000000      0.403594   \n",
       "Games Played                                      0.403594      1.000000   \n",
       "Temperature                                      -0.446949     -0.550083   \n",
       "\n",
       "                              Temperature  \n",
       "Game Attendance                 -0.476186  \n",
       "Team Win/Loss Percentage        -0.330096  \n",
       "Opponent Win/Loss Percentage    -0.446949  \n",
       "Games Played                    -0.550083  \n",
       "Temperature                      1.000000  "
      ]
     },
     "execution_count": 97,
     "metadata": {},
     "output_type": "execute_result"
    }
   ],
   "source": [
    "football.corr()"
   ]
  },
  {
   "cell_type": "markdown",
   "metadata": {},
   "source": [
    "Based on the correlation matrix, it is clear that dependent variables( Game Attendance) are significantly correlatee to two independent variables (Team Win/Loss Percentage & Games Played). Team Win/Loss Percentage (**0.848749**) and Games Played (**0.599215**) are higher than 0.5 and closer to 1.0 than 0.0"
   ]
  },
  {
   "cell_type": "markdown",
   "metadata": {},
   "source": [
    "c) Use the sample data to estimate the multiple regression model that contains all four\n",
    "independent variables."
   ]
  },
  {
   "cell_type": "code",
   "execution_count": 98,
   "metadata": {
    "collapsed": true
   },
   "outputs": [],
   "source": [
    "# this is the standard import if you're using \"formula notation\" (similar to R)\n",
    "import statsmodels.formula.api as smf"
   ]
  },
  {
   "cell_type": "code",
   "execution_count": 99,
   "metadata": {
    "collapsed": false
   },
   "outputs": [
    {
     "data": {
      "text/plain": [
       "Intercept    14122.240859\n",
       "x1              63.153253\n",
       "x2              10.095820\n",
       "x3              31.506218\n",
       "x4             -55.460906\n",
       "dtype: float64"
      ]
     },
     "execution_count": 99,
     "metadata": {},
     "output_type": "execute_result"
    }
   ],
   "source": [
    "# create a fitted model with all three features\n",
    "lm = smf.ols(formula='y ~ x1 + x2 + x3 + x4', data=football).fit()\n",
    "\n",
    "# print the coefficients\n",
    "lm.params"
   ]
  },
  {
   "cell_type": "markdown",
   "metadata": {},
   "source": [
    "y^ = Beta0 + Beta1x1 + Beta2x2 + Beta3x3 + Beta4x4\n",
    "\n",
    "**y^ = 14122 + 63.15x1 + 10.1x2 + 31.5x3 - 55.5x4**"
   ]
  },
  {
   "cell_type": "code",
   "execution_count": 100,
   "metadata": {
    "collapsed": false
   },
   "outputs": [
    {
     "name": "stderr",
     "output_type": "stream",
     "text": [
      "C:\\Users\\mkrijal\\Anaconda3\\lib\\site-packages\\scipy\\stats\\stats.py:1327: UserWarning: kurtosistest only valid for n>=20 ... continuing anyway, n=16\n",
      "  \"anyway, n=%i\" % int(n))\n"
     ]
    },
    {
     "data": {
      "text/html": [
       "<table class=\"simpletable\">\n",
       "<caption>OLS Regression Results</caption>\n",
       "<tr>\n",
       "  <th>Dep. Variable:</th>            <td>y</td>        <th>  R-squared:         </th> <td>   0.775</td>\n",
       "</tr>\n",
       "<tr>\n",
       "  <th>Model:</th>                   <td>OLS</td>       <th>  Adj. R-squared:    </th> <td>   0.694</td>\n",
       "</tr>\n",
       "<tr>\n",
       "  <th>Method:</th>             <td>Least Squares</td>  <th>  F-statistic:       </th> <td>   9.491</td>\n",
       "</tr>\n",
       "<tr>\n",
       "  <th>Date:</th>             <td>Sat, 29 Apr 2017</td> <th>  Prob (F-statistic):</th>  <td>0.00143</td>\n",
       "</tr>\n",
       "<tr>\n",
       "  <th>Time:</th>                 <td>20:07:57</td>     <th>  Log-Likelihood:    </th> <td> -132.93</td>\n",
       "</tr>\n",
       "<tr>\n",
       "  <th>No. Observations:</th>      <td>    16</td>      <th>  AIC:               </th> <td>   275.9</td>\n",
       "</tr>\n",
       "<tr>\n",
       "  <th>Df Residuals:</th>          <td>    11</td>      <th>  BIC:               </th> <td>   279.7</td>\n",
       "</tr>\n",
       "<tr>\n",
       "  <th>Df Model:</th>              <td>     4</td>      <th>                     </th>     <td> </td>   \n",
       "</tr>\n",
       "<tr>\n",
       "  <th>Covariance Type:</th>      <td>nonrobust</td>    <th>                     </th>     <td> </td>   \n",
       "</tr>\n",
       "</table>\n",
       "<table class=\"simpletable\">\n",
       "<tr>\n",
       "      <td></td>         <th>coef</th>     <th>std err</th>      <th>t</th>      <th>P>|t|</th> <th>[95.0% Conf. Int.]</th> \n",
       "</tr>\n",
       "<tr>\n",
       "  <th>Intercept</th> <td> 1.412e+04</td> <td> 4335.792</td> <td>    3.257</td> <td> 0.008</td> <td> 4579.228  2.37e+04</td>\n",
       "</tr>\n",
       "<tr>\n",
       "  <th>x1</th>        <td>   63.1533</td> <td>   14.939</td> <td>    4.227</td> <td> 0.001</td> <td>   30.273    96.033</td>\n",
       "</tr>\n",
       "<tr>\n",
       "  <th>x2</th>        <td>   10.0958</td> <td>   14.314</td> <td>    0.705</td> <td> 0.495</td> <td>  -21.409    41.601</td>\n",
       "</tr>\n",
       "<tr>\n",
       "  <th>x3</th>        <td>   31.5062</td> <td>  177.130</td> <td>    0.178</td> <td> 0.862</td> <td> -358.354   421.366</td>\n",
       "</tr>\n",
       "<tr>\n",
       "  <th>x4</th>        <td>  -55.4609</td> <td>   62.094</td> <td>   -0.893</td> <td> 0.391</td> <td> -192.128    81.206</td>\n",
       "</tr>\n",
       "</table>\n",
       "<table class=\"simpletable\">\n",
       "<tr>\n",
       "  <th>Omnibus:</th>       <td> 0.483</td> <th>  Durbin-Watson:     </th> <td>   1.776</td>\n",
       "</tr>\n",
       "<tr>\n",
       "  <th>Prob(Omnibus):</th> <td> 0.785</td> <th>  Jarque-Bera (JB):  </th> <td>   0.554</td>\n",
       "</tr>\n",
       "<tr>\n",
       "  <th>Skew:</th>          <td> 0.136</td> <th>  Prob(JB):          </th> <td>   0.758</td>\n",
       "</tr>\n",
       "<tr>\n",
       "  <th>Kurtosis:</th>      <td> 2.131</td> <th>  Cond. No.          </th> <td>1.59e+03</td>\n",
       "</tr>\n",
       "</table>"
      ],
      "text/plain": [
       "<class 'statsmodels.iolib.summary.Summary'>\n",
       "\"\"\"\n",
       "                            OLS Regression Results                            \n",
       "==============================================================================\n",
       "Dep. Variable:                      y   R-squared:                       0.775\n",
       "Model:                            OLS   Adj. R-squared:                  0.694\n",
       "Method:                 Least Squares   F-statistic:                     9.491\n",
       "Date:                Sat, 29 Apr 2017   Prob (F-statistic):            0.00143\n",
       "Time:                        20:07:57   Log-Likelihood:                -132.93\n",
       "No. Observations:                  16   AIC:                             275.9\n",
       "Df Residuals:                      11   BIC:                             279.7\n",
       "Df Model:                           4                                         \n",
       "Covariance Type:            nonrobust                                         \n",
       "==============================================================================\n",
       "                 coef    std err          t      P>|t|      [95.0% Conf. Int.]\n",
       "------------------------------------------------------------------------------\n",
       "Intercept   1.412e+04   4335.792      3.257      0.008      4579.228  2.37e+04\n",
       "x1            63.1533     14.939      4.227      0.001        30.273    96.033\n",
       "x2            10.0958     14.314      0.705      0.495       -21.409    41.601\n",
       "x3            31.5062    177.130      0.178      0.862      -358.354   421.366\n",
       "x4           -55.4609     62.094     -0.893      0.391      -192.128    81.206\n",
       "==============================================================================\n",
       "Omnibus:                        0.483   Durbin-Watson:                   1.776\n",
       "Prob(Omnibus):                  0.785   Jarque-Bera (JB):                0.554\n",
       "Skew:                           0.136   Prob(JB):                        0.758\n",
       "Kurtosis:                       2.131   Cond. No.                     1.59e+03\n",
       "==============================================================================\n",
       "\n",
       "Warnings:\n",
       "[1] Standard Errors assume that the covariance matrix of the errors is correctly specified.\n",
       "[2] The condition number is large, 1.59e+03. This might indicate that there are\n",
       "strong multicollinearity or other numerical problems.\n",
       "\"\"\""
      ]
     },
     "execution_count": 100,
     "metadata": {},
     "output_type": "execute_result"
    }
   ],
   "source": [
    "# print a summary of the fitted model\n",
    "lm.summary()"
   ]
  },
  {
   "cell_type": "markdown",
   "metadata": {},
   "source": [
    "d) What percentage of the total variation in the dependent variable is explained by the four\n",
    "independent variables in the model?"
   ]
  },
  {
   "cell_type": "markdown",
   "metadata": {},
   "source": [
    "R-squared = **77.5%**\n",
    "\n",
    "Generally, the higher the R-squared, the better the model fits data"
   ]
  },
  {
   "cell_type": "markdown",
   "metadata": {},
   "source": [
    "e) Test to determine whether the overall model is statistically significant. Use alpha= 0.05"
   ]
  },
  {
   "cell_type": "markdown",
   "metadata": {},
   "source": [
    "**Ho: p = Beta0 = Beta1 = Beta2 = Beta3 = Beta4 = 0**\n",
    "\n",
    "**Ha: p not equal to 0**\n",
    "\n",
    "F-statististic = **9.491**, Prob(F-stat) = **0.00143**\n",
    "\n",
    "P-value is small but not equal to 0 so we reject Ho\n",
    "\n",
    "Since P-value is **0.00143** and less than alpha = **0.05**, the model is statiscally significant \n",
    "\n"
   ]
  },
  {
   "cell_type": "markdown",
   "metadata": {},
   "source": [
    "f) Which, if any, of the independent variables is statistically significant? Use a significance\n",
    "level of alpha =0.08 and the p-value approach to conduct these tests."
   ]
  },
  {
   "cell_type": "code",
   "execution_count": 101,
   "metadata": {
    "collapsed": false
   },
   "outputs": [
    {
     "data": {
      "text/plain": [
       "Intercept    0.007638\n",
       "x1           0.001418\n",
       "x2           0.495280\n",
       "x3           0.862058\n",
       "x4           0.390883\n",
       "dtype: float64"
      ]
     },
     "execution_count": 101,
     "metadata": {},
     "output_type": "execute_result"
    }
   ],
   "source": [
    "lm.pvalues"
   ]
  },
  {
   "cell_type": "markdown",
   "metadata": {},
   "source": [
    "if alpha = 0.08, **Team Win/Loss Percentage (0.001)**  is the only independent variable that statiscally significant"
   ]
  },
  {
   "cell_type": "markdown",
   "metadata": {},
   "source": [
    "g) Estimate the standard deviation of the model error and discuss whether this regression\n",
    "model is acceptable as a means of predicting the football attendance at State University at\n",
    "any given game."
   ]
  },
  {
   "cell_type": "code",
   "execution_count": 102,
   "metadata": {
    "collapsed": true
   },
   "outputs": [],
   "source": [
    "from statsmodels.stats.anova import anova_lm"
   ]
  },
  {
   "cell_type": "code",
   "execution_count": 103,
   "metadata": {
    "collapsed": false
   },
   "outputs": [
    {
     "name": "stderr",
     "output_type": "stream",
     "text": [
      "C:\\Users\\mkrijal\\Anaconda3\\lib\\site-packages\\scipy\\stats\\_distn_infrastructure.py:875: RuntimeWarning: invalid value encountered in greater\n",
      "  return (self.a < x) & (x < self.b)\n",
      "C:\\Users\\mkrijal\\Anaconda3\\lib\\site-packages\\scipy\\stats\\_distn_infrastructure.py:875: RuntimeWarning: invalid value encountered in less\n",
      "  return (self.a < x) & (x < self.b)\n",
      "C:\\Users\\mkrijal\\Anaconda3\\lib\\site-packages\\scipy\\stats\\_distn_infrastructure.py:1814: RuntimeWarning: invalid value encountered in less_equal\n",
      "  cond2 = cond0 & (x <= self.a)\n"
     ]
    },
    {
     "data": {
      "text/html": [
       "<div>\n",
       "<table border=\"1\" class=\"dataframe\">\n",
       "  <thead>\n",
       "    <tr style=\"text-align: right;\">\n",
       "      <th></th>\n",
       "      <th>df</th>\n",
       "      <th>sum_sq</th>\n",
       "      <th>mean_sq</th>\n",
       "      <th>F</th>\n",
       "      <th>PR(&gt;F)</th>\n",
       "    </tr>\n",
       "  </thead>\n",
       "  <tbody>\n",
       "    <tr>\n",
       "      <th>x1</th>\n",
       "      <td>1.0</td>\n",
       "      <td>4.945640e+07</td>\n",
       "      <td>4.945640e+07</td>\n",
       "      <td>35.271798</td>\n",
       "      <td>0.000097</td>\n",
       "    </tr>\n",
       "    <tr>\n",
       "      <th>x2</th>\n",
       "      <td>1.0</td>\n",
       "      <td>2.184077e+06</td>\n",
       "      <td>2.184077e+06</td>\n",
       "      <td>1.557661</td>\n",
       "      <td>0.237921</td>\n",
       "    </tr>\n",
       "    <tr>\n",
       "      <th>x3</th>\n",
       "      <td>1.0</td>\n",
       "      <td>4.709864e+05</td>\n",
       "      <td>4.709864e+05</td>\n",
       "      <td>0.335903</td>\n",
       "      <td>0.573882</td>\n",
       "    </tr>\n",
       "    <tr>\n",
       "      <th>x4</th>\n",
       "      <td>1.0</td>\n",
       "      <td>1.118596e+06</td>\n",
       "      <td>1.118596e+06</td>\n",
       "      <td>0.797771</td>\n",
       "      <td>0.390883</td>\n",
       "    </tr>\n",
       "    <tr>\n",
       "      <th>Residual</th>\n",
       "      <td>11.0</td>\n",
       "      <td>1.542366e+07</td>\n",
       "      <td>1.402151e+06</td>\n",
       "      <td>NaN</td>\n",
       "      <td>NaN</td>\n",
       "    </tr>\n",
       "  </tbody>\n",
       "</table>\n",
       "</div>"
      ],
      "text/plain": [
       "            df        sum_sq       mean_sq          F    PR(>F)\n",
       "x1         1.0  4.945640e+07  4.945640e+07  35.271798  0.000097\n",
       "x2         1.0  2.184077e+06  2.184077e+06   1.557661  0.237921\n",
       "x3         1.0  4.709864e+05  4.709864e+05   0.335903  0.573882\n",
       "x4         1.0  1.118596e+06  1.118596e+06   0.797771  0.390883\n",
       "Residual  11.0  1.542366e+07  1.402151e+06        NaN       NaN"
      ]
     },
     "execution_count": 103,
     "metadata": {},
     "output_type": "execute_result"
    }
   ],
   "source": [
    "# Peform analysis of variance on fitted linear model\n",
    "anova_results = anova_lm(lm)\n",
    "anova_results"
   ]
  },
  {
   "cell_type": "code",
   "execution_count": 104,
   "metadata": {
    "collapsed": false
   },
   "outputs": [
    {
     "data": {
      "text/plain": [
       "1.1841241488965588"
      ]
     },
     "execution_count": 104,
     "metadata": {},
     "output_type": "execute_result"
    }
   ],
   "source": [
    "mean_sq = 1.40215  #mean square of residual\n",
    "se = m.sqrt(mean_sq)\n",
    "se"
   ]
  },
  {
   "cell_type": "code",
   "execution_count": 105,
   "metadata": {
    "collapsed": false
   },
   "outputs": [
    {
     "data": {
      "text/plain": [
       "2.3682482977931176"
      ]
     },
     "execution_count": 105,
     "metadata": {},
     "output_type": "execute_result"
    }
   ],
   "source": [
    "#following the rule of thumb +-2(Standard error)\n",
    "attendance = 2 * se #prediction of any game\n",
    "attendance"
   ]
  },
  {
   "cell_type": "markdown",
   "metadata": {},
   "source": [
    "Prediction of game attendance is around **+2368** or **-2368**"
   ]
  },
  {
   "cell_type": "markdown",
   "metadata": {},
   "source": [
    "h) Develop a 95% confidence interval estimate for each of the regression coefficients and\n",
    "interpret each estimate. Comment on whether the interpretation of the intercept is\n",
    "relevant in this situation."
   ]
  },
  {
   "cell_type": "code",
   "execution_count": 106,
   "metadata": {
    "collapsed": false
   },
   "outputs": [
    {
     "data": {
      "text/plain": [
       "2.5930926824101492"
      ]
     },
     "execution_count": 106,
     "metadata": {},
     "output_type": "execute_result"
    }
   ],
   "source": [
    "tvalue = st.t.ppf(1-0.025/2, 11)\n",
    "tvalue"
   ]
  },
  {
   "cell_type": "code",
   "execution_count": 107,
   "metadata": {
    "collapsed": false
   },
   "outputs": [
    {
     "name": "stdout",
     "output_type": "stream",
     "text": [
      "24.4091953248 101.890804675\n"
     ]
    }
   ],
   "source": [
    "#confidence interval for x1(Team Win/Loss Percentage)\n",
    "\n",
    "x1b1 = 63.15\n",
    "x1s = 14.94\n",
    "\n",
    "ci_x1neg = x1b1 - tvalue * x1s\n",
    "ci_x1pos = x1b1 + tvalue * x1s\n",
    "\n",
    "\n",
    "print (ci_x1neg, ci_x1pos)"
   ]
  },
  {
   "cell_type": "code",
   "execution_count": 108,
   "metadata": {
    "collapsed": false
   },
   "outputs": [
    {
     "name": "stdout",
     "output_type": "stream",
     "text": [
      "-27.0071562853 47.2071562853\n"
     ]
    }
   ],
   "source": [
    "#confidence interval for x2(Opponent Win/Loss Percentage)\n",
    "\n",
    "x2b1 = 10.1\n",
    "x2s = 14.31\n",
    "\n",
    "ci_x2neg = x2b1 - tvalue * x2s\n",
    "ci_x2pos = x2b1 + tvalue * x2s\n",
    "\n",
    "\n",
    "print (ci_x2neg, ci_x2pos)"
   ]
  },
  {
   "cell_type": "code",
   "execution_count": 109,
   "metadata": {
    "collapsed": false
   },
   "outputs": [
    {
     "name": "stdout",
     "output_type": "stream",
     "text": [
      "-427.804506835 490.824506835\n"
     ]
    }
   ],
   "source": [
    "#confidence interval for x3(Games Played)\n",
    "\n",
    "x3b1 = 31.51\n",
    "x3s = 177.13\n",
    "\n",
    "ci_x3neg = x3b1 - tvalue * x3s\n",
    "ci_x3pos = x3b1 + tvalue * x3s\n",
    "\n",
    "\n",
    "print (ci_x3neg, ci_x3pos)"
   ]
  },
  {
   "cell_type": "code",
   "execution_count": 110,
   "metadata": {
    "collapsed": false
   },
   "outputs": [
    {
     "name": "stdout",
     "output_type": "stream",
     "text": [
      "-216.465124651 105.545124651\n"
     ]
    }
   ],
   "source": [
    "#confidence interval for x4(Temperature)\n",
    "\n",
    "x4b1 = -55.46\n",
    "x4s = 62.09\n",
    "\n",
    "ci_x4neg = x4b1 - tvalue * x4s\n",
    "ci_x4pos = x4b1 + tvalue * x4s\n",
    "\n",
    "\n",
    "print (ci_x4neg, ci_x4pos)"
   ]
  },
  {
   "cell_type": "code",
   "execution_count": 111,
   "metadata": {
    "collapsed": false
   },
   "outputs": [],
   "source": [
    "def getStats (xb, tv, xs):\n",
    "    ci1 = xb - tv * xs\n",
    "    ci2 = xb + tv * xs\n",
    "    \n",
    "    return(ci1, ci2) "
   ]
  },
  {
   "cell_type": "code",
   "execution_count": 112,
   "metadata": {
    "collapsed": false
   },
   "outputs": [
    {
     "data": {
      "text/plain": [
       "(24.409195324792371, 101.89080467520762)"
      ]
     },
     "execution_count": 112,
     "metadata": {},
     "output_type": "execute_result"
    }
   ],
   "source": [
    "getStats(x1b1, tvalue, x1s)"
   ]
  },
  {
   "cell_type": "code",
   "execution_count": 114,
   "metadata": {
    "collapsed": false
   },
   "outputs": [
    {
     "data": {
      "text/plain": [
       "(-27.007156285289234, 47.207156285289237)"
      ]
     },
     "execution_count": 114,
     "metadata": {},
     "output_type": "execute_result"
    }
   ],
   "source": [
    "getStats(x2b1, tvalue, x2s)"
   ]
  },
  {
   "cell_type": "code",
   "execution_count": 115,
   "metadata": {
    "collapsed": false
   },
   "outputs": [
    {
     "data": {
      "text/plain": [
       "(-427.80450683530972, 490.82450683530971)"
      ]
     },
     "execution_count": 115,
     "metadata": {},
     "output_type": "execute_result"
    }
   ],
   "source": [
    "getStats(x3b1, tvalue, x3s)"
   ]
  },
  {
   "cell_type": "code",
   "execution_count": 116,
   "metadata": {
    "collapsed": false
   },
   "outputs": [
    {
     "data": {
      "text/plain": [
       "(-216.46512465084618, 105.54512465084616)"
      ]
     },
     "execution_count": 116,
     "metadata": {},
     "output_type": "execute_result"
    }
   ],
   "source": [
    "getStats(x4b1, tvalue, x4s)"
   ]
  },
  {
   "cell_type": "code",
   "execution_count": null,
   "metadata": {
    "collapsed": true
   },
   "outputs": [],
   "source": []
  }
 ],
 "metadata": {
  "kernelspec": {
   "display_name": "Python 3",
   "language": "python",
   "name": "python3"
  },
  "language_info": {
   "codemirror_mode": {
    "name": "ipython",
    "version": 3
   },
   "file_extension": ".py",
   "mimetype": "text/x-python",
   "name": "python",
   "nbconvert_exporter": "python",
   "pygments_lexer": "ipython3",
   "version": "3.6.0"
  }
 },
 "nbformat": 4,
 "nbformat_minor": 2
}
