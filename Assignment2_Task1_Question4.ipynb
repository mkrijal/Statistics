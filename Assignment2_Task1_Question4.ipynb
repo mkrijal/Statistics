{
 "cells": [
  {
   "cell_type": "markdown",
   "metadata": {},
   "source": [
    "Q4) The director of a state agency believes that the average starting salary for clerical employees in the state\n",
    "is less than RM30,000 per year. To test her hypothesis, she has collected a simple random sample of 100\n",
    "starting clerical salaries from across the state and found that the sample mean is RM29,750."
   ]
  },
  {
   "cell_type": "markdown",
   "metadata": {},
   "source": [
    "a) State the appropriate null and alternative hypotheses."
   ]
  },
  {
   "cell_type": "markdown",
   "metadata": {},
   "source": [
    "Hypothesis claim average starting salary is less than RM30,000 per year"
   ]
  },
  {
   "cell_type": "markdown",
   "metadata": {},
   "source": [
    "Ho : Average salary >= RM30000\n",
    "Ha : Average salary < RM30000"
   ]
  },
  {
   "cell_type": "markdown",
   "metadata": {},
   "source": [
    "b) Assuming the population standard deviation is known to be RM2,500 and the significance level for\n",
    "the test is to be 0.05, what is the critical value (stated in dollars)?"
   ]
  },
  {
   "cell_type": "code",
   "execution_count": 7,
   "metadata": {
    "collapsed": true
   },
   "outputs": [],
   "source": [
    "n = 100 #sample size\n",
    "sd = 2500 #sample standard deviation\n",
    "sl = 0.05 #significant level\n",
    "sm = 29750 #sample mean\n",
    "h = 30000 #hypothesis mean"
   ]
  },
  {
   "cell_type": "code",
   "execution_count": 8,
   "metadata": {
    "collapsed": true
   },
   "outputs": [],
   "source": [
    "import scipy.stats as st \n",
    "import math as m"
   ]
  },
  {
   "cell_type": "code",
   "execution_count": 9,
   "metadata": {
    "collapsed": false
   },
   "outputs": [
    {
     "name": "stdout",
     "output_type": "stream",
     "text": [
      "-1.0\n"
     ]
    }
   ],
   "source": [
    "#compute test statistic\n",
    "value1 = sm - h\n",
    "value2 = sd / m.sqrt(n)\n",
    "\n",
    "z = value1 / value2\n",
    "print(z)"
   ]
  },
  {
   "cell_type": "markdown",
   "metadata": {},
   "source": [
    "c) Referring to your answer in part b, what conclusion should be reached with respect to the null\n",
    "hypothesis?"
   ]
  },
  {
   "cell_type": "code",
   "execution_count": 10,
   "metadata": {
    "collapsed": false
   },
   "outputs": [
    {
     "data": {
      "text/plain": [
       "-1.6448536269514729"
      ]
     },
     "execution_count": 10,
     "metadata": {},
     "output_type": "execute_result"
    }
   ],
   "source": [
    "st.norm.ppf(sl)"
   ]
  },
  {
   "cell_type": "markdown",
   "metadata": {},
   "source": [
    "z(-1.0) > sl(-1.645), therefore Ho should be accepted. There is no sufficient evidence that average starting salry is less than RM30000"
   ]
  },
  {
   "cell_type": "markdown",
   "metadata": {},
   "source": [
    "d) Referring to your answer in part c, which of the two statistical errors might have been made in\n",
    "this case? Explain."
   ]
  },
  {
   "cell_type": "markdown",
   "metadata": {},
   "source": [
    "type II error have been made as they assume Ho is false when in fact it is true."
   ]
  },
  {
   "cell_type": "code",
   "execution_count": null,
   "metadata": {
    "collapsed": true
   },
   "outputs": [],
   "source": []
  }
 ],
 "metadata": {
  "kernelspec": {
   "display_name": "Python 3",
   "language": "python",
   "name": "python3"
  },
  "language_info": {
   "codemirror_mode": {
    "name": "ipython",
    "version": 3
   },
   "file_extension": ".py",
   "mimetype": "text/x-python",
   "name": "python",
   "nbconvert_exporter": "python",
   "pygments_lexer": "ipython3",
   "version": "3.6.0"
  }
 },
 "nbformat": 4,
 "nbformat_minor": 2
}
