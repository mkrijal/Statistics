{
 "cells": [
  {
   "cell_type": "markdown",
   "metadata": {},
   "source": [
    "Most major airlines allow passengers to carry two pieces of luggage (of a certain maximum size) onto\n",
    "the plane. However, their studies show that the more carry-on baggage passengers have, the longer it\n",
    "takes to unload and load passengers. One regional airline is considering changing its policy to allow only\n",
    "one carry-on per passenger. Before doing so, it decided to collect some data. Specifically, a random\n",
    "sample of 1,000 passengers was selected. The passengers were observed, and the number of bags\n",
    "carried on the plane was noted. Out of the 1,000 passengers, 345 had more than one bag."
   ]
  },
  {
   "cell_type": "markdown",
   "metadata": {},
   "source": [
    "a) Based on this sample, develop and interpret a 95% confidence interval estimate for the\n",
    "proportion of the traveling population that would have been impacted had the one-bag limit\n",
    "been in effect. Discuss your result."
   ]
  },
  {
   "cell_type": "code",
   "execution_count": 34,
   "metadata": {
    "collapsed": true
   },
   "outputs": [],
   "source": [
    "n = 1000\n",
    "a = 345\n",
    "\n",
    "affected = a / n #compute point estimate"
   ]
  },
  {
   "cell_type": "code",
   "execution_count": 35,
   "metadata": {
    "collapsed": false
   },
   "outputs": [
    {
     "name": "stdout",
     "output_type": "stream",
     "text": [
      "0.345\n"
     ]
    }
   ],
   "source": [
    "print(affected)"
   ]
  },
  {
   "cell_type": "markdown",
   "metadata": {},
   "source": [
    "CONFIDENCE INTERVAL ESTIMATE FOR POP. PROPORTION"
   ]
  },
  {
   "cell_type": "code",
   "execution_count": 36,
   "metadata": {
    "collapsed": true
   },
   "outputs": [],
   "source": [
    "import scipy.stats as st \n",
    "import math as m\n",
    "import numpy as np"
   ]
  },
  {
   "cell_type": "code",
   "execution_count": 37,
   "metadata": {
    "collapsed": false
   },
   "outputs": [
    {
     "name": "stdout",
     "output_type": "stream",
     "text": [
      "-1.95996398454\n"
     ]
    }
   ],
   "source": [
    "z = st.norm.ppf((1-0.95) / 2) # get critical value\n",
    "print (z)"
   ]
  },
  {
   "cell_type": "code",
   "execution_count": 38,
   "metadata": {
    "collapsed": true
   },
   "outputs": [],
   "source": [
    "pp = affected * (1 - affected) / p  # calculate based on formula the value before being square root"
   ]
  },
  {
   "cell_type": "code",
   "execution_count": 39,
   "metadata": {
    "collapsed": false
   },
   "outputs": [
    {
     "data": {
      "text/plain": [
       "0.3155369102603553"
      ]
     },
     "execution_count": 39,
     "metadata": {},
     "output_type": "execute_result"
    }
   ],
   "source": [
    "#Calculate the upper tail\n",
    "\n",
    "affected + z * m.sqrt(pp)"
   ]
  },
  {
   "cell_type": "code",
   "execution_count": 40,
   "metadata": {
    "collapsed": false
   },
   "outputs": [
    {
     "data": {
      "text/plain": [
       "0.37446308973964465"
      ]
     },
     "execution_count": 40,
     "metadata": {},
     "output_type": "execute_result"
    }
   ],
   "source": [
    "#Calculate the lower tail\n",
    "\n",
    "affected - z * m.sqrt(pp)"
   ]
  },
  {
   "cell_type": "markdown",
   "metadata": {},
   "source": [
    "It will be 37.4% to 31.6% traveling population to be impact."
   ]
  },
  {
   "cell_type": "markdown",
   "metadata": {},
   "source": [
    "b) The domestic version of Boeing’s 747 has a capacity for 568 passengers. Determine an interval\n",
    "estimate of the number of passengers that you would expect to carry more than one piece of\n",
    "luggage on the plane. Assume the plane is at its passenger capacity."
   ]
  },
  {
   "cell_type": "code",
   "execution_count": 41,
   "metadata": {
    "collapsed": false
   },
   "outputs": [
    {
     "name": "stdout",
     "output_type": "stream",
     "text": [
      "0.305906539013\n",
      "0.384093460987\n"
     ]
    }
   ],
   "source": [
    "#new population proportion\n",
    "\n",
    "nn = 568\n",
    "new_pp = affected * (1 - affected) / nn  # calculate based on formula the value before being square root\n",
    "first = affected + z * m.sqrt(new_pp)\n",
    "second = affected - z * m.sqrt(new_pp)\n",
    "\n",
    "print (first)\n",
    "print (second)"
   ]
  },
  {
   "cell_type": "markdown",
   "metadata": {},
   "source": [
    "It will be 30.6% to 38.4% passengers travelling with more than 1 bag"
   ]
  }
 ],
 "metadata": {
  "kernelspec": {
   "display_name": "Python 3",
   "language": "python",
   "name": "python3"
  },
  "language_info": {
   "codemirror_mode": {
    "name": "ipython",
    "version": 3
   },
   "file_extension": ".py",
   "mimetype": "text/x-python",
   "name": "python",
   "nbconvert_exporter": "python",
   "pygments_lexer": "ipython3",
   "version": "3.6.0"
  }
 },
 "nbformat": 4,
 "nbformat_minor": 2
}
