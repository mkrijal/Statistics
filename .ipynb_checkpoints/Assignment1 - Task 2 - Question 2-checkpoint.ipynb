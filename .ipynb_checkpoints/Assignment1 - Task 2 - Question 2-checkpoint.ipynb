{
 "cells": [
  {
   "cell_type": "markdown",
   "metadata": {},
   "source": [
    "Paper-R-Us is a national distributor of printer and copier paper for commercial use. The data file called\n",
    "Sales contains the annual, year-to-date sales values for each of the company’s customers. Suppose the\n",
    "internal audit department has decided to audit a sample of these accounts. Specifically, they have\n",
    "decided to sample 36 accounts. However, before they actually conduct the in-depth audit (a process\n",
    "that involves tracking all transactions for each sampled account), they want to be sure that the sample\n",
    "they have selected is representative of the population."
   ]
  },
  {
   "cell_type": "markdown",
   "metadata": {},
   "source": [
    "a) Compute the population mean."
   ]
  },
  {
   "cell_type": "code",
   "execution_count": 1,
   "metadata": {
    "collapsed": true
   },
   "outputs": [],
   "source": [
    "import pandas as pd\n",
    "import numpy as np"
   ]
  },
  {
   "cell_type": "code",
   "execution_count": 2,
   "metadata": {
    "collapsed": false
   },
   "outputs": [
    {
     "data": {
      "text/html": [
       "<div>\n",
       "<table border=\"1\" class=\"dataframe\">\n",
       "  <thead>\n",
       "    <tr style=\"text-align: right;\">\n",
       "      <th></th>\n",
       "      <th>Account #</th>\n",
       "      <th>Sales</th>\n",
       "      <th>Region</th>\n",
       "    </tr>\n",
       "  </thead>\n",
       "  <tbody>\n",
       "    <tr>\n",
       "      <th>0</th>\n",
       "      <td>39004</td>\n",
       "      <td>10396</td>\n",
       "      <td>East</td>\n",
       "    </tr>\n",
       "    <tr>\n",
       "      <th>1</th>\n",
       "      <td>94574</td>\n",
       "      <td>9737</td>\n",
       "      <td>West</td>\n",
       "    </tr>\n",
       "    <tr>\n",
       "      <th>2</th>\n",
       "      <td>24608</td>\n",
       "      <td>9215</td>\n",
       "      <td>West</td>\n",
       "    </tr>\n",
       "    <tr>\n",
       "      <th>3</th>\n",
       "      <td>32790</td>\n",
       "      <td>10331</td>\n",
       "      <td>South</td>\n",
       "    </tr>\n",
       "    <tr>\n",
       "      <th>4</th>\n",
       "      <td>23208</td>\n",
       "      <td>11580</td>\n",
       "      <td>East</td>\n",
       "    </tr>\n",
       "  </tbody>\n",
       "</table>\n",
       "</div>"
      ],
      "text/plain": [
       "   Account #  Sales Region\n",
       "0      39004  10396   East\n",
       "1      94574   9737   West\n",
       "2      24608   9215   West\n",
       "3      32790  10331  South\n",
       "4      23208  11580   East"
      ]
     },
     "execution_count": 2,
     "metadata": {},
     "output_type": "execute_result"
    }
   ],
   "source": [
    "sales = pd.read_excel('D://Business Statistic/MANB1123-master/MANB1123-master/Data_Set/Sales.xlsx')\n",
    "sales.head()"
   ]
  },
  {
   "cell_type": "code",
   "execution_count": 3,
   "metadata": {
    "collapsed": false
   },
   "outputs": [
    {
     "data": {
      "text/plain": [
       "0    10396\n",
       "1     9737\n",
       "2     9215\n",
       "3    10331\n",
       "4    11580\n",
       "Name: Sales, dtype: int64"
      ]
     },
     "execution_count": 3,
     "metadata": {},
     "output_type": "execute_result"
    }
   ],
   "source": [
    "sales_value = sales['Sales']\n",
    "sales_value.head()"
   ]
  },
  {
   "cell_type": "code",
   "execution_count": 4,
   "metadata": {
    "collapsed": false
   },
   "outputs": [
    {
     "data": {
      "text/plain": [
       "9987.436"
      ]
     },
     "execution_count": 4,
     "metadata": {},
     "output_type": "execute_result"
    }
   ],
   "source": [
    "sales_value.mean() #mean value for sales population"
   ]
  },
  {
   "cell_type": "markdown",
   "metadata": {},
   "source": [
    "b) Use all the data in the population to develop a frequency distribution and histogram."
   ]
  },
  {
   "cell_type": "code",
   "execution_count": 9,
   "metadata": {
    "collapsed": true
   },
   "outputs": [],
   "source": [
    "import plotly.plotly as py\n",
    "import plotly.graph_objs as go"
   ]
  },
  {
   "cell_type": "code",
   "execution_count": 13,
   "metadata": {
    "collapsed": false
   },
   "outputs": [
    {
     "data": {
      "text/html": [
       "<iframe id=\"igraph\" scrolling=\"no\" style=\"border:none;\" seamless=\"seamless\" src=\"https://plot.ly/~mkrijal/4.embed\" height=\"525px\" width=\"100%\"></iframe>"
      ],
      "text/plain": [
       "<plotly.tools.PlotlyDisplay object>"
      ]
     },
     "execution_count": 13,
     "metadata": {},
     "output_type": "execute_result"
    }
   ],
   "source": [
    "x = sales['Sales']\n",
    "data2 = [go.Histogram(x=x)]\n",
    "\n",
    "py.iplot(data2, filename='basic histogram')"
   ]
  },
  {
   "cell_type": "code",
   "execution_count": 36,
   "metadata": {
    "collapsed": true
   },
   "outputs": [],
   "source": [
    "highest = sales_value.max() #highest value\n",
    "lowest = sales_value.min()   #lowest value\n",
    "bar = 5\n",
    "width = (highest - lowest)/ bar #bin size"
   ]
  },
  {
   "cell_type": "code",
   "execution_count": 39,
   "metadata": {
    "collapsed": false
   },
   "outputs": [
    {
     "data": {
      "text/html": [
       "<iframe id=\"igraph\" scrolling=\"no\" style=\"border:none;\" seamless=\"seamless\" src=\"https://plot.ly/~mkrijal/76.embed\" height=\"525px\" width=\"100%\"></iframe>"
      ],
      "text/plain": [
       "<plotly.tools.PlotlyDisplay object>"
      ]
     },
     "execution_count": 39,
     "metadata": {},
     "output_type": "execute_result"
    }
   ],
   "source": [
    "trace1 = go.Histogram(\n",
    "    x=sales['Sales'],\n",
    "    xbins=dict(start=6000, end = 13000, size = width),\n",
    "    opacity=0.75,\n",
    "    name='column 0'\n",
    ")\n",
    "\n",
    "data = [trace1]\n",
    "\n",
    "layout = go.Layout(\n",
    "    title='Paper-R-Us Sales',\n",
    "    barmode='overlay',\n",
    "    xaxis=dict(\n",
    "    title='Sales Value'\n",
    "    ),\n",
    "    yaxis=dict(\n",
    "        title='Frequency'\n",
    "    )\n",
    "\n",
    "\n",
    ") \n",
    "fig = go.Figure(data=data, layout=layout)\n",
    "py.iplot(fig)"
   ]
  },
  {
   "cell_type": "markdown",
   "metadata": {},
   "source": [
    "c) Calculate the proportion of accounts for customers in each region of the country."
   ]
  },
  {
   "cell_type": "code",
   "execution_count": 19,
   "metadata": {
    "collapsed": false
   },
   "outputs": [
    {
     "data": {
      "text/plain": [
       "Region\n",
       "East       99\n",
       "Midwest    44\n",
       "South      79\n",
       "West       28\n",
       "dtype: int64"
      ]
     },
     "execution_count": 19,
     "metadata": {},
     "output_type": "execute_result"
    }
   ],
   "source": [
    "sales.groupby('Region').size()"
   ]
  },
  {
   "cell_type": "code",
   "execution_count": 21,
   "metadata": {
    "collapsed": false
   },
   "outputs": [
    {
     "data": {
      "text/plain": [
       "250"
      ]
     },
     "execution_count": 21,
     "metadata": {},
     "output_type": "execute_result"
    }
   ],
   "source": [
    "#total population\n",
    "sales.shape[0]"
   ]
  },
  {
   "cell_type": "code",
   "execution_count": 24,
   "metadata": {
    "collapsed": false
   },
   "outputs": [
    {
     "name": "stdout",
     "output_type": "stream",
     "text": [
      "0.396\n",
      "0.176\n",
      "0.316\n",
      "0.112\n"
     ]
    }
   ],
   "source": [
    "#East proportion\n",
    "east = 99 / 250\n",
    "print (east)\n",
    "\n",
    "#Midwest proportion\n",
    "midwest = 44/250\n",
    "print (midwest)\n",
    "\n",
    "#South proportion\n",
    "south = 79 / 250\n",
    "print (south)\n",
    "\n",
    "#west proprtion\n",
    "west = 28 /250\n",
    "print (west)"
   ]
  },
  {
   "cell_type": "markdown",
   "metadata": {},
   "source": [
    "d) Select a random sample of accounts. Develop a frequency distribution for these sample data.\n",
    "Compare this distribution to that of the population. (Hint: You might want to consider using\n",
    "relative frequencies for comparison purposes.)"
   ]
  },
  {
   "cell_type": "code",
   "execution_count": 43,
   "metadata": {
    "collapsed": false
   },
   "outputs": [
    {
     "data": {
      "text/html": [
       "<div>\n",
       "<table border=\"1\" class=\"dataframe\">\n",
       "  <thead>\n",
       "    <tr style=\"text-align: right;\">\n",
       "      <th></th>\n",
       "      <th>Account #</th>\n",
       "      <th>Sales</th>\n",
       "      <th>Region</th>\n",
       "    </tr>\n",
       "  </thead>\n",
       "  <tbody>\n",
       "    <tr>\n",
       "      <th>0</th>\n",
       "      <td>39004</td>\n",
       "      <td>10396</td>\n",
       "      <td>East</td>\n",
       "    </tr>\n",
       "    <tr>\n",
       "      <th>1</th>\n",
       "      <td>94574</td>\n",
       "      <td>9737</td>\n",
       "      <td>West</td>\n",
       "    </tr>\n",
       "    <tr>\n",
       "      <th>2</th>\n",
       "      <td>24608</td>\n",
       "      <td>9215</td>\n",
       "      <td>West</td>\n",
       "    </tr>\n",
       "    <tr>\n",
       "      <th>3</th>\n",
       "      <td>32790</td>\n",
       "      <td>10331</td>\n",
       "      <td>South</td>\n",
       "    </tr>\n",
       "    <tr>\n",
       "      <th>4</th>\n",
       "      <td>23208</td>\n",
       "      <td>11580</td>\n",
       "      <td>East</td>\n",
       "    </tr>\n",
       "    <tr>\n",
       "      <th>5</th>\n",
       "      <td>59515</td>\n",
       "      <td>9762</td>\n",
       "      <td>Midwest</td>\n",
       "    </tr>\n",
       "    <tr>\n",
       "      <th>6</th>\n",
       "      <td>47612</td>\n",
       "      <td>8239</td>\n",
       "      <td>East</td>\n",
       "    </tr>\n",
       "    <tr>\n",
       "      <th>7</th>\n",
       "      <td>51835</td>\n",
       "      <td>10195</td>\n",
       "      <td>South</td>\n",
       "    </tr>\n",
       "    <tr>\n",
       "      <th>8</th>\n",
       "      <td>41108</td>\n",
       "      <td>8818</td>\n",
       "      <td>Midwest</td>\n",
       "    </tr>\n",
       "    <tr>\n",
       "      <th>9</th>\n",
       "      <td>82218</td>\n",
       "      <td>8954</td>\n",
       "      <td>Midwest</td>\n",
       "    </tr>\n",
       "    <tr>\n",
       "      <th>10</th>\n",
       "      <td>77863</td>\n",
       "      <td>10420</td>\n",
       "      <td>South</td>\n",
       "    </tr>\n",
       "    <tr>\n",
       "      <th>11</th>\n",
       "      <td>66235</td>\n",
       "      <td>9774</td>\n",
       "      <td>South</td>\n",
       "    </tr>\n",
       "    <tr>\n",
       "      <th>12</th>\n",
       "      <td>74948</td>\n",
       "      <td>9229</td>\n",
       "      <td>East</td>\n",
       "    </tr>\n",
       "    <tr>\n",
       "      <th>13</th>\n",
       "      <td>58184</td>\n",
       "      <td>10164</td>\n",
       "      <td>South</td>\n",
       "    </tr>\n",
       "    <tr>\n",
       "      <th>14</th>\n",
       "      <td>19974</td>\n",
       "      <td>9469</td>\n",
       "      <td>East</td>\n",
       "    </tr>\n",
       "    <tr>\n",
       "      <th>15</th>\n",
       "      <td>61932</td>\n",
       "      <td>11090</td>\n",
       "      <td>Midwest</td>\n",
       "    </tr>\n",
       "    <tr>\n",
       "      <th>16</th>\n",
       "      <td>20191</td>\n",
       "      <td>10080</td>\n",
       "      <td>East</td>\n",
       "    </tr>\n",
       "    <tr>\n",
       "      <th>17</th>\n",
       "      <td>35100</td>\n",
       "      <td>10685</td>\n",
       "      <td>Midwest</td>\n",
       "    </tr>\n",
       "    <tr>\n",
       "      <th>18</th>\n",
       "      <td>21758</td>\n",
       "      <td>9885</td>\n",
       "      <td>East</td>\n",
       "    </tr>\n",
       "    <tr>\n",
       "      <th>19</th>\n",
       "      <td>34926</td>\n",
       "      <td>9220</td>\n",
       "      <td>East</td>\n",
       "    </tr>\n",
       "  </tbody>\n",
       "</table>\n",
       "</div>"
      ],
      "text/plain": [
       "    Account #  Sales   Region\n",
       "0       39004  10396     East\n",
       "1       94574   9737     West\n",
       "2       24608   9215     West\n",
       "3       32790  10331    South\n",
       "4       23208  11580     East\n",
       "5       59515   9762  Midwest\n",
       "6       47612   8239     East\n",
       "7       51835  10195    South\n",
       "8       41108   8818  Midwest\n",
       "9       82218   8954  Midwest\n",
       "10      77863  10420    South\n",
       "11      66235   9774    South\n",
       "12      74948   9229     East\n",
       "13      58184  10164    South\n",
       "14      19974   9469     East\n",
       "15      61932  11090  Midwest\n",
       "16      20191  10080     East\n",
       "17      35100  10685  Midwest\n",
       "18      21758   9885     East\n",
       "19      34926   9220     East"
      ]
     },
     "execution_count": 43,
     "metadata": {},
     "output_type": "execute_result"
    }
   ],
   "source": [
    "#random sample\n",
    "early = sales.head(20) #first 20 of sales value\n",
    "early"
   ]
  },
  {
   "cell_type": "code",
   "execution_count": 47,
   "metadata": {
    "collapsed": false
   },
   "outputs": [
    {
     "data": {
      "text/html": [
       "<iframe id=\"igraph\" scrolling=\"no\" style=\"border:none;\" seamless=\"seamless\" src=\"https://plot.ly/~mkrijal/82.embed\" height=\"525px\" width=\"100%\"></iframe>"
      ],
      "text/plain": [
       "<plotly.tools.PlotlyDisplay object>"
      ]
     },
     "execution_count": 47,
     "metadata": {},
     "output_type": "execute_result"
    }
   ],
   "source": [
    "#create frequency distribution\n",
    "trace1 = go.Histogram(\n",
    "    x=early['Sales'],\n",
    "    xbins=dict(start=8000, end = 13000, size = 1000),\n",
    "    opacity=0.75,\n",
    "    name='column 0'\n",
    ")\n",
    "\n",
    "data = [trace1]\n",
    "\n",
    "layout = go.Layout(\n",
    "    title='Paper-R-Us Sales',\n",
    "    barmode='overlay',\n",
    "    xaxis=dict(\n",
    "    title='Sales Value'\n",
    "    ),\n",
    "    yaxis=dict(\n",
    "        title='Frequency'\n",
    "    )\n",
    "\n",
    "\n",
    ") \n",
    "fig = go.Figure(data=data, layout=layout)\n",
    "py.iplot(fig)"
   ]
  },
  {
   "cell_type": "markdown",
   "metadata": {},
   "source": [
    "From the distribution, it can be seen the data is normally distribute and looks almost similar to the population distribution"
   ]
  },
  {
   "cell_type": "markdown",
   "metadata": {},
   "source": [
    "e) Construct a 95% confidence interval estimate for the population mean sales per customer.\n",
    "Discuss how you would use this interval estimate to help determine whether the sample is a\n",
    "good representation of the population. (Hint: You may want to use the finite population\n",
    "correction factor since the sample is large relative to the size of the population.)"
   ]
  },
  {
   "cell_type": "code",
   "execution_count": 49,
   "metadata": {
    "collapsed": false
   },
   "outputs": [
    {
     "data": {
      "text/plain": [
       "count      250.000000\n",
       "mean      9987.436000\n",
       "std        925.733395\n",
       "min       6356.000000\n",
       "25%       9390.000000\n",
       "50%       9958.000000\n",
       "75%      10588.000000\n",
       "max      12312.000000\n",
       "Name: Sales, dtype: float64"
      ]
     },
     "execution_count": 49,
     "metadata": {},
     "output_type": "execute_result"
    }
   ],
   "source": [
    "sales['Sales'].describe()"
   ]
  },
  {
   "cell_type": "code",
   "execution_count": 50,
   "metadata": {
    "collapsed": true
   },
   "outputs": [],
   "source": [
    "import scipy.stats as st \n",
    "import math as m"
   ]
  },
  {
   "cell_type": "code",
   "execution_count": 148,
   "metadata": {
    "collapsed": false
   },
   "outputs": [
    {
     "name": "stdout",
     "output_type": "stream",
     "text": [
      "0.1808\n"
     ]
    }
   ],
   "source": [
    "#Get Z-score\n",
    "a = 0.95 /2\n",
    "\n",
    "#use z-table(mean);P(0 < Z < z)\n",
    "z = 0.1808 # a = 0.475\n",
    "print (z)"
   ]
  },
  {
   "cell_type": "code",
   "execution_count": 149,
   "metadata": {
    "collapsed": false
   },
   "outputs": [
    {
     "name": "stdout",
     "output_type": "stream",
     "text": [
      "10.585572539957674\n"
     ]
    }
   ],
   "source": [
    "std = 925.733395\n",
    "n = 250\n",
    "\n",
    "s = m.sqrt(n) \n",
    "\n",
    "e = z * (std / s)\n",
    "print (e)"
   ]
  },
  {
   "cell_type": "markdown",
   "metadata": {},
   "source": [
    "the margin of error is +/- 10.59"
   ]
  },
  {
   "cell_type": "markdown",
   "metadata": {},
   "source": [
    "f)Use the information developed in parts a–e to draw a conclusion about whether the sample is a\n",
    "representative sample of the population. What other information would be desirable? Discuss."
   ]
  },
  {
   "cell_type": "markdown",
   "metadata": {},
   "source": [
    "Any changes in confidence level will affect margin of error. Increase in sample size will decrease margin of error and standard error"
   ]
  },
  {
   "cell_type": "code",
   "execution_count": null,
   "metadata": {
    "collapsed": true
   },
   "outputs": [],
   "source": []
  }
 ],
 "metadata": {
  "kernelspec": {
   "display_name": "Python 3",
   "language": "python",
   "name": "python3"
  },
  "language_info": {
   "codemirror_mode": {
    "name": "ipython",
    "version": 3
   },
   "file_extension": ".py",
   "mimetype": "text/x-python",
   "name": "python",
   "nbconvert_exporter": "python",
   "pygments_lexer": "ipython3",
   "version": "3.6.0"
  }
 },
 "nbformat": 4,
 "nbformat_minor": 2
}
