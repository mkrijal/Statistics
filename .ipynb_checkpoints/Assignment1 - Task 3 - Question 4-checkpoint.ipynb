{
 "cells": [
  {
   "cell_type": "markdown",
   "metadata": {},
   "source": [
    "Q4)The owner of the A.J. Fitness Center is interested in estimating the difference in mean years that female\n",
    "members have been with the club compared with male members. He wishes to develop a 95%\n",
    "confidence interval estimate. Sample data are in the file called AJ FITNESS. Assuming that the sample\n",
    "data are approximately normal and that the two populations have equal variances, develop and\n",
    "interpret the confidence interval estimate. Discuss the result."
   ]
  },
  {
   "cell_type": "code",
   "execution_count": 4,
   "metadata": {
    "collapsed": true
   },
   "outputs": [],
   "source": [
    "import pandas as pd\n",
    "import numpy as np"
   ]
  },
  {
   "cell_type": "code",
   "execution_count": 5,
   "metadata": {
    "collapsed": false
   },
   "outputs": [
    {
     "data": {
      "text/html": [
       "<div>\n",
       "<table border=\"1\" class=\"dataframe\">\n",
       "  <thead>\n",
       "    <tr style=\"text-align: right;\">\n",
       "      <th></th>\n",
       "      <th>Weights &amp; Exercise Equipment Satisfaction</th>\n",
       "      <th>Club Staff Satisfaction</th>\n",
       "      <th>Exercise Programs Satisfaction</th>\n",
       "      <th>Overall Service Satisfaction</th>\n",
       "      <th>Years With the Club</th>\n",
       "      <th>Gender</th>\n",
       "      <th>Typical Visits Per Week</th>\n",
       "      <th>Age</th>\n",
       "    </tr>\n",
       "  </thead>\n",
       "  <tbody>\n",
       "    <tr>\n",
       "      <th>0</th>\n",
       "      <td>4.0</td>\n",
       "      <td>4.0</td>\n",
       "      <td>3.0</td>\n",
       "      <td>4.0</td>\n",
       "      <td>4.0</td>\n",
       "      <td>1</td>\n",
       "      <td>4</td>\n",
       "      <td>26</td>\n",
       "    </tr>\n",
       "    <tr>\n",
       "      <th>1</th>\n",
       "      <td>1.0</td>\n",
       "      <td>4.0</td>\n",
       "      <td>5.0</td>\n",
       "      <td>3.0</td>\n",
       "      <td>1.0</td>\n",
       "      <td>1</td>\n",
       "      <td>1</td>\n",
       "      <td>24</td>\n",
       "    </tr>\n",
       "    <tr>\n",
       "      <th>2</th>\n",
       "      <td>4.0</td>\n",
       "      <td>5.0</td>\n",
       "      <td>1.0</td>\n",
       "      <td>3.0</td>\n",
       "      <td>3.0</td>\n",
       "      <td>1</td>\n",
       "      <td>0</td>\n",
       "      <td>33</td>\n",
       "    </tr>\n",
       "    <tr>\n",
       "      <th>3</th>\n",
       "      <td>3.0</td>\n",
       "      <td>4.0</td>\n",
       "      <td>1.0</td>\n",
       "      <td>3.0</td>\n",
       "      <td>2.0</td>\n",
       "      <td>1</td>\n",
       "      <td>1</td>\n",
       "      <td>45</td>\n",
       "    </tr>\n",
       "    <tr>\n",
       "      <th>4</th>\n",
       "      <td>4.0</td>\n",
       "      <td>4.0</td>\n",
       "      <td>2.0</td>\n",
       "      <td>3.0</td>\n",
       "      <td>3.0</td>\n",
       "      <td>2</td>\n",
       "      <td>3</td>\n",
       "      <td>38</td>\n",
       "    </tr>\n",
       "  </tbody>\n",
       "</table>\n",
       "</div>"
      ],
      "text/plain": [
       "   Weights & Exercise Equipment Satisfaction  Club Staff Satisfaction  \\\n",
       "0                                        4.0                      4.0   \n",
       "1                                        1.0                      4.0   \n",
       "2                                        4.0                      5.0   \n",
       "3                                        3.0                      4.0   \n",
       "4                                        4.0                      4.0   \n",
       "\n",
       "   Exercise Programs Satisfaction  Overall Service Satisfaction  \\\n",
       "0                             3.0                           4.0   \n",
       "1                             5.0                           3.0   \n",
       "2                             1.0                           3.0   \n",
       "3                             1.0                           3.0   \n",
       "4                             2.0                           3.0   \n",
       "\n",
       "   Years With the Club Gender Typical Visits Per Week Age  \n",
       "0                  4.0      1                       4  26  \n",
       "1                  1.0      1                       1  24  \n",
       "2                  3.0      1                       0  33  \n",
       "3                  2.0      1                       1  45  \n",
       "4                  3.0      2                       3  38  "
      ]
     },
     "execution_count": 5,
     "metadata": {},
     "output_type": "execute_result"
    }
   ],
   "source": [
    "members = pd.read_excel('D://Business Statistic/MANB1123-master/MANB1123-master/Data_Set/AJFitness.xlsx')\n",
    "members.head()"
   ]
  },
  {
   "cell_type": "code",
   "execution_count": 7,
   "metadata": {
    "collapsed": false
   },
   "outputs": [
    {
     "data": {
      "text/html": [
       "<div>\n",
       "<table border=\"1\" class=\"dataframe\">\n",
       "  <thead>\n",
       "    <tr style=\"text-align: right;\">\n",
       "      <th></th>\n",
       "      <th>Weights &amp; Exercise Equipment Satisfaction</th>\n",
       "      <th>Club Staff Satisfaction</th>\n",
       "      <th>Exercise Programs Satisfaction</th>\n",
       "      <th>Overall Service Satisfaction</th>\n",
       "      <th>Years With the Club</th>\n",
       "      <th>Gender</th>\n",
       "      <th>Typical Visits Per Week</th>\n",
       "      <th>Age</th>\n",
       "    </tr>\n",
       "  </thead>\n",
       "  <tbody>\n",
       "    <tr>\n",
       "      <th>0</th>\n",
       "      <td>4.0</td>\n",
       "      <td>4.0</td>\n",
       "      <td>3.0</td>\n",
       "      <td>4.0</td>\n",
       "      <td>4.0</td>\n",
       "      <td>1</td>\n",
       "      <td>4</td>\n",
       "      <td>26</td>\n",
       "    </tr>\n",
       "    <tr>\n",
       "      <th>1</th>\n",
       "      <td>1.0</td>\n",
       "      <td>4.0</td>\n",
       "      <td>5.0</td>\n",
       "      <td>3.0</td>\n",
       "      <td>1.0</td>\n",
       "      <td>1</td>\n",
       "      <td>1</td>\n",
       "      <td>24</td>\n",
       "    </tr>\n",
       "    <tr>\n",
       "      <th>2</th>\n",
       "      <td>4.0</td>\n",
       "      <td>5.0</td>\n",
       "      <td>1.0</td>\n",
       "      <td>3.0</td>\n",
       "      <td>3.0</td>\n",
       "      <td>1</td>\n",
       "      <td>0</td>\n",
       "      <td>33</td>\n",
       "    </tr>\n",
       "    <tr>\n",
       "      <th>3</th>\n",
       "      <td>3.0</td>\n",
       "      <td>4.0</td>\n",
       "      <td>1.0</td>\n",
       "      <td>3.0</td>\n",
       "      <td>2.0</td>\n",
       "      <td>1</td>\n",
       "      <td>1</td>\n",
       "      <td>45</td>\n",
       "    </tr>\n",
       "    <tr>\n",
       "      <th>6</th>\n",
       "      <td>5.0</td>\n",
       "      <td>4.0</td>\n",
       "      <td>4.0</td>\n",
       "      <td>4.0</td>\n",
       "      <td>5.0</td>\n",
       "      <td>1</td>\n",
       "      <td>3</td>\n",
       "      <td>23</td>\n",
       "    </tr>\n",
       "  </tbody>\n",
       "</table>\n",
       "</div>"
      ],
      "text/plain": [
       "   Weights & Exercise Equipment Satisfaction  Club Staff Satisfaction  \\\n",
       "0                                        4.0                      4.0   \n",
       "1                                        1.0                      4.0   \n",
       "2                                        4.0                      5.0   \n",
       "3                                        3.0                      4.0   \n",
       "6                                        5.0                      4.0   \n",
       "\n",
       "   Exercise Programs Satisfaction  Overall Service Satisfaction  \\\n",
       "0                             3.0                           4.0   \n",
       "1                             5.0                           3.0   \n",
       "2                             1.0                           3.0   \n",
       "3                             1.0                           3.0   \n",
       "6                             4.0                           4.0   \n",
       "\n",
       "   Years With the Club Gender Typical Visits Per Week Age  \n",
       "0                  4.0      1                       4  26  \n",
       "1                  1.0      1                       1  24  \n",
       "2                  3.0      1                       0  33  \n",
       "3                  2.0      1                       1  45  \n",
       "6                  5.0      1                       3  23  "
      ]
     },
     "execution_count": 7,
     "metadata": {},
     "output_type": "execute_result"
    }
   ],
   "source": [
    "male = members[members.Gender == 1] \n",
    "male.head()"
   ]
  },
  {
   "cell_type": "code",
   "execution_count": 8,
   "metadata": {
    "collapsed": false
   },
   "outputs": [
    {
     "data": {
      "text/html": [
       "<div>\n",
       "<table border=\"1\" class=\"dataframe\">\n",
       "  <thead>\n",
       "    <tr style=\"text-align: right;\">\n",
       "      <th></th>\n",
       "      <th>Weights &amp; Exercise Equipment Satisfaction</th>\n",
       "      <th>Club Staff Satisfaction</th>\n",
       "      <th>Exercise Programs Satisfaction</th>\n",
       "      <th>Overall Service Satisfaction</th>\n",
       "      <th>Years With the Club</th>\n",
       "      <th>Gender</th>\n",
       "      <th>Typical Visits Per Week</th>\n",
       "      <th>Age</th>\n",
       "    </tr>\n",
       "  </thead>\n",
       "  <tbody>\n",
       "    <tr>\n",
       "      <th>4</th>\n",
       "      <td>4.0</td>\n",
       "      <td>4.0</td>\n",
       "      <td>2.0</td>\n",
       "      <td>3.0</td>\n",
       "      <td>3.0</td>\n",
       "      <td>2</td>\n",
       "      <td>3</td>\n",
       "      <td>38</td>\n",
       "    </tr>\n",
       "    <tr>\n",
       "      <th>5</th>\n",
       "      <td>3.0</td>\n",
       "      <td>4.0</td>\n",
       "      <td>3.0</td>\n",
       "      <td>3.0</td>\n",
       "      <td>3.5</td>\n",
       "      <td>2</td>\n",
       "      <td>5</td>\n",
       "      <td>36</td>\n",
       "    </tr>\n",
       "    <tr>\n",
       "      <th>7</th>\n",
       "      <td>3.0</td>\n",
       "      <td>2.0</td>\n",
       "      <td>3.0</td>\n",
       "      <td>3.0</td>\n",
       "      <td>1.0</td>\n",
       "      <td>2</td>\n",
       "      <td>4</td>\n",
       "      <td>25</td>\n",
       "    </tr>\n",
       "    <tr>\n",
       "      <th>8</th>\n",
       "      <td>5.0</td>\n",
       "      <td>5.0</td>\n",
       "      <td>3.0</td>\n",
       "      <td>4.0</td>\n",
       "      <td>2.0</td>\n",
       "      <td>2</td>\n",
       "      <td>1</td>\n",
       "      <td>28</td>\n",
       "    </tr>\n",
       "    <tr>\n",
       "      <th>10</th>\n",
       "      <td>3.0</td>\n",
       "      <td>4.0</td>\n",
       "      <td>3.0</td>\n",
       "      <td>3.0</td>\n",
       "      <td>3.5</td>\n",
       "      <td>2</td>\n",
       "      <td>2</td>\n",
       "      <td>39</td>\n",
       "    </tr>\n",
       "  </tbody>\n",
       "</table>\n",
       "</div>"
      ],
      "text/plain": [
       "    Weights & Exercise Equipment Satisfaction  Club Staff Satisfaction  \\\n",
       "4                                         4.0                      4.0   \n",
       "5                                         3.0                      4.0   \n",
       "7                                         3.0                      2.0   \n",
       "8                                         5.0                      5.0   \n",
       "10                                        3.0                      4.0   \n",
       "\n",
       "    Exercise Programs Satisfaction  Overall Service Satisfaction  \\\n",
       "4                              2.0                           3.0   \n",
       "5                              3.0                           3.0   \n",
       "7                              3.0                           3.0   \n",
       "8                              3.0                           4.0   \n",
       "10                             3.0                           3.0   \n",
       "\n",
       "    Years With the Club Gender Typical Visits Per Week Age  \n",
       "4                   3.0      2                       3  38  \n",
       "5                   3.5      2                       5  36  \n",
       "7                   1.0      2                       4  25  \n",
       "8                   2.0      2                       1  28  \n",
       "10                  3.5      2                       2  39  "
      ]
     },
     "execution_count": 8,
     "metadata": {},
     "output_type": "execute_result"
    }
   ],
   "source": [
    "female = members[members.Gender == 2] \n",
    "female.head()"
   ]
  },
  {
   "cell_type": "code",
   "execution_count": 9,
   "metadata": {
    "collapsed": false
   },
   "outputs": [
    {
     "data": {
      "text/plain": [
       "368"
      ]
     },
     "execution_count": 9,
     "metadata": {},
     "output_type": "execute_result"
    }
   ],
   "source": [
    "male.shape[0]  #Get total male members"
   ]
  },
  {
   "cell_type": "code",
   "execution_count": 10,
   "metadata": {
    "collapsed": false
   },
   "outputs": [
    {
     "data": {
      "text/plain": [
       "846"
      ]
     },
     "execution_count": 10,
     "metadata": {},
     "output_type": "execute_result"
    }
   ],
   "source": [
    "female.shape[0]  #Get total female members"
   ]
  },
  {
   "cell_type": "code",
   "execution_count": 11,
   "metadata": {
    "collapsed": false
   },
   "outputs": [
    {
     "data": {
      "text/plain": [
       "2.7432065217391304"
      ]
     },
     "execution_count": 11,
     "metadata": {},
     "output_type": "execute_result"
    }
   ],
   "source": [
    "male['Years With the Club'].mean() # Get mean years with the club for male members"
   ]
  },
  {
   "cell_type": "code",
   "execution_count": 12,
   "metadata": {
    "collapsed": false
   },
   "outputs": [
    {
     "data": {
      "text/plain": [
       "2.6400709219858154"
      ]
     },
     "execution_count": 12,
     "metadata": {},
     "output_type": "execute_result"
    }
   ],
   "source": [
    "female['Years With the Club'].mean() # Get mean years with the club for female members"
   ]
  },
  {
   "cell_type": "code",
   "execution_count": 13,
   "metadata": {
    "collapsed": false
   },
   "outputs": [
    {
     "data": {
      "text/plain": [
       "2.682515030802049"
      ]
     },
     "execution_count": 13,
     "metadata": {},
     "output_type": "execute_result"
    }
   ],
   "source": [
    "male['Years With the Club'].var() # Get variance years with the club for male members"
   ]
  },
  {
   "cell_type": "code",
   "execution_count": 14,
   "metadata": {
    "collapsed": false
   },
   "outputs": [
    {
     "data": {
      "text/plain": [
       "2.5084634269167787"
      ]
     },
     "execution_count": 14,
     "metadata": {},
     "output_type": "execute_result"
    }
   ],
   "source": [
    "female['Years With the Club'].var() # Get variance years with the club for female members"
   ]
  },
  {
   "cell_type": "code",
   "execution_count": 15,
   "metadata": {
    "collapsed": false
   },
   "outputs": [
    {
     "data": {
      "text/plain": [
       "1.6378385240316118"
      ]
     },
     "execution_count": 15,
     "metadata": {},
     "output_type": "execute_result"
    }
   ],
   "source": [
    "male['Years With the Club'].std() # Get standard deviation for years with the club for male members"
   ]
  },
  {
   "cell_type": "code",
   "execution_count": 16,
   "metadata": {
    "collapsed": false
   },
   "outputs": [
    {
     "data": {
      "text/plain": [
       "1.5838129393702967"
      ]
     },
     "execution_count": 16,
     "metadata": {},
     "output_type": "execute_result"
    }
   ],
   "source": [
    "female['Years With the Club'].std() # Get standard deviation for years with the club for female members"
   ]
  },
  {
   "cell_type": "code",
   "execution_count": 17,
   "metadata": {
    "collapsed": false
   },
   "outputs": [
    {
     "data": {
      "text/plain": [
       "0.10313559975331499"
      ]
     },
     "execution_count": 17,
     "metadata": {},
     "output_type": "execute_result"
    }
   ],
   "source": [
    "#Calculate point estimate\n",
    "\n",
    "pe = male['Years With the Club'].mean() - female['Years With the Club'].mean()\n",
    "pe"
   ]
  },
  {
   "cell_type": "code",
   "execution_count": 18,
   "metadata": {
    "collapsed": true
   },
   "outputs": [],
   "source": [
    "import scipy.stats as st \n",
    "import math as m"
   ]
  },
  {
   "cell_type": "code",
   "execution_count": 22,
   "metadata": {
    "collapsed": false
   },
   "outputs": [],
   "source": [
    "sigma1 = 1.64 #after rounded male['Years With the Club'].std()\n",
    "sigma2 = 1.58 # after rounded female['Years With the Club'].std()\n",
    "\n",
    "n1 = male.shape[0]\n",
    "n2 = female.shape[0]\n",
    "\n",
    "#sigma power of 2\n",
    "p_sigma1 = m.pow(sigma1,2)\n",
    "p_sigma2 = m.pow(sigma2,2)\n",
    "\n",
    "#Determine the standard error\n",
    "value1 = (n1 - 1) * p_sigma1\n",
    "value2 = (n2 -1) * p_sigma2\n",
    "value3 = n1 + n2 - 2\n",
    "\n",
    "sp = m.sqrt((value1 + value2) / value3)\n"
   ]
  },
  {
   "cell_type": "code",
   "execution_count": 23,
   "metadata": {
    "collapsed": false
   },
   "outputs": [
    {
     "data": {
      "text/plain": [
       "1.9619232269207072"
      ]
     },
     "execution_count": 23,
     "metadata": {},
     "output_type": "execute_result"
    }
   ],
   "source": [
    "#Determine the critical value\n",
    "a = (1-0.95) / 2 #get alpha value\n",
    "z = st.t.ppf(1-a, value3)\n",
    "z"
   ]
  },
  {
   "cell_type": "code",
   "execution_count": 24,
   "metadata": {
    "collapsed": false
   },
   "outputs": [
    {
     "name": "stdout",
     "output_type": "stream",
     "text": [
      "-0.09249799959322497\n",
      "0.29876919909985494\n"
     ]
    }
   ],
   "source": [
    "#Determine confidence interval\n",
    "\n",
    "value4 = 1/n1\n",
    "value5 = 1/n2\n",
    "value6 = m.sqrt(value4 + value5)\n",
    "z = 1.96\n",
    "c1 = pe - z * sp * value6\n",
    "print (c1)\n",
    "\n",
    "c2 = pe + z * sp * value6\n",
    "print (c2)"
   ]
  },
  {
   "cell_type": "markdown",
   "metadata": {},
   "source": [
    "With 95% confidence, the mean number of years for male and female members is -0.0925 and 0.2988. [-0.0925 - 0.1031(point estimate)]  has greater distance than [0.2988 - 0.1031(point estimate)]. So, it can be assume that male members are more longer associated with the club compare to female members."
   ]
  },
  {
   "cell_type": "code",
   "execution_count": null,
   "metadata": {
    "collapsed": true
   },
   "outputs": [],
   "source": []
  }
 ],
 "metadata": {
  "kernelspec": {
   "display_name": "Python 3",
   "language": "python",
   "name": "python3"
  },
  "language_info": {
   "codemirror_mode": {
    "name": "ipython",
    "version": 3
   },
   "file_extension": ".py",
   "mimetype": "text/x-python",
   "name": "python",
   "nbconvert_exporter": "python",
   "pygments_lexer": "ipython3",
   "version": "3.6.0"
  }
 },
 "nbformat": 4,
 "nbformat_minor": 2
}
