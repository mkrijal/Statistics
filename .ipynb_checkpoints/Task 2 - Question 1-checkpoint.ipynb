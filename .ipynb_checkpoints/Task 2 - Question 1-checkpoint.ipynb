{
 "cells": [
  {
   "cell_type": "markdown",
   "metadata": {},
   "source": [
    "Most major airlines allow passengers to carry two pieces of luggage (of a certain maximum size) onto\n",
    "the plane. However, their studies show that the more carry-on baggage passengers have, the longer it\n",
    "takes to unload and load passengers. One regional airline is considering changing its policy to allow only\n",
    "one carry-on per passenger. Before doing so, it decided to collect some data. Specifically, a random\n",
    "sample of 1,000 passengers was selected. The passengers were observed, and the number of bags\n",
    "carried on the plane was noted. Out of the 1,000 passengers, 345 had more than one bag."
   ]
  },
  {
   "cell_type": "markdown",
   "metadata": {},
   "source": [
    "a) Based on this sample, develop and interpret a 95% confidence interval estimate for the\n",
    "proportion of the traveling population that would have been impacted had the one-bag limit\n",
    "been in effect. Discuss your result."
   ]
  },
  {
   "cell_type": "code",
   "execution_count": 6,
   "metadata": {
    "collapsed": true
   },
   "outputs": [],
   "source": [
    "n = 1000\n",
    "a = 345\n",
    "\n",
    "affected = a / n #compute point estimate"
   ]
  },
  {
   "cell_type": "code",
   "execution_count": 7,
   "metadata": {
    "collapsed": false
   },
   "outputs": [
    {
     "name": "stdout",
     "output_type": "stream",
     "text": [
      "0.345\n"
     ]
    }
   ],
   "source": [
    "print(affected)"
   ]
  },
  {
   "cell_type": "markdown",
   "metadata": {},
   "source": [
    "CONFIDENCE INTERVAL ESTIMATE FOR POP. PROPORTION"
   ]
  },
  {
   "cell_type": "code",
   "execution_count": 3,
   "metadata": {
    "collapsed": true
   },
   "outputs": [],
   "source": [
    "import scipy.stats as st \n",
    "import math as m\n",
    "import numpy as np"
   ]
  },
  {
   "cell_type": "code",
   "execution_count": 4,
   "metadata": {
    "collapsed": false
   },
   "outputs": [
    {
     "name": "stdout",
     "output_type": "stream",
     "text": [
      "-1.95996398454\n"
     ]
    }
   ],
   "source": [
    "z = st.norm.ppf((1-0.95) / 2) # get critical value\n",
    "print (z)"
   ]
  },
  {
   "cell_type": "code",
   "execution_count": 11,
   "metadata": {
    "collapsed": false
   },
   "outputs": [],
   "source": [
    "pp = affected * (1 - affected) / n  # calculate based on formula the value before being square root"
   ]
  },
  {
   "cell_type": "code",
   "execution_count": 12,
   "metadata": {
    "collapsed": false
   },
   "outputs": [
    {
     "data": {
      "text/plain": [
       "0.3155369102603553"
      ]
     },
     "execution_count": 12,
     "metadata": {},
     "output_type": "execute_result"
    }
   ],
   "source": [
    "#Calculate the upper tail\n",
    "\n",
    "affected + z * m.sqrt(pp)"
   ]
  },
  {
   "cell_type": "code",
   "execution_count": 13,
   "metadata": {
    "collapsed": false
   },
   "outputs": [
    {
     "data": {
      "text/plain": [
       "0.37446308973964465"
      ]
     },
     "execution_count": 13,
     "metadata": {},
     "output_type": "execute_result"
    }
   ],
   "source": [
    "#Calculate the lower tail\n",
    "\n",
    "affected - z * m.sqrt(pp)"
   ]
  },
  {
   "cell_type": "markdown",
   "metadata": {},
   "source": [
    "It will be 37.4% to 31.6% traveling population to be impacted"
   ]
  },
  {
   "cell_type": "markdown",
   "metadata": {},
   "source": [
    "b) The domestic version of Boeing’s 747 has a capacity for 568 passengers. Determine an interval\n",
    "estimate of the number of passengers that you would expect to carry more than one piece of\n",
    "luggage on the plane. Assume the plane is at its passenger capacity."
   ]
  },
  {
   "cell_type": "code",
   "execution_count": 14,
   "metadata": {
    "collapsed": false
   },
   "outputs": [
    {
     "name": "stdout",
     "output_type": "stream",
     "text": [
      "0.305906539013\n",
      "0.384093460987\n"
     ]
    }
   ],
   "source": [
    "#new population proportion\n",
    "\n",
    "nn = 568\n",
    "new_pp = affected * (1 - affected) / nn  # calculate based on formula the value before being square root\n",
    "first = affected + z * m.sqrt(new_pp)\n",
    "second = affected - z * m.sqrt(new_pp)\n",
    "\n",
    "print (first)\n",
    "print (second)"
   ]
  },
  {
   "cell_type": "markdown",
   "metadata": {},
   "source": [
    "It will be 30.6% to 38.4% passengers travelling with more than 1 bag"
   ]
  },
  {
   "cell_type": "markdown",
   "metadata": {},
   "source": [
    "c) Suppose the airline also noted whether the passenger was male or female. Out of the 1,000\n",
    "passengers observed, 690 were males. Of this group, 280 had more than one bag. Using this\n",
    "data, obtain and interpret a 95% confidence interval estimate for the proportion of male\n",
    "passengers in the population who would have been affected by the one-bag limit. Discuss."
   ]
  },
  {
   "cell_type": "code",
   "execution_count": 15,
   "metadata": {
    "collapsed": false
   },
   "outputs": [
    {
     "name": "stdout",
     "output_type": "stream",
     "text": [
      "0.69\n"
     ]
    }
   ],
   "source": [
    "#get point estimate for male group \n",
    "\n",
    "male = 690\n",
    "\n",
    "m_point = male / n\n",
    "print(m_point)"
   ]
  },
  {
   "cell_type": "code",
   "execution_count": 16,
   "metadata": {
    "collapsed": false
   },
   "outputs": [
    {
     "name": "stdout",
     "output_type": "stream",
     "text": [
      "0.4057971014492754\n"
     ]
    }
   ],
   "source": [
    "#get point estimate for male group which carry more than 1 bag\n",
    "\n",
    "mm = 280\n",
    "\n",
    "mm_point = mm /male\n",
    "print(mm_point)"
   ]
  },
  {
   "cell_type": "code",
   "execution_count": 18,
   "metadata": {
    "collapsed": false
   },
   "outputs": [
    {
     "name": "stdout",
     "output_type": "stream",
     "text": [
      "0.27999999999999997\n"
     ]
    }
   ],
   "source": [
    "#new point estimate\n",
    "\n",
    "n_point = m_point * mm_point\n",
    "print (n_point)"
   ]
  },
  {
   "cell_type": "code",
   "execution_count": 19,
   "metadata": {
    "collapsed": false
   },
   "outputs": [
    {
     "name": "stdout",
     "output_type": "stream",
     "text": [
      "0.252171272069\n",
      "0.307828727931\n"
     ]
    }
   ],
   "source": [
    "ma = n_point * (1 - n_point) / n\n",
    "first_m = n_point + z * m.sqrt(ma)\n",
    "second_m = n_point - z * m.sqrt(ma)\n",
    "\n",
    "print(first_m)\n",
    "print(second_m)"
   ]
  },
  {
   "cell_type": "markdown",
   "metadata": {},
   "source": [
    "It will be 25.2% to 30.8% of male passengers will be affected"
   ]
  },
  {
   "cell_type": "markdown",
   "metadata": {},
   "source": [
    "d) Suppose the airline decides to conduct a survey of its customers to determine their opinion of\n",
    "the proposed one-bag limit. The plan calls for a random sample of customers on different flights\n",
    "to be given a short written survey to complete during the flight. One key question on the survey\n",
    "will be: “Do you approve of limiting the number of carry-on bags to a maximum of one bag?”\n",
    "Airline managers expect that only about 15% will say “yes.” Based on this assumption, what size\n",
    "sample should the airline take if it wants to develop a 95% confidence interval estimate for the\n",
    "population proportion who will say “yes” with a margin of error of 0.02?"
   ]
  },
  {
   "cell_type": "code",
   "execution_count": 20,
   "metadata": {
    "collapsed": false
   },
   "outputs": [
    {
     "name": "stdout",
     "output_type": "stream",
     "text": [
      "3.8414588206941254\n"
     ]
    }
   ],
   "source": [
    "#calculate z power of 2\n",
    "zz = m.pow(z,2)\n",
    "print(zz)"
   ]
  },
  {
   "cell_type": "code",
   "execution_count": 21,
   "metadata": {
    "collapsed": false
   },
   "outputs": [
    {
     "name": "stdout",
     "output_type": "stream",
     "text": [
      "0.0004\n"
     ]
    }
   ],
   "source": [
    "#calculate margin error power of 2\n",
    "e = 0.02\n",
    "\n",
    "ee = m.pow(e,2)\n",
    "print(ee)\n"
   ]
  },
  {
   "cell_type": "code",
   "execution_count": 35,
   "metadata": {
    "collapsed": false
   },
   "outputs": [
    {
     "name": "stdout",
     "output_type": "stream",
     "text": [
      "1224.4649990962525\n"
     ]
    }
   ],
   "source": [
    "estimate = 0.15\n",
    "\n",
    "pow_e = m.pow(estimate,2)\n",
    "size = zz * (estimate - pow_e) / ee #Use formula to get sample size for population proportion\n",
    "print(size)"
   ]
  },
  {
   "cell_type": "markdown",
   "metadata": {},
   "source": [
    "the size sample should be 1224 passengers "
   ]
  },
  {
   "cell_type": "code",
   "execution_count": null,
   "metadata": {
    "collapsed": true
   },
   "outputs": [],
   "source": []
  }
 ],
 "metadata": {
  "kernelspec": {
   "display_name": "Python 3",
   "language": "python",
   "name": "python3"
  },
  "language_info": {
   "codemirror_mode": {
    "name": "ipython",
    "version": 3
   },
   "file_extension": ".py",
   "mimetype": "text/x-python",
   "name": "python",
   "nbconvert_exporter": "python",
   "pygments_lexer": "ipython3",
   "version": "3.6.0"
  }
 },
 "nbformat": 4,
 "nbformat_minor": 2
}
