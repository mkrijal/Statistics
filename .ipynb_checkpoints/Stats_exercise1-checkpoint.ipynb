{
 "cells": [
  {
   "cell_type": "code",
   "execution_count": 19,
   "metadata": {
    "collapsed": false
   },
   "outputs": [],
   "source": [
    "import pandas as pd\n",
    "import numpy as np\n"
   ]
  },
  {
   "cell_type": "code",
   "execution_count": 20,
   "metadata": {
    "collapsed": false
   },
   "outputs": [
    {
     "data": {
      "text/html": [
       "<div>\n",
       "<table border=\"1\" class=\"dataframe\">\n",
       "  <thead>\n",
       "    <tr style=\"text-align: right;\">\n",
       "      <th></th>\n",
       "      <th>College Name</th>\n",
       "      <th>State</th>\n",
       "      <th>Public (1)/ Private (2)</th>\n",
       "      <th>Math SAT</th>\n",
       "      <th>Verbal SAT</th>\n",
       "      <th># appli. rec'd</th>\n",
       "      <th># appl. accepted</th>\n",
       "      <th># new stud. enrolled</th>\n",
       "      <th># FT undergrad</th>\n",
       "      <th># PT undergrad</th>\n",
       "      <th>in-state tuition</th>\n",
       "      <th>out-of-state tuition</th>\n",
       "      <th>% fac. w/PHD</th>\n",
       "      <th>stud./fac. ratio</th>\n",
       "    </tr>\n",
       "  </thead>\n",
       "  <tbody>\n",
       "    <tr>\n",
       "      <th>0</th>\n",
       "      <td>Adelphi University</td>\n",
       "      <td>NY</td>\n",
       "      <td>2</td>\n",
       "      <td>500</td>\n",
       "      <td>457</td>\n",
       "      <td>2186.0</td>\n",
       "      <td>1924</td>\n",
       "      <td>512</td>\n",
       "      <td>2683</td>\n",
       "      <td>1227</td>\n",
       "      <td>12280</td>\n",
       "      <td>12280</td>\n",
       "      <td>29</td>\n",
       "      <td>12.2</td>\n",
       "    </tr>\n",
       "    <tr>\n",
       "      <th>1</th>\n",
       "      <td>Alaska Pacific University</td>\n",
       "      <td>AK</td>\n",
       "      <td>2</td>\n",
       "      <td>490</td>\n",
       "      <td>482</td>\n",
       "      <td>193.0</td>\n",
       "      <td>146</td>\n",
       "      <td>55</td>\n",
       "      <td>249</td>\n",
       "      <td>869</td>\n",
       "      <td>7560</td>\n",
       "      <td>7560</td>\n",
       "      <td>76</td>\n",
       "      <td>11.9</td>\n",
       "    </tr>\n",
       "    <tr>\n",
       "      <th>2</th>\n",
       "      <td>Albertson College</td>\n",
       "      <td>ID</td>\n",
       "      <td>2</td>\n",
       "      <td>524</td>\n",
       "      <td>487</td>\n",
       "      <td>587.0</td>\n",
       "      <td>479</td>\n",
       "      <td>158</td>\n",
       "      <td>678</td>\n",
       "      <td>41</td>\n",
       "      <td>13500</td>\n",
       "      <td>13500</td>\n",
       "      <td>67</td>\n",
       "      <td>9.4</td>\n",
       "    </tr>\n",
       "    <tr>\n",
       "      <th>3</th>\n",
       "      <td>Albertus Magnus College</td>\n",
       "      <td>CT</td>\n",
       "      <td>2</td>\n",
       "      <td>460</td>\n",
       "      <td>430</td>\n",
       "      <td>353.0</td>\n",
       "      <td>340</td>\n",
       "      <td>103</td>\n",
       "      <td>416</td>\n",
       "      <td>230</td>\n",
       "      <td>13290</td>\n",
       "      <td>13290</td>\n",
       "      <td>90</td>\n",
       "      <td>11.5</td>\n",
       "    </tr>\n",
       "    <tr>\n",
       "      <th>4</th>\n",
       "      <td>Albright College</td>\n",
       "      <td>PA</td>\n",
       "      <td>2</td>\n",
       "      <td>537</td>\n",
       "      <td>486</td>\n",
       "      <td>1038.0</td>\n",
       "      <td>839</td>\n",
       "      <td>227</td>\n",
       "      <td>973</td>\n",
       "      <td>306</td>\n",
       "      <td>15595</td>\n",
       "      <td>15595</td>\n",
       "      <td>79</td>\n",
       "      <td>11.3</td>\n",
       "    </tr>\n",
       "  </tbody>\n",
       "</table>\n",
       "</div>"
      ],
      "text/plain": [
       "                College Name State  Public (1)/ Private (2)  Math SAT  \\\n",
       "0         Adelphi University    NY                        2       500   \n",
       "1  Alaska Pacific University    AK                        2       490   \n",
       "2          Albertson College    ID                        2       524   \n",
       "3    Albertus Magnus College    CT                        2       460   \n",
       "4           Albright College    PA                        2       537   \n",
       "\n",
       "   Verbal SAT  # appli. rec'd  # appl. accepted  # new stud. enrolled  \\\n",
       "0         457          2186.0              1924                   512   \n",
       "1         482           193.0               146                    55   \n",
       "2         487           587.0               479                   158   \n",
       "3         430           353.0               340                   103   \n",
       "4         486          1038.0               839                   227   \n",
       "\n",
       "   # FT undergrad  # PT undergrad  in-state tuition  out-of-state tuition  \\\n",
       "0            2683            1227             12280                 12280   \n",
       "1             249             869              7560                  7560   \n",
       "2             678              41             13500                 13500   \n",
       "3             416             230             13290                 13290   \n",
       "4             973             306             15595                 15595   \n",
       "\n",
       "   % fac. w/PHD  stud./fac. ratio  \n",
       "0            29              12.2  \n",
       "1            76              11.9  \n",
       "2            67               9.4  \n",
       "3            90              11.5  \n",
       "4            79              11.3  "
      ]
     },
     "execution_count": 20,
     "metadata": {},
     "output_type": "execute_result"
    }
   ],
   "source": [
    "edu = pd.read_excel('D://Business Statistic/MANB1123-master/MANB1123-master/Data_Set/CollegesandUniversities.xlsx')\n",
    "edu.head()"
   ]
  },
  {
   "cell_type": "code",
   "execution_count": 30,
   "metadata": {
    "collapsed": false
   },
   "outputs": [
    {
     "name": "stdout",
     "output_type": "stream",
     "text": [
      "<class 'pandas.core.frame.DataFrame'>\n",
      "RangeIndex: 718 entries, 0 to 717\n",
      "Data columns (total 14 columns):\n",
      "College Name               718 non-null object\n",
      "State                      718 non-null object\n",
      "Public (1)/ Private (2)    718 non-null int64\n",
      "Math SAT                   718 non-null int64\n",
      "Verbal SAT                 718 non-null int64\n",
      "# appli. rec'd             717 non-null float64\n",
      "# appl. accepted           718 non-null int64\n",
      "# new stud. enrolled       718 non-null int64\n",
      "# FT undergrad             718 non-null int64\n",
      "# PT undergrad             718 non-null int64\n",
      "in-state tuition           718 non-null int64\n",
      "out-of-state tuition       718 non-null int64\n",
      "% fac. w/PHD               718 non-null int64\n",
      "stud./fac. ratio           718 non-null float64\n",
      "dtypes: float64(2), int64(10), object(2)\n",
      "memory usage: 78.6+ KB\n"
     ]
    }
   ],
   "source": [
    "edu.info()"
   ]
  },
  {
   "cell_type": "code",
   "execution_count": 21,
   "metadata": {
    "collapsed": true
   },
   "outputs": [],
   "source": [
    "edu_tuition = edu.loc[:,'out-of-state tuition']"
   ]
  },
  {
   "cell_type": "code",
   "execution_count": 22,
   "metadata": {
    "collapsed": false
   },
   "outputs": [
    {
     "data": {
      "text/plain": [
       "0    12280\n",
       "1     7560\n",
       "2    13500\n",
       "3    13290\n",
       "4    15595\n",
       "Name: out-of-state tuition, dtype: int64"
      ]
     },
     "execution_count": 22,
     "metadata": {},
     "output_type": "execute_result"
    }
   ],
   "source": [
    "edu_tuition.head()"
   ]
  },
  {
   "cell_type": "code",
   "execution_count": 23,
   "metadata": {
    "collapsed": false
   },
   "outputs": [
    {
     "data": {
      "text/plain": [
       "713     6797\n",
       "714    11520\n",
       "715     6900\n",
       "716    12584\n",
       "717     4990\n",
       "Name: out-of-state tuition, dtype: int64"
      ]
     },
     "execution_count": 23,
     "metadata": {},
     "output_type": "execute_result"
    }
   ],
   "source": [
    "edu_tuition.tail()"
   ]
  },
  {
   "cell_type": "code",
   "execution_count": 24,
   "metadata": {
    "collapsed": false
   },
   "outputs": [
    {
     "data": {
      "text/plain": [
       "7132168"
      ]
     },
     "execution_count": 24,
     "metadata": {},
     "output_type": "execute_result"
    }
   ],
   "source": [
    "edu_tuition.sum()"
   ]
  },
  {
   "cell_type": "code",
   "execution_count": 25,
   "metadata": {
    "collapsed": false
   },
   "outputs": [
    {
     "data": {
      "text/plain": [
       "9433.0"
      ]
     },
     "execution_count": 25,
     "metadata": {},
     "output_type": "execute_result"
    }
   ],
   "source": [
    "edu_tuition.median()"
   ]
  },
  {
   "cell_type": "code",
   "execution_count": 9,
   "metadata": {
    "collapsed": true
   },
   "outputs": [],
   "source": [
    "#function min, max and mean\n",
    "def get_stats(group):\n",
    "    return {'min': group.min(), 'max': group.max(), 'mean': group.mean()}"
   ]
  },
  {
   "cell_type": "code",
   "execution_count": 26,
   "metadata": {
    "collapsed": false
   },
   "outputs": [
    {
     "data": {
      "text/plain": [
       "24940"
      ]
     },
     "execution_count": 26,
     "metadata": {},
     "output_type": "execute_result"
    }
   ],
   "source": [
    "edu_tuition.max()"
   ]
  },
  {
   "cell_type": "code",
   "execution_count": 27,
   "metadata": {
    "collapsed": false
   },
   "outputs": [
    {
     "data": {
      "text/plain": [
       "9933.381615598886"
      ]
     },
     "execution_count": 27,
     "metadata": {},
     "output_type": "execute_result"
    }
   ],
   "source": [
    "edu_tuition.mean()"
   ]
  },
  {
   "cell_type": "code",
   "execution_count": 28,
   "metadata": {
    "collapsed": false
   },
   "outputs": [
    {
     "data": {
      "text/plain": [
       "2600"
      ]
     },
     "execution_count": 28,
     "metadata": {},
     "output_type": "execute_result"
    }
   ],
   "source": [
    "edu_tuition.min()"
   ]
  },
  {
   "cell_type": "code",
   "execution_count": 23,
   "metadata": {
    "collapsed": true
   },
   "outputs": [],
   "source": [
    "import seaborn as sns\n",
    "import matplotlib.pyplot as plt\n",
    "%matplotlib inline\n",
    "plt.rcParams['figure.figsize'] = (8, 6)\n",
    "plt.rcParams['font.size'] = 14"
   ]
  },
  {
   "cell_type": "code",
   "execution_count": 24,
   "metadata": {
    "collapsed": false
   },
   "outputs": [
    {
     "data": {
      "text/plain": [
       "<matplotlib.lines.Line2D at 0x24d4ce1cdd8>"
      ]
     },
     "execution_count": 24,
     "metadata": {},
     "output_type": "execute_result"
    },
    {
     "data": {
      "image/png": "[encoded data removed]",
      "text/plain": [
       "<matplotlib.figure.Figure at 0x24d4d0c0da0>"
      ]
     },
     "metadata": {},
     "output_type": "display_data"
    }
   ],
   "source": [
    "plt.figure();\n",
    "\n",
    "edu_tuition.loc[0:20].plot(kind='bar'); plt.axhline(0, color='k')"
   ]
  },
  {
   "cell_type": "code",
   "execution_count": 37,
   "metadata": {
    "collapsed": false
   },
   "outputs": [
    {
     "data": {
      "text/html": [
       "<iframe id=\"igraph\" scrolling=\"no\" style=\"border:none;\" seamless=\"seamless\" src=\"https://plot.ly/~mkrijal/6.embed\" height=\"525px\" width=\"100%\"></iframe>"
      ],
      "text/plain": [
       "<plotly.tools.PlotlyDisplay object>"
      ]
     },
     "execution_count": 37,
     "metadata": {},
     "output_type": "execute_result"
    }
   ],
   "source": [
    "import plotly.plotly as py\n",
    "import plotly.graph_objs as go\n",
    "\n",
    "import numpy as np\n",
    "\n",
    "x = np.random.randn(500)\n",
    "data = [go.Histogram(x=x,\n",
    "                     histnorm='probability')]\n",
    "\n",
    "py.iplot(data, filename='normalized histogram')"
   ]
  },
  {
   "cell_type": "code",
   "execution_count": 44,
   "metadata": {
    "collapsed": false
   },
   "outputs": [
    {
     "data": {
      "text/html": [
       "<iframe id=\"igraph\" scrolling=\"no\" style=\"border:none;\" seamless=\"seamless\" src=\"https://plot.ly/~mkrijal/6.embed\" height=\"525px\" width=\"100%\"></iframe>"
      ],
      "text/plain": [
       "<plotly.tools.PlotlyDisplay object>"
      ]
     },
     "execution_count": 44,
     "metadata": {},
     "output_type": "execute_result"
    }
   ],
   "source": [
    "x = edu_tuition.loc[:]\n",
    "data = [go.Histogram(x=x,histnorm='probability')]\n",
    "\n",
    "py.iplot(data, filename='normalized histogram')"
   ]
  },
  {
   "cell_type": "code",
   "execution_count": 45,
   "metadata": {
    "collapsed": false
   },
   "outputs": [
    {
     "data": {
      "text/html": [
       "<iframe id=\"igraph\" scrolling=\"no\" style=\"border:none;\" seamless=\"seamless\" src=\"https://plot.ly/~mkrijal/4.embed\" height=\"525px\" width=\"100%\"></iframe>"
      ],
      "text/plain": [
       "<plotly.tools.PlotlyDisplay object>"
      ]
     },
     "execution_count": 45,
     "metadata": {},
     "output_type": "execute_result"
    }
   ],
   "source": [
    "x = edu_tuition.loc[:]\n",
    "data = [go.Histogram(x=x)]\n",
    "\n",
    "py.iplot(data, filename='basic histogram')"
   ]
  },
  {
   "cell_type": "code",
   "execution_count": 46,
   "metadata": {
    "collapsed": false
   },
   "outputs": [
    {
     "data": {
      "text/plain": [
       "3920.070685654311"
      ]
     },
     "execution_count": 46,
     "metadata": {},
     "output_type": "execute_result"
    }
   ],
   "source": [
    "edu_tuition.std()"
   ]
  },
  {
   "cell_type": "code",
   "execution_count": 47,
   "metadata": {
    "collapsed": false
   },
   "outputs": [
    {
     "data": {
      "text/plain": [
       "15366954.180526262"
      ]
     },
     "execution_count": 47,
     "metadata": {},
     "output_type": "execute_result"
    }
   ],
   "source": [
    "edu_tuition.var()"
   ]
  },
  {
   "cell_type": "code",
   "execution_count": 48,
   "metadata": {
    "collapsed": false
   },
   "outputs": [
    {
     "data": {
      "text/plain": [
       "[12280,\n",
       " 7560,\n",
       " 13500,\n",
       " 13290,\n",
       " 15595,\n",
       " 10468,\n",
       " 9690,\n",
       " 8374,\n",
       " 2700,\n",
       " 19760,\n",
       " 10100,\n",
       " 5130,\n",
       " 15476,\n",
       " 6806,\n",
       " 7434,\n",
       " 5604,\n",
       " 8450,\n",
       " 8988,\n",
       " 11431,\n",
       " 6300,\n",
       " 11902,\n",
       " 4266,\n",
       " 11280,\n",
       " 9925,\n",
       " 8950,\n",
       " 15500,\n",
       " 10995,\n",
       " 7244,\n",
       " 17926,\n",
       " 11290,\n",
       " 5950,\n",
       " 7420,\n",
       " 12850,\n",
       " 7600,\n",
       " 8840,\n",
       " 9000,\n",
       " 7800,\n",
       " 16304,\n",
       " 5600,\n",
       " 21700,\n",
       " 15700,\n",
       " 9300,\n",
       " 5188,\n",
       " 11388,\n",
       " 11660,\n",
       " 7844,\n",
       " 7150,\n",
       " 4498,\n",
       " 9900,\n",
       " 18420,\n",
       " 19030,\n",
       " 4869,\n",
       " 7452,\n",
       " 10870,\n",
       " 9592,\n",
       " 4371,\n",
       " 10260,\n",
       " 5542,\n",
       " 19528,\n",
       " 12600,\n",
       " 18165,\n",
       " 13306,\n",
       " 13130,\n",
       " 10518,\n",
       " 8900,\n",
       " 6370,\n",
       " 12950,\n",
       " 7380,\n",
       " 8725,\n",
       " 8990,\n",
       " 9096,\n",
       " 8868,\n",
       " 6312,\n",
       " 10230,\n",
       " 7550,\n",
       " 8400,\n",
       " 17900,\n",
       " 8650,\n",
       " 13125,\n",
       " 7656,\n",
       " 9270,\n",
       " 9384,\n",
       " 14340,\n",
       " 7344,\n",
       " 11400,\n",
       " 8950,\n",
       " 11230,\n",
       " 5962,\n",
       " 8300,\n",
       " 11850,\n",
       " 10600,\n",
       " 16624,\n",
       " 7730,\n",
       " 13500,\n",
       " 10335,\n",
       " 8730,\n",
       " 9300,\n",
       " 7860,\n",
       " 17000,\n",
       " 7844,\n",
       " 7908,\n",
       " 15960,\n",
       " 5200,\n",
       " 8116,\n",
       " 6462,\n",
       " 7168,\n",
       " 13925,\n",
       " 9888,\n",
       " 18930,\n",
       " 19510,\n",
       " 6120,\n",
       " 9800,\n",
       " 11790,\n",
       " 10200,\n",
       " 11180,\n",
       " 12247,\n",
       " 12224,\n",
       " 10900,\n",
       " 11138,\n",
       " 8300,\n",
       " 11844,\n",
       " 18000,\n",
       " 3120,\n",
       " 11720,\n",
       " 16240,\n",
       " 6720,\n",
       " 8412,\n",
       " 10425,\n",
       " 18624,\n",
       " 2763,\n",
       " 9600,\n",
       " 10430,\n",
       " 9370,\n",
       " 6900,\n",
       " 10800,\n",
       " 5000,\n",
       " 15248,\n",
       " 9700,\n",
       " 6230,\n",
       " 5050,\n",
       " 5250,\n",
       " 2600,\n",
       " 5050,\n",
       " 5050,\n",
       " 5050,\n",
       " 5050,\n",
       " 5050,\n",
       " 13600,\n",
       " 5400,\n",
       " 12292,\n",
       " 19545,\n",
       " 5775,\n",
       " 17295,\n",
       " 9400,\n",
       " 10850,\n",
       " 11214,\n",
       " 12790,\n",
       " 9000,\n",
       " 13420,\n",
       " 18432,\n",
       " 18590,\n",
       " 8920,\n",
       " 15036,\n",
       " 7248,\n",
       " 5800,\n",
       " 5390,\n",
       " 11190,\n",
       " 5962,\n",
       " 6360,\n",
       " 8770,\n",
       " 7974,\n",
       " 15360,\n",
       " 14190,\n",
       " 14990,\n",
       " 11800,\n",
       " 9100,\n",
       " 7800,\n",
       " 8578,\n",
       " 17600,\n",
       " 11455,\n",
       " 10485,\n",
       " 6297,\n",
       " 15000,\n",
       " 11010,\n",
       " 6806,\n",
       " 8100,\n",
       " 9400,\n",
       " 5120,\n",
       " 6700,\n",
       " 13900,\n",
       " 6597,\n",
       " 8025,\n",
       " 14235,\n",
       " 5244,\n",
       " 5840,\n",
       " 9650,\n",
       " 24940,\n",
       " 10390,\n",
       " 13320,\n",
       " 5500,\n",
       " 9900,\n",
       " 5428,\n",
       " 13440,\n",
       " 10970,\n",
       " 8180,\n",
       " 9476,\n",
       " 12500,\n",
       " 4457,\n",
       " 4571,\n",
       " 4158,\n",
       " 9150,\n",
       " 6120,\n",
       " 13000,\n",
       " 12200,\n",
       " 9420,\n",
       " 15588,\n",
       " 9100,\n",
       " 6870,\n",
       " 11750,\n",
       " 8330,\n",
       " 15688,\n",
       " 5224,\n",
       " 13404,\n",
       " 14125,\n",
       " 11000,\n",
       " 19700,\n",
       " 13252,\n",
       " 13218,\n",
       " 7161,\n",
       " 8200,\n",
       " 5504,\n",
       " 6300,\n",
       " 17480,\n",
       " 17230,\n",
       " 6300,\n",
       " 13780,\n",
       " 8800,\n",
       " 7550,\n",
       " 7500,\n",
       " 11090,\n",
       " 14067,\n",
       " 11600,\n",
       " 13470,\n",
       " 11480,\n",
       " 13960,\n",
       " 9990,\n",
       " 5400,\n",
       " 5190,\n",
       " 7128,\n",
       " 9979,\n",
       " 8080,\n",
       " 9950,\n",
       " 7800,\n",
       " 5180,\n",
       " 8050,\n",
       " 14550,\n",
       " 14360,\n",
       " 10000,\n",
       " 8840,\n",
       " 8120,\n",
       " 6892,\n",
       " 6140,\n",
       " 8490,\n",
       " 9766,\n",
       " 7352,\n",
       " 9210,\n",
       " 10690,\n",
       " 7994,\n",
       " 3750,\n",
       " 3946,\n",
       " 6398,\n",
       " 11700,\n",
       " 18800,\n",
       " 7656,\n",
       " 14850,\n",
       " 2875,\n",
       " 7870,\n",
       " 6900,\n",
       " 2844,\n",
       " 7854,\n",
       " 8000,\n",
       " 19240,\n",
       " 9600,\n",
       " 10910,\n",
       " 8190,\n",
       " 15747,\n",
       " 8285,\n",
       " 8842,\n",
       " 12600,\n",
       " 12180,\n",
       " 6987,\n",
       " 4752,\n",
       " 4938,\n",
       " 11475,\n",
       " 13850,\n",
       " 4788,\n",
       " 10100,\n",
       " 11700,\n",
       " 8840,\n",
       " 5120,\n",
       " 4818,\n",
       " 9200,\n",
       " 13380,\n",
       " 7352,\n",
       " 10258,\n",
       " 7920,\n",
       " 5925,\n",
       " 12990,\n",
       " 13592,\n",
       " 11100,\n",
       " 11500,\n",
       " 13240,\n",
       " 13900,\n",
       " 13900,\n",
       " 9858,\n",
       " 10440,\n",
       " 12370,\n",
       " 14700,\n",
       " 9990,\n",
       " 10700,\n",
       " 18375,\n",
       " 11610,\n",
       " 6950,\n",
       " 5094,\n",
       " 11200,\n",
       " 11510,\n",
       " 10200,\n",
       " 11390,\n",
       " 11200,\n",
       " 9250,\n",
       " 11040,\n",
       " 20100,\n",
       " 6930,\n",
       " 13975,\n",
       " 11985,\n",
       " 12500,\n",
       " 5016,\n",
       " 10300,\n",
       " 5790,\n",
       " 10658,\n",
       " 8127,\n",
       " 5550,\n",
       " 7844,\n",
       " 11910,\n",
       " 11320,\n",
       " 8550,\n",
       " 8800,\n",
       " 12480,\n",
       " 13000,\n",
       " 6073,\n",
       " 5552,\n",
       " 3648,\n",
       " 8438,\n",
       " 7050,\n",
       " 4136,\n",
       " 6770,\n",
       " 19300,\n",
       " 8950,\n",
       " 7470,\n",
       " 12850,\n",
       " 12474,\n",
       " 13780,\n",
       " 16975,\n",
       " 13240,\n",
       " 10850,\n",
       " 9950,\n",
       " 10608,\n",
       " 8832,\n",
       " 14710,\n",
       " 17748,\n",
       " 10194,\n",
       " 9744,\n",
       " 5542,\n",
       " 6806,\n",
       " 8400,\n",
       " 8242,\n",
       " 11718,\n",
       " 12580,\n",
       " 13380,\n",
       " 6746,\n",
       " 9570,\n",
       " 11328,\n",
       " 16404,\n",
       " 9450,\n",
       " 9990,\n",
       " 8064,\n",
       " 8550,\n",
       " 7950,\n",
       " 6639,\n",
       " 19670,\n",
       " 16560,\n",
       " 12900,\n",
       " 15990,\n",
       " 7629,\n",
       " 16732,\n",
       " 6400,\n",
       " 5336,\n",
       " 9464,\n",
       " 7950,\n",
       " 8676,\n",
       " 7890,\n",
       " 8530,\n",
       " 11000,\n",
       " 6500,\n",
       " 13312,\n",
       " 14210,\n",
       " 6360,\n",
       " 10645,\n",
       " 18200,\n",
       " 8640,\n",
       " 11690,\n",
       " 10500,\n",
       " 5640,\n",
       " 15190,\n",
       " 17688,\n",
       " 7870,\n",
       " 10178,\n",
       " 9700,\n",
       " 16200,\n",
       " 4290,\n",
       " 11859,\n",
       " 19900,\n",
       " 14400,\n",
       " 9556,\n",
       " 11020,\n",
       " 10100,\n",
       " 6684,\n",
       " 4449,\n",
       " 13840,\n",
       " 13970,\n",
       " 19960,\n",
       " 12700,\n",
       " 12700,\n",
       " 13250,\n",
       " 15200,\n",
       " 13425,\n",
       " 6540,\n",
       " 10220,\n",
       " 8734,\n",
       " 12520,\n",
       " 16425,\n",
       " 4356,\n",
       " 7410,\n",
       " 7411,\n",
       " 7410,\n",
       " 11070,\n",
       " 12950,\n",
       " 8670,\n",
       " 12247,\n",
       " 9985,\n",
       " 11200,\n",
       " 12750,\n",
       " 10300,\n",
       " 12730,\n",
       " 13030,\n",
       " 14350,\n",
       " 9408,\n",
       " 10475,\n",
       " 5542,\n",
       " 5130,\n",
       " 14200,\n",
       " 8384,\n",
       " 8964,\n",
       " 8820,\n",
       " 19300,\n",
       " 8325,\n",
       " 3200,\n",
       " 8955,\n",
       " 17238,\n",
       " 12669,\n",
       " 12825,\n",
       " 12000,\n",
       " 10700,\n",
       " 4694,\n",
       " 7844,\n",
       " 10800,\n",
       " 7500,\n",
       " 16160,\n",
       " 16900,\n",
       " 18710,\n",
       " 4380,\n",
       " 9520,\n",
       " 4023,\n",
       " 5962,\n",
       " 7000,\n",
       " 4860,\n",
       " 7536,\n",
       " 11850,\n",
       " 7000,\n",
       " 11478,\n",
       " 9438,\n",
       " 10375,\n",
       " 3850,\n",
       " 10456,\n",
       " 9428,\n",
       " 10570,\n",
       " 9400,\n",
       " 7350,\n",
       " 18720,\n",
       " 9150,\n",
       " 11550,\n",
       " 13332,\n",
       " 6800,\n",
       " 8678,\n",
       " 12140,\n",
       " 8650,\n",
       " 4860,\n",
       " 13900,\n",
       " 8280,\n",
       " 16900,\n",
       " 3040,\n",
       " 12170,\n",
       " 10584,\n",
       " 6550,\n",
       " 6550,\n",
       " 6550,\n",
       " 6550,\n",
       " 6550,\n",
       " 6550,\n",
       " 6550,\n",
       " 6550,\n",
       " 6550,\n",
       " 6550,\n",
       " 6550,\n",
       " 6550,\n",
       " 6550,\n",
       " 6840,\n",
       " 6550,\n",
       " 14500,\n",
       " 4860,\n",
       " 10965,\n",
       " 10096,\n",
       " 7070,\n",
       " 5130,\n",
       " 3605,\n",
       " 7850,\n",
       " 7860,\n",
       " 4860,\n",
       " 6400,\n",
       " 11172,\n",
       " 8850,\n",
       " 9490,\n",
       " 7600,\n",
       " 5166,\n",
       " 10900,\n",
       " 5391,\n",
       " 11010,\n",
       " 11412,\n",
       " 12240,\n",
       " 9456,\n",
       " 2883,\n",
       " 7700,\n",
       " 7800,\n",
       " 11760,\n",
       " 9550,\n",
       " 5739,\n",
       " 5130,\n",
       " 6996,\n",
       " 7650,\n",
       " 4960,\n",
       " 5226,\n",
       " 5226,\n",
       " 7434,\n",
       " 3216,\n",
       " 12500,\n",
       " 11648,\n",
       " 12024,\n",
       " 6618,\n",
       " 9500,\n",
       " 8907,\n",
       " 9244,\n",
       " 11656,\n",
       " 10760,\n",
       " 11380,\n",
       " 15192,\n",
       " 11130,\n",
       " 10430,\n",
       " 11800,\n",
       " 5697,\n",
       " 14220,\n",
       " 2920,\n",
       " 4460,\n",
       " 5962,\n",
       " 7560,\n",
       " 11120,\n",
       " 10560,\n",
       " 13540,\n",
       " 4800,\n",
       " 7975,\n",
       " 6600,\n",
       " 8594,\n",
       " 8723,\n",
       " 7014,\n",
       " 8568,\n",
       " 6919,\n",
       " 9838,\n",
       " 15732,\n",
       " 9843,\n",
       " 8949,\n",
       " 9057,\n",
       " 9057,\n",
       " 6311,\n",
       " 5595,\n",
       " 6490,\n",
       " 6490,\n",
       " 11450,\n",
       " 11180,\n",
       " 10600,\n",
       " 5154,\n",
       " 5972,\n",
       " 8400,\n",
       " 7248,\n",
       " 8677,\n",
       " 7558,\n",
       " 5634,\n",
       " 6634,\n",
       " 4104,\n",
       " 7731,\n",
       " 16850,\n",
       " 17020,\n",
       " 10786,\n",
       " 12040,\n",
       " 16230,\n",
       " 10330,\n",
       " 13600,\n",
       " 13226,\n",
       " 11584,\n",
       " 5800,\n",
       " 8074,\n",
       " 6760,\n",
       " 17230,\n",
       " 7100,\n",
       " 4973,\n",
       " 4652,\n",
       " 11712,\n",
       " 8550,\n",
       " 5764,\n",
       " 4422,\n",
       " 5130,\n",
       " 4536,\n",
       " 4104,\n",
       " 12520,\n",
       " 16320,\n",
       " 15350,\n",
       " 7441,\n",
       " 11750,\n",
       " 6857,\n",
       " 15516,\n",
       " 6172,\n",
       " 12500,\n",
       " 14900,\n",
       " 9600,\n",
       " 5775,\n",
       " 12680,\n",
       " 4617,\n",
       " 17865,\n",
       " 18920,\n",
       " 7400,\n",
       " 15925,\n",
       " 10217,\n",
       " 8170,\n",
       " 7384,\n",
       " 4450,\n",
       " 13500,\n",
       " 7940,\n",
       " 6200,\n",
       " 11600,\n",
       " 15276,\n",
       " 5100,\n",
       " 5590,\n",
       " 9160,\n",
       " 18345,\n",
       " 14900,\n",
       " 9850,\n",
       " 9890,\n",
       " 11500,\n",
       " 19130,\n",
       " 7844,\n",
       " 4650,\n",
       " 4104,\n",
       " 6370,\n",
       " 14200,\n",
       " 9200,\n",
       " 6390,\n",
       " 14510,\n",
       " 8994,\n",
       " 7770,\n",
       " 5918,\n",
       " 8124,\n",
       " 5542,\n",
       " 12065,\n",
       " 10720,\n",
       " 14320,\n",
       " 18460,\n",
       " 10500,\n",
       " 13472,\n",
       " 16670,\n",
       " 16249,\n",
       " 12660,\n",
       " 12350,\n",
       " 14800,\n",
       " 10060,\n",
       " 3135,\n",
       " 10535,\n",
       " 11428,\n",
       " 7820,\n",
       " 4200,\n",
       " 6272,\n",
       " 6400,\n",
       " 15948,\n",
       " 12680,\n",
       " 13020,\n",
       " 15884,\n",
       " 6797,\n",
       " 11520,\n",
       " 6900,\n",
       " 12584,\n",
       " 4990]"
      ]
     },
     "execution_count": 48,
     "metadata": {},
     "output_type": "execute_result"
    }
   ],
   "source": [
    "e = edu_tuition.loc[:]\n",
    "list(e)\n"
   ]
  },
  {
   "cell_type": "code",
   "execution_count": 49,
   "metadata": {
    "collapsed": false
   },
   "outputs": [
    {
     "data": {
      "text/plain": [
       "15345551.737377889"
      ]
     },
     "execution_count": 49,
     "metadata": {},
     "output_type": "execute_result"
    }
   ],
   "source": [
    "np.var(list(e))"
   ]
  },
  {
   "cell_type": "code",
   "execution_count": null,
   "metadata": {
    "collapsed": true
   },
   "outputs": [],
   "source": []
  }
 ],
 "metadata": {
  "kernelspec": {
   "display_name": "Python 3",
   "language": "python",
   "name": "python3"
  },
  "language_info": {
   "codemirror_mode": {
    "name": "ipython",
    "version": 3
   },
   "file_extension": ".py",
   "mimetype": "text/x-python",
   "name": "python",
   "nbconvert_exporter": "python",
   "pygments_lexer": "ipython3",
   "version": "3.6.0"
  }
 },
 "nbformat": 4,
 "nbformat_minor": 2
}
