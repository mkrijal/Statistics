{
 "cells": [
  {
   "cell_type": "markdown",
   "metadata": {},
   "source": [
    "Although not all students have debt after graduating from college, more than half do. The College\n",
    "Board’s 2008 Trends in Student Aid addresses, among other topics, the difference in the average college\n",
    "debt accumulated by undergraduate Bachelor of Arts degree recipients by type of college for the 2006–\n",
    "2007 academic years. Samples might have been used to determine this difference in which the private,\n",
    "for profit colleges’ average was RM38,300 and the public college average was RM11,800. Suppose the\n",
    "respective standard deviations were RM2,050 and RM2,084. The sample sizes were 75 and 205, respectively."
   ]
  },
  {
   "cell_type": "markdown",
   "metadata": {},
   "source": [
    "a) Examine the sample standard deviations. What do these suggest is the relationship between the\n",
    "two population standard deviations? Support your assertion."
   ]
  },
  {
   "cell_type": "code",
   "execution_count": 45,
   "metadata": {
    "collapsed": true
   },
   "outputs": [],
   "source": [
    "n1 = 75 # sample size private college graduates\n",
    "n2 = 205 # sample size public college graduates\n",
    "sd1 = 2050 # standard deviation private college \n",
    "sd2 = 2084 # standard deviation public college\n",
    "x1 = 38300 # sample mean private college\n",
    "x2 = 11800 # sample mean public college"
   ]
  },
  {
   "cell_type": "code",
   "execution_count": 38,
   "metadata": {
    "collapsed": false
   },
   "outputs": [
    {
     "data": {
      "text/plain": [
       "26500"
      ]
     },
     "execution_count": 38,
     "metadata": {},
     "output_type": "execute_result"
    }
   ],
   "source": [
    "#Sample mean difference\n",
    "diff = x1 - x2\n",
    "diff"
   ]
  },
  {
   "cell_type": "code",
   "execution_count": 39,
   "metadata": {
    "collapsed": false
   },
   "outputs": [
    {
     "data": {
      "text/plain": [
       "-34"
      ]
     },
     "execution_count": 39,
     "metadata": {},
     "output_type": "execute_result"
    }
   ],
   "source": [
    "#Standard deviation difference\n",
    "sd3 = sd1 - sd2\n",
    "sd3"
   ]
  },
  {
   "cell_type": "markdown",
   "metadata": {},
   "source": [
    "We can conclude there is not much difference between the two population standard deviation"
   ]
  },
  {
   "cell_type": "markdown",
   "metadata": {},
   "source": [
    "b) Conduct a hypothesis test to determine if the average college debt for Bachelor of Arts degree\n",
    "recipients is at least RM25,000 more for graduates from private colleges than from public colleges.\n",
    "Use alpha = 0.05 significance level and a p-value approach for this hypothesis test."
   ]
  },
  {
   "cell_type": "markdown",
   "metadata": {},
   "source": [
    "\n",
    "Ho: u1 - u2 <= 25000, Ha: u1 - u2 > 25000"
   ]
  },
  {
   "cell_type": "code",
   "execution_count": 40,
   "metadata": {
    "collapsed": true
   },
   "outputs": [],
   "source": [
    "import pandas as pd\n",
    "import numpy as np\n",
    "import scipy.stats as st \n",
    "import math as m"
   ]
  },
  {
   "cell_type": "code",
   "execution_count": 11,
   "metadata": {
    "collapsed": false
   },
   "outputs": [
    {
     "data": {
      "text/plain": [
       "2075.0040513092113"
      ]
     },
     "execution_count": 11,
     "metadata": {},
     "output_type": "execute_result"
    }
   ],
   "source": [
    "std_pair = m.sqrt(((n1 - 1)* m.pow(sd1,2) + (n2 - 1)* m.pow(sd2,2)) / (n1 + n2 -2))\n",
    "std_pair"
   ]
  },
  {
   "cell_type": "code",
   "execution_count": 44,
   "metadata": {
    "collapsed": false
   },
   "outputs": [
    {
     "data": {
      "text/plain": [
       "5.356743565707556"
      ]
     },
     "execution_count": 44,
     "metadata": {},
     "output_type": "execute_result"
    }
   ],
   "source": [
    "#calculate t-statistics\n",
    "value1 = diff - 25000\n",
    "value2 = m.sqrt(1/n1 + 1/n2)\n",
    "\n",
    "\n",
    "t = value1 / (std_pair * value2)\n",
    "t"
   ]
  },
  {
   "cell_type": "code",
   "execution_count": 32,
   "metadata": {
    "collapsed": false
   },
   "outputs": [
    {
     "name": "stdout",
     "output_type": "stream",
     "text": [
      "1.65035323318\n"
     ]
    }
   ],
   "source": [
    "#Get upper tail critical value\n",
    "z = st.t.ppf(1 - 0.05, n1 + n2 -2)\n",
    "print (z)"
   ]
  },
  {
   "cell_type": "markdown",
   "metadata": {},
   "source": [
    "t(5.36) > z(1.650), Therefore Ho is rejected"
   ]
  },
  {
   "cell_type": "code",
   "execution_count": null,
   "metadata": {
    "collapsed": true
   },
   "outputs": [],
   "source": []
  }
 ],
 "metadata": {
  "kernelspec": {
   "display_name": "Python 3",
   "language": "python",
   "name": "python3"
  },
  "language_info": {
   "codemirror_mode": {
    "name": "ipython",
    "version": 3
   },
   "file_extension": ".py",
   "mimetype": "text/x-python",
   "name": "python",
   "nbconvert_exporter": "python",
   "pygments_lexer": "ipython3",
   "version": "3.6.0"
  }
 },
 "nbformat": 4,
 "nbformat_minor": 2
}
