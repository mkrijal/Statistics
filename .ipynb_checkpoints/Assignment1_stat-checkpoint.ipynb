{
 "cells": [
  {
   "cell_type": "code",
   "execution_count": 1,
   "metadata": {
    "collapsed": true
   },
   "outputs": [],
   "source": [
    "import pandas as pd\n",
    "import numpy as np"
   ]
  },
  {
   "cell_type": "code",
   "execution_count": 11,
   "metadata": {
    "collapsed": false
   },
   "outputs": [
    {
     "data": {
      "text/html": [
       "<div>\n",
       "<table border=\"1\" class=\"dataframe\">\n",
       "  <thead>\n",
       "    <tr style=\"text-align: right;\">\n",
       "      <th></th>\n",
       "      <th>0</th>\n",
       "      <th>1</th>\n",
       "      <th>2</th>\n",
       "      <th>3</th>\n",
       "      <th>4</th>\n",
       "      <th>5</th>\n",
       "      <th>6</th>\n",
       "      <th>7</th>\n",
       "      <th>8</th>\n",
       "      <th>9</th>\n",
       "    </tr>\n",
       "  </thead>\n",
       "  <tbody>\n",
       "    <tr>\n",
       "      <th>0</th>\n",
       "      <td>40859</td>\n",
       "      <td>37145</td>\n",
       "      <td>42928</td>\n",
       "      <td>46851</td>\n",
       "      <td>46554</td>\n",
       "      <td>48586</td>\n",
       "      <td>33702</td>\n",
       "      <td>41110</td>\n",
       "      <td>46161</td>\n",
       "      <td>37871</td>\n",
       "    </tr>\n",
       "    <tr>\n",
       "      <th>1</th>\n",
       "      <td>39377</td>\n",
       "      <td>35576</td>\n",
       "      <td>34982</td>\n",
       "      <td>38285</td>\n",
       "      <td>39061</td>\n",
       "      <td>33952</td>\n",
       "      <td>39842</td>\n",
       "      <td>40465</td>\n",
       "      <td>42512</td>\n",
       "      <td>40611</td>\n",
       "    </tr>\n",
       "    <tr>\n",
       "      <th>2</th>\n",
       "      <td>40757</td>\n",
       "      <td>40593</td>\n",
       "      <td>47102</td>\n",
       "      <td>41676</td>\n",
       "      <td>41293</td>\n",
       "      <td>40050</td>\n",
       "      <td>49494</td>\n",
       "      <td>45290</td>\n",
       "      <td>51027</td>\n",
       "      <td>39511</td>\n",
       "    </tr>\n",
       "    <tr>\n",
       "      <th>3</th>\n",
       "      <td>48314</td>\n",
       "      <td>35873</td>\n",
       "      <td>44048</td>\n",
       "      <td>45428</td>\n",
       "      <td>49292</td>\n",
       "      <td>41679</td>\n",
       "      <td>40010</td>\n",
       "      <td>44566</td>\n",
       "      <td>40551</td>\n",
       "      <td>44879</td>\n",
       "    </tr>\n",
       "    <tr>\n",
       "      <th>4</th>\n",
       "      <td>36512</td>\n",
       "      <td>38780</td>\n",
       "      <td>36218</td>\n",
       "      <td>40621</td>\n",
       "      <td>41877</td>\n",
       "      <td>42107</td>\n",
       "      <td>40774</td>\n",
       "      <td>50339</td>\n",
       "      <td>35379</td>\n",
       "      <td>39201</td>\n",
       "    </tr>\n",
       "  </tbody>\n",
       "</table>\n",
       "</div>"
      ],
      "text/plain": [
       "       0      1      2      3      4      5      6      7      8      9\n",
       "0  40859  37145  42928  46851  46554  48586  33702  41110  46161  37871\n",
       "1  39377  35576  34982  38285  39061  33952  39842  40465  42512  40611\n",
       "2  40757  40593  47102  41676  41293  40050  49494  45290  51027  39511\n",
       "3  48314  35873  44048  45428  49292  41679  40010  44566  40551  44879\n",
       "4  36512  38780  36218  40621  41877  42107  40774  50339  35379  39201"
      ]
     },
     "execution_count": 11,
     "metadata": {},
     "output_type": "execute_result"
    }
   ],
   "source": [
    "garbage = pd.read_excel('D://Business Statistic/MANB1123-master/MANB1123-master/Data_Set/Cozine.xlsx', header = None)\n",
    "garbage.head()"
   ]
  },
  {
   "cell_type": "code",
   "execution_count": 3,
   "metadata": {
    "collapsed": false
   },
   "outputs": [
    {
     "name": "stdout",
     "output_type": "stream",
     "text": [
      "<class 'pandas.core.frame.DataFrame'>\n",
      "RangeIndex: 19 entries, 0 to 18\n",
      "Data columns (total 10 columns):\n",
      "40859    19 non-null int64\n",
      "37145    19 non-null int64\n",
      "42928    19 non-null int64\n",
      "46851    19 non-null int64\n",
      "46554    19 non-null int64\n",
      "48586    19 non-null int64\n",
      "33702    19 non-null int64\n",
      "41110    19 non-null int64\n",
      "46161    19 non-null int64\n",
      "37871    19 non-null int64\n",
      "dtypes: int64(10)\n",
      "memory usage: 1.6 KB\n"
     ]
    }
   ],
   "source": [
    "garbage.info()"
   ]
  },
  {
   "cell_type": "code",
   "execution_count": 4,
   "metadata": {
    "collapsed": false
   },
   "outputs": [
    {
     "data": {
      "text/html": [
       "<div>\n",
       "<table border=\"1\" class=\"dataframe\">\n",
       "  <thead>\n",
       "    <tr style=\"text-align: right;\">\n",
       "      <th></th>\n",
       "      <th>40859</th>\n",
       "      <th>37145</th>\n",
       "      <th>42928</th>\n",
       "      <th>46851</th>\n",
       "      <th>46554</th>\n",
       "      <th>48586</th>\n",
       "      <th>33702</th>\n",
       "      <th>41110</th>\n",
       "      <th>46161</th>\n",
       "      <th>37871</th>\n",
       "    </tr>\n",
       "  </thead>\n",
       "  <tbody>\n",
       "    <tr>\n",
       "      <th>count</th>\n",
       "      <td>19.000000</td>\n",
       "      <td>19.000000</td>\n",
       "      <td>19.000000</td>\n",
       "      <td>19.000000</td>\n",
       "      <td>19.000000</td>\n",
       "      <td>19.000000</td>\n",
       "      <td>19.000000</td>\n",
       "      <td>19.000000</td>\n",
       "      <td>19.000000</td>\n",
       "      <td>19.000000</td>\n",
       "    </tr>\n",
       "    <tr>\n",
       "      <th>mean</th>\n",
       "      <td>42396.947368</td>\n",
       "      <td>42956.947368</td>\n",
       "      <td>42727.210526</td>\n",
       "      <td>40618.947368</td>\n",
       "      <td>42780.105263</td>\n",
       "      <td>41094.526316</td>\n",
       "      <td>42445.368421</td>\n",
       "      <td>43006.578947</td>\n",
       "      <td>42282.842105</td>\n",
       "      <td>42341.105263</td>\n",
       "    </tr>\n",
       "    <tr>\n",
       "      <th>std</th>\n",
       "      <td>4162.603412</td>\n",
       "      <td>4178.494299</td>\n",
       "      <td>3904.767322</td>\n",
       "      <td>2271.518667</td>\n",
       "      <td>4048.497429</td>\n",
       "      <td>4697.307815</td>\n",
       "      <td>3935.349543</td>\n",
       "      <td>4004.357187</td>\n",
       "      <td>4614.511835</td>\n",
       "      <td>2581.232498</td>\n",
       "    </tr>\n",
       "    <tr>\n",
       "      <th>min</th>\n",
       "      <td>32205.000000</td>\n",
       "      <td>35576.000000</td>\n",
       "      <td>34982.000000</td>\n",
       "      <td>37360.000000</td>\n",
       "      <td>36153.000000</td>\n",
       "      <td>31476.000000</td>\n",
       "      <td>37038.000000</td>\n",
       "      <td>36076.000000</td>\n",
       "      <td>35256.000000</td>\n",
       "      <td>37760.000000</td>\n",
       "    </tr>\n",
       "    <tr>\n",
       "      <th>25%</th>\n",
       "      <td>40167.500000</td>\n",
       "      <td>40065.000000</td>\n",
       "      <td>41215.000000</td>\n",
       "      <td>38930.500000</td>\n",
       "      <td>39049.000000</td>\n",
       "      <td>40433.500000</td>\n",
       "      <td>39815.500000</td>\n",
       "      <td>39672.500000</td>\n",
       "      <td>40026.000000</td>\n",
       "      <td>40444.000000</td>\n",
       "    </tr>\n",
       "    <tr>\n",
       "      <th>50%</th>\n",
       "      <td>42714.000000</td>\n",
       "      <td>44059.000000</td>\n",
       "      <td>42907.000000</td>\n",
       "      <td>40329.000000</td>\n",
       "      <td>42327.000000</td>\n",
       "      <td>41838.000000</td>\n",
       "      <td>42224.000000</td>\n",
       "      <td>44238.000000</td>\n",
       "      <td>42159.000000</td>\n",
       "      <td>42217.000000</td>\n",
       "    </tr>\n",
       "    <tr>\n",
       "      <th>75%</th>\n",
       "      <td>44162.500000</td>\n",
       "      <td>46357.000000</td>\n",
       "      <td>45164.000000</td>\n",
       "      <td>42052.500000</td>\n",
       "      <td>46395.000000</td>\n",
       "      <td>43947.000000</td>\n",
       "      <td>43927.000000</td>\n",
       "      <td>45369.000000</td>\n",
       "      <td>44841.500000</td>\n",
       "      <td>44207.500000</td>\n",
       "    </tr>\n",
       "    <tr>\n",
       "      <th>max</th>\n",
       "      <td>50382.000000</td>\n",
       "      <td>48415.000000</td>\n",
       "      <td>49573.000000</td>\n",
       "      <td>45428.000000</td>\n",
       "      <td>49292.000000</td>\n",
       "      <td>48196.000000</td>\n",
       "      <td>52774.000000</td>\n",
       "      <td>50339.000000</td>\n",
       "      <td>51027.000000</td>\n",
       "      <td>47062.000000</td>\n",
       "    </tr>\n",
       "  </tbody>\n",
       "</table>\n",
       "</div>"
      ],
      "text/plain": [
       "              40859         37145         42928         46851         46554  \\\n",
       "count     19.000000     19.000000     19.000000     19.000000     19.000000   \n",
       "mean   42396.947368  42956.947368  42727.210526  40618.947368  42780.105263   \n",
       "std     4162.603412   4178.494299   3904.767322   2271.518667   4048.497429   \n",
       "min    32205.000000  35576.000000  34982.000000  37360.000000  36153.000000   \n",
       "25%    40167.500000  40065.000000  41215.000000  38930.500000  39049.000000   \n",
       "50%    42714.000000  44059.000000  42907.000000  40329.000000  42327.000000   \n",
       "75%    44162.500000  46357.000000  45164.000000  42052.500000  46395.000000   \n",
       "max    50382.000000  48415.000000  49573.000000  45428.000000  49292.000000   \n",
       "\n",
       "              48586         33702         41110         46161         37871  \n",
       "count     19.000000     19.000000     19.000000     19.000000     19.000000  \n",
       "mean   41094.526316  42445.368421  43006.578947  42282.842105  42341.105263  \n",
       "std     4697.307815   3935.349543   4004.357187   4614.511835   2581.232498  \n",
       "min    31476.000000  37038.000000  36076.000000  35256.000000  37760.000000  \n",
       "25%    40433.500000  39815.500000  39672.500000  40026.000000  40444.000000  \n",
       "50%    41838.000000  42224.000000  44238.000000  42159.000000  42217.000000  \n",
       "75%    43947.000000  43927.000000  45369.000000  44841.500000  44207.500000  \n",
       "max    48196.000000  52774.000000  50339.000000  51027.000000  47062.000000  "
      ]
     },
     "execution_count": 4,
     "metadata": {},
     "output_type": "execute_result"
    }
   ],
   "source": [
    "garbage.describe()"
   ]
  },
  {
   "cell_type": "code",
   "execution_count": 5,
   "metadata": {
    "collapsed": false
   },
   "outputs": [
    {
     "data": {
      "text/plain": [
       "19"
      ]
     },
     "execution_count": 5,
     "metadata": {},
     "output_type": "execute_result"
    }
   ],
   "source": [
    "garbage.shape[0]"
   ]
  },
  {
   "cell_type": "code",
   "execution_count": 6,
   "metadata": {
    "collapsed": false
   },
   "outputs": [
    {
     "data": {
      "text/plain": [
       "10"
      ]
     },
     "execution_count": 6,
     "metadata": {},
     "output_type": "execute_result"
    }
   ],
   "source": [
    "garbage.shape[1]"
   ]
  },
  {
   "cell_type": "code",
   "execution_count": 21,
   "metadata": {
    "collapsed": false
   },
   "outputs": [
    {
     "data": {
      "text/plain": [
       "0    846401\n",
       "1    853327\n",
       "2    854745\n",
       "3    818611\n",
       "4    859376\n",
       "5    829382\n",
       "6    840164\n",
       "7    858235\n",
       "8    849535\n",
       "9    842352\n",
       "dtype: int64"
      ]
     },
     "execution_count": 21,
     "metadata": {},
     "output_type": "execute_result"
    }
   ],
   "source": [
    "garbage.sum()"
   ]
  },
  {
   "cell_type": "code",
   "execution_count": 22,
   "metadata": {
    "collapsed": false
   },
   "outputs": [
    {
     "data": {
      "text/html": [
       "<div>\n",
       "<table border=\"1\" class=\"dataframe\">\n",
       "  <thead>\n",
       "    <tr style=\"text-align: right;\">\n",
       "      <th></th>\n",
       "      <th>0</th>\n",
       "      <th>1</th>\n",
       "      <th>2</th>\n",
       "      <th>3</th>\n",
       "      <th>4</th>\n",
       "      <th>5</th>\n",
       "      <th>6</th>\n",
       "      <th>7</th>\n",
       "      <th>8</th>\n",
       "      <th>9</th>\n",
       "    </tr>\n",
       "  </thead>\n",
       "  <tbody>\n",
       "    <tr>\n",
       "      <th>count</th>\n",
       "      <td>20.000000</td>\n",
       "      <td>20.00000</td>\n",
       "      <td>20.000000</td>\n",
       "      <td>20.0000</td>\n",
       "      <td>20.000000</td>\n",
       "      <td>20.00000</td>\n",
       "      <td>20.000000</td>\n",
       "      <td>20.000000</td>\n",
       "      <td>20.000000</td>\n",
       "      <td>20.000000</td>\n",
       "    </tr>\n",
       "    <tr>\n",
       "      <th>mean</th>\n",
       "      <td>42320.050000</td>\n",
       "      <td>42666.35000</td>\n",
       "      <td>42737.250000</td>\n",
       "      <td>40930.5500</td>\n",
       "      <td>42968.800000</td>\n",
       "      <td>41469.10000</td>\n",
       "      <td>42008.200000</td>\n",
       "      <td>42911.750000</td>\n",
       "      <td>42476.750000</td>\n",
       "      <td>42117.600000</td>\n",
       "    </tr>\n",
       "    <tr>\n",
       "      <th>std</th>\n",
       "      <td>4066.149264</td>\n",
       "      <td>4269.63858</td>\n",
       "      <td>3800.886612</td>\n",
       "      <td>2613.4561</td>\n",
       "      <td>4029.863085</td>\n",
       "      <td>4869.24117</td>\n",
       "      <td>4300.487948</td>\n",
       "      <td>3920.559424</td>\n",
       "      <td>4574.385514</td>\n",
       "      <td>2703.919677</td>\n",
       "    </tr>\n",
       "    <tr>\n",
       "      <th>min</th>\n",
       "      <td>32205.000000</td>\n",
       "      <td>35576.00000</td>\n",
       "      <td>34982.000000</td>\n",
       "      <td>37360.0000</td>\n",
       "      <td>36153.000000</td>\n",
       "      <td>31476.00000</td>\n",
       "      <td>33702.000000</td>\n",
       "      <td>36076.000000</td>\n",
       "      <td>35256.000000</td>\n",
       "      <td>37760.000000</td>\n",
       "    </tr>\n",
       "    <tr>\n",
       "      <th>25%</th>\n",
       "      <td>40246.250000</td>\n",
       "      <td>39347.75000</td>\n",
       "      <td>41297.000000</td>\n",
       "      <td>39223.2500</td>\n",
       "      <td>39055.000000</td>\n",
       "      <td>40625.25000</td>\n",
       "      <td>39717.750000</td>\n",
       "      <td>40068.750000</td>\n",
       "      <td>40198.000000</td>\n",
       "      <td>40086.500000</td>\n",
       "    </tr>\n",
       "    <tr>\n",
       "      <th>50%</th>\n",
       "      <td>42494.500000</td>\n",
       "      <td>43642.50000</td>\n",
       "      <td>42917.500000</td>\n",
       "      <td>40475.0000</td>\n",
       "      <td>42413.500000</td>\n",
       "      <td>41972.50000</td>\n",
       "      <td>42063.500000</td>\n",
       "      <td>44133.500000</td>\n",
       "      <td>42335.500000</td>\n",
       "      <td>42195.000000</td>\n",
       "    </tr>\n",
       "    <tr>\n",
       "      <th>75%</th>\n",
       "      <td>43925.250000</td>\n",
       "      <td>45792.50000</td>\n",
       "      <td>45108.000000</td>\n",
       "      <td>42459.5000</td>\n",
       "      <td>46591.750000</td>\n",
       "      <td>44202.50000</td>\n",
       "      <td>43844.500000</td>\n",
       "      <td>45329.500000</td>\n",
       "      <td>45071.750000</td>\n",
       "      <td>44098.250000</td>\n",
       "    </tr>\n",
       "    <tr>\n",
       "      <th>max</th>\n",
       "      <td>50382.000000</td>\n",
       "      <td>48415.00000</td>\n",
       "      <td>49573.000000</td>\n",
       "      <td>46851.0000</td>\n",
       "      <td>49292.000000</td>\n",
       "      <td>48586.00000</td>\n",
       "      <td>52774.000000</td>\n",
       "      <td>50339.000000</td>\n",
       "      <td>51027.000000</td>\n",
       "      <td>47062.000000</td>\n",
       "    </tr>\n",
       "  </tbody>\n",
       "</table>\n",
       "</div>"
      ],
      "text/plain": [
       "                  0            1             2           3             4  \\\n",
       "count     20.000000     20.00000     20.000000     20.0000     20.000000   \n",
       "mean   42320.050000  42666.35000  42737.250000  40930.5500  42968.800000   \n",
       "std     4066.149264   4269.63858   3800.886612   2613.4561   4029.863085   \n",
       "min    32205.000000  35576.00000  34982.000000  37360.0000  36153.000000   \n",
       "25%    40246.250000  39347.75000  41297.000000  39223.2500  39055.000000   \n",
       "50%    42494.500000  43642.50000  42917.500000  40475.0000  42413.500000   \n",
       "75%    43925.250000  45792.50000  45108.000000  42459.5000  46591.750000   \n",
       "max    50382.000000  48415.00000  49573.000000  46851.0000  49292.000000   \n",
       "\n",
       "                 5             6             7             8             9  \n",
       "count     20.00000     20.000000     20.000000     20.000000     20.000000  \n",
       "mean   41469.10000  42008.200000  42911.750000  42476.750000  42117.600000  \n",
       "std     4869.24117   4300.487948   3920.559424   4574.385514   2703.919677  \n",
       "min    31476.00000  33702.000000  36076.000000  35256.000000  37760.000000  \n",
       "25%    40625.25000  39717.750000  40068.750000  40198.000000  40086.500000  \n",
       "50%    41972.50000  42063.500000  44133.500000  42335.500000  42195.000000  \n",
       "75%    44202.50000  43844.500000  45329.500000  45071.750000  44098.250000  \n",
       "max    48586.00000  52774.000000  50339.000000  51027.000000  47062.000000  "
      ]
     },
     "execution_count": 22,
     "metadata": {},
     "output_type": "execute_result"
    }
   ],
   "source": [
    "garbage.describe()"
   ]
  },
  {
   "cell_type": "code",
   "execution_count": 24,
   "metadata": {
    "collapsed": false
   },
   "outputs": [
    {
     "data": {
      "text/plain": [
       "[0, 1, 2, 3, 4, 5, 6, 7, 8, 9]"
      ]
     },
     "execution_count": 24,
     "metadata": {},
     "output_type": "execute_result"
    }
   ],
   "source": [
    "list(garbage)"
   ]
  },
  {
   "cell_type": "code",
   "execution_count": 27,
   "metadata": {
    "collapsed": false
   },
   "outputs": [
    {
     "data": {
      "text/plain": [
       "[40859,\n",
       " 39377,\n",
       " 40757,\n",
       " 48314,\n",
       " 36512,\n",
       " 32205,\n",
       " 44637,\n",
       " 42275,\n",
       " 50382,\n",
       " 43688,\n",
       " 40010,\n",
       " 39912,\n",
       " 45945,\n",
       " 40325,\n",
       " 42714,\n",
       " 43535,\n",
       " 47145,\n",
       " 43652,\n",
       " 42981,\n",
       " 41176]"
      ]
     },
     "execution_count": 27,
     "metadata": {},
     "output_type": "execute_result"
    }
   ],
   "source": [
    "list(garbage[0])"
   ]
  },
  {
   "cell_type": "code",
   "execution_count": 32,
   "metadata": {
    "collapsed": false
   },
   "outputs": [
    {
     "data": {
      "text/html": [
       "<div>\n",
       "<table border=\"1\" class=\"dataframe\">\n",
       "  <thead>\n",
       "    <tr style=\"text-align: right;\">\n",
       "      <th></th>\n",
       "      <th>0</th>\n",
       "      <th>1</th>\n",
       "      <th>2</th>\n",
       "      <th>3</th>\n",
       "      <th>4</th>\n",
       "      <th>5</th>\n",
       "      <th>6</th>\n",
       "      <th>7</th>\n",
       "      <th>8</th>\n",
       "      <th>9</th>\n",
       "    </tr>\n",
       "  </thead>\n",
       "  <tbody>\n",
       "    <tr>\n",
       "      <th>0</th>\n",
       "      <td>NaN</td>\n",
       "      <td>NaN</td>\n",
       "      <td>NaN</td>\n",
       "      <td>46851.0</td>\n",
       "      <td>46554.0</td>\n",
       "      <td>48586.0</td>\n",
       "      <td>NaN</td>\n",
       "      <td>NaN</td>\n",
       "      <td>46161.0</td>\n",
       "      <td>NaN</td>\n",
       "    </tr>\n",
       "    <tr>\n",
       "      <th>1</th>\n",
       "      <td>NaN</td>\n",
       "      <td>NaN</td>\n",
       "      <td>NaN</td>\n",
       "      <td>NaN</td>\n",
       "      <td>NaN</td>\n",
       "      <td>NaN</td>\n",
       "      <td>NaN</td>\n",
       "      <td>NaN</td>\n",
       "      <td>NaN</td>\n",
       "      <td>NaN</td>\n",
       "    </tr>\n",
       "    <tr>\n",
       "      <th>2</th>\n",
       "      <td>NaN</td>\n",
       "      <td>NaN</td>\n",
       "      <td>47102.0</td>\n",
       "      <td>NaN</td>\n",
       "      <td>NaN</td>\n",
       "      <td>NaN</td>\n",
       "      <td>49494.0</td>\n",
       "      <td>45290.0</td>\n",
       "      <td>51027.0</td>\n",
       "      <td>NaN</td>\n",
       "    </tr>\n",
       "    <tr>\n",
       "      <th>3</th>\n",
       "      <td>48314.0</td>\n",
       "      <td>NaN</td>\n",
       "      <td>NaN</td>\n",
       "      <td>45428.0</td>\n",
       "      <td>49292.0</td>\n",
       "      <td>NaN</td>\n",
       "      <td>NaN</td>\n",
       "      <td>NaN</td>\n",
       "      <td>NaN</td>\n",
       "      <td>NaN</td>\n",
       "    </tr>\n",
       "    <tr>\n",
       "      <th>4</th>\n",
       "      <td>NaN</td>\n",
       "      <td>NaN</td>\n",
       "      <td>NaN</td>\n",
       "      <td>NaN</td>\n",
       "      <td>NaN</td>\n",
       "      <td>NaN</td>\n",
       "      <td>NaN</td>\n",
       "      <td>50339.0</td>\n",
       "      <td>NaN</td>\n",
       "      <td>NaN</td>\n",
       "    </tr>\n",
       "    <tr>\n",
       "      <th>5</th>\n",
       "      <td>NaN</td>\n",
       "      <td>47501.0</td>\n",
       "      <td>NaN</td>\n",
       "      <td>NaN</td>\n",
       "      <td>NaN</td>\n",
       "      <td>NaN</td>\n",
       "      <td>45324.0</td>\n",
       "      <td>NaN</td>\n",
       "      <td>NaN</td>\n",
       "      <td>NaN</td>\n",
       "    </tr>\n",
       "    <tr>\n",
       "      <th>6</th>\n",
       "      <td>NaN</td>\n",
       "      <td>NaN</td>\n",
       "      <td>NaN</td>\n",
       "      <td>NaN</td>\n",
       "      <td>NaN</td>\n",
       "      <td>NaN</td>\n",
       "      <td>NaN</td>\n",
       "      <td>NaN</td>\n",
       "      <td>49162.0</td>\n",
       "      <td>NaN</td>\n",
       "    </tr>\n",
       "    <tr>\n",
       "      <th>7</th>\n",
       "      <td>NaN</td>\n",
       "      <td>45153.0</td>\n",
       "      <td>45276.0</td>\n",
       "      <td>NaN</td>\n",
       "      <td>NaN</td>\n",
       "      <td>46223.0</td>\n",
       "      <td>NaN</td>\n",
       "      <td>NaN</td>\n",
       "      <td>NaN</td>\n",
       "      <td>NaN</td>\n",
       "    </tr>\n",
       "    <tr>\n",
       "      <th>8</th>\n",
       "      <td>50382.0</td>\n",
       "      <td>47486.0</td>\n",
       "      <td>46955.0</td>\n",
       "      <td>NaN</td>\n",
       "      <td>NaN</td>\n",
       "      <td>NaN</td>\n",
       "      <td>NaN</td>\n",
       "      <td>NaN</td>\n",
       "      <td>NaN</td>\n",
       "      <td>45148.0</td>\n",
       "    </tr>\n",
       "    <tr>\n",
       "      <th>9</th>\n",
       "      <td>NaN</td>\n",
       "      <td>NaN</td>\n",
       "      <td>NaN</td>\n",
       "      <td>NaN</td>\n",
       "      <td>46705.0</td>\n",
       "      <td>NaN</td>\n",
       "      <td>NaN</td>\n",
       "      <td>NaN</td>\n",
       "      <td>NaN</td>\n",
       "      <td>NaN</td>\n",
       "    </tr>\n",
       "    <tr>\n",
       "      <th>10</th>\n",
       "      <td>NaN</td>\n",
       "      <td>45228.0</td>\n",
       "      <td>NaN</td>\n",
       "      <td>NaN</td>\n",
       "      <td>46959.0</td>\n",
       "      <td>NaN</td>\n",
       "      <td>NaN</td>\n",
       "      <td>NaN</td>\n",
       "      <td>NaN</td>\n",
       "      <td>NaN</td>\n",
       "    </tr>\n",
       "    <tr>\n",
       "      <th>11</th>\n",
       "      <td>NaN</td>\n",
       "      <td>45227.0</td>\n",
       "      <td>45052.0</td>\n",
       "      <td>NaN</td>\n",
       "      <td>NaN</td>\n",
       "      <td>48196.0</td>\n",
       "      <td>NaN</td>\n",
       "      <td>NaN</td>\n",
       "      <td>49041.0</td>\n",
       "      <td>NaN</td>\n",
       "    </tr>\n",
       "    <tr>\n",
       "      <th>12</th>\n",
       "      <td>45945.0</td>\n",
       "      <td>NaN</td>\n",
       "      <td>46336.0</td>\n",
       "      <td>NaN</td>\n",
       "      <td>NaN</td>\n",
       "      <td>46089.0</td>\n",
       "      <td>NaN</td>\n",
       "      <td>NaN</td>\n",
       "      <td>NaN</td>\n",
       "      <td>NaN</td>\n",
       "    </tr>\n",
       "    <tr>\n",
       "      <th>13</th>\n",
       "      <td>NaN</td>\n",
       "      <td>NaN</td>\n",
       "      <td>49573.0</td>\n",
       "      <td>NaN</td>\n",
       "      <td>NaN</td>\n",
       "      <td>NaN</td>\n",
       "      <td>52774.0</td>\n",
       "      <td>46758.0</td>\n",
       "      <td>45347.0</td>\n",
       "      <td>47062.0</td>\n",
       "    </tr>\n",
       "    <tr>\n",
       "      <th>14</th>\n",
       "      <td>NaN</td>\n",
       "      <td>NaN</td>\n",
       "      <td>NaN</td>\n",
       "      <td>NaN</td>\n",
       "      <td>46813.0</td>\n",
       "      <td>NaN</td>\n",
       "      <td>NaN</td>\n",
       "      <td>NaN</td>\n",
       "      <td>NaN</td>\n",
       "      <td>NaN</td>\n",
       "    </tr>\n",
       "    <tr>\n",
       "      <th>15</th>\n",
       "      <td>NaN</td>\n",
       "      <td>NaN</td>\n",
       "      <td>NaN</td>\n",
       "      <td>NaN</td>\n",
       "      <td>46085.0</td>\n",
       "      <td>NaN</td>\n",
       "      <td>NaN</td>\n",
       "      <td>47575.0</td>\n",
       "      <td>NaN</td>\n",
       "      <td>NaN</td>\n",
       "    </tr>\n",
       "    <tr>\n",
       "      <th>16</th>\n",
       "      <td>47145.0</td>\n",
       "      <td>48415.0</td>\n",
       "      <td>NaN</td>\n",
       "      <td>NaN</td>\n",
       "      <td>49047.0</td>\n",
       "      <td>NaN</td>\n",
       "      <td>NaN</td>\n",
       "      <td>45448.0</td>\n",
       "      <td>NaN</td>\n",
       "      <td>45949.0</td>\n",
       "    </tr>\n",
       "    <tr>\n",
       "      <th>17</th>\n",
       "      <td>NaN</td>\n",
       "      <td>47523.0</td>\n",
       "      <td>NaN</td>\n",
       "      <td>NaN</td>\n",
       "      <td>NaN</td>\n",
       "      <td>NaN</td>\n",
       "      <td>NaN</td>\n",
       "      <td>NaN</td>\n",
       "      <td>NaN</td>\n",
       "      <td>NaN</td>\n",
       "    </tr>\n",
       "    <tr>\n",
       "      <th>18</th>\n",
       "      <td>NaN</td>\n",
       "      <td>47609.0</td>\n",
       "      <td>NaN</td>\n",
       "      <td>NaN</td>\n",
       "      <td>NaN</td>\n",
       "      <td>NaN</td>\n",
       "      <td>45614.0</td>\n",
       "      <td>NaN</td>\n",
       "      <td>NaN</td>\n",
       "      <td>NaN</td>\n",
       "    </tr>\n",
       "    <tr>\n",
       "      <th>19</th>\n",
       "      <td>NaN</td>\n",
       "      <td>NaN</td>\n",
       "      <td>NaN</td>\n",
       "      <td>NaN</td>\n",
       "      <td>NaN</td>\n",
       "      <td>NaN</td>\n",
       "      <td>NaN</td>\n",
       "      <td>46801.0</td>\n",
       "      <td>NaN</td>\n",
       "      <td>NaN</td>\n",
       "    </tr>\n",
       "  </tbody>\n",
       "</table>\n",
       "</div>"
      ],
      "text/plain": [
       "          0        1        2        3        4        5        6        7  \\\n",
       "0       NaN      NaN      NaN  46851.0  46554.0  48586.0      NaN      NaN   \n",
       "1       NaN      NaN      NaN      NaN      NaN      NaN      NaN      NaN   \n",
       "2       NaN      NaN  47102.0      NaN      NaN      NaN  49494.0  45290.0   \n",
       "3   48314.0      NaN      NaN  45428.0  49292.0      NaN      NaN      NaN   \n",
       "4       NaN      NaN      NaN      NaN      NaN      NaN      NaN  50339.0   \n",
       "5       NaN  47501.0      NaN      NaN      NaN      NaN  45324.0      NaN   \n",
       "6       NaN      NaN      NaN      NaN      NaN      NaN      NaN      NaN   \n",
       "7       NaN  45153.0  45276.0      NaN      NaN  46223.0      NaN      NaN   \n",
       "8   50382.0  47486.0  46955.0      NaN      NaN      NaN      NaN      NaN   \n",
       "9       NaN      NaN      NaN      NaN  46705.0      NaN      NaN      NaN   \n",
       "10      NaN  45228.0      NaN      NaN  46959.0      NaN      NaN      NaN   \n",
       "11      NaN  45227.0  45052.0      NaN      NaN  48196.0      NaN      NaN   \n",
       "12  45945.0      NaN  46336.0      NaN      NaN  46089.0      NaN      NaN   \n",
       "13      NaN      NaN  49573.0      NaN      NaN      NaN  52774.0  46758.0   \n",
       "14      NaN      NaN      NaN      NaN  46813.0      NaN      NaN      NaN   \n",
       "15      NaN      NaN      NaN      NaN  46085.0      NaN      NaN  47575.0   \n",
       "16  47145.0  48415.0      NaN      NaN  49047.0      NaN      NaN  45448.0   \n",
       "17      NaN  47523.0      NaN      NaN      NaN      NaN      NaN      NaN   \n",
       "18      NaN  47609.0      NaN      NaN      NaN      NaN  45614.0      NaN   \n",
       "19      NaN      NaN      NaN      NaN      NaN      NaN      NaN  46801.0   \n",
       "\n",
       "          8        9  \n",
       "0   46161.0      NaN  \n",
       "1       NaN      NaN  \n",
       "2   51027.0      NaN  \n",
       "3       NaN      NaN  \n",
       "4       NaN      NaN  \n",
       "5       NaN      NaN  \n",
       "6   49162.0      NaN  \n",
       "7       NaN      NaN  \n",
       "8       NaN  45148.0  \n",
       "9       NaN      NaN  \n",
       "10      NaN      NaN  \n",
       "11  49041.0      NaN  \n",
       "12      NaN      NaN  \n",
       "13  45347.0  47062.0  \n",
       "14      NaN      NaN  \n",
       "15      NaN      NaN  \n",
       "16      NaN  45949.0  \n",
       "17      NaN      NaN  \n",
       "18      NaN      NaN  \n",
       "19      NaN      NaN  "
      ]
     },
     "execution_count": 32,
     "metadata": {},
     "output_type": "execute_result"
    }
   ],
   "source": [
    "more = garbage[garbage.ix[:]>45000]\n",
    "more"
   ]
  },
  {
   "cell_type": "code",
   "execution_count": 34,
   "metadata": {
    "collapsed": false
   },
   "outputs": [
    {
     "data": {
      "text/html": [
       "<div>\n",
       "<table border=\"1\" class=\"dataframe\">\n",
       "  <thead>\n",
       "    <tr style=\"text-align: right;\">\n",
       "      <th></th>\n",
       "      <th>0</th>\n",
       "      <th>1</th>\n",
       "      <th>2</th>\n",
       "      <th>3</th>\n",
       "      <th>4</th>\n",
       "      <th>5</th>\n",
       "      <th>6</th>\n",
       "      <th>7</th>\n",
       "      <th>8</th>\n",
       "      <th>9</th>\n",
       "    </tr>\n",
       "  </thead>\n",
       "  <tbody>\n",
       "    <tr>\n",
       "      <th>0</th>\n",
       "      <td>40859.0</td>\n",
       "      <td>37145.0</td>\n",
       "      <td>42928.0</td>\n",
       "      <td>NaN</td>\n",
       "      <td>NaN</td>\n",
       "      <td>NaN</td>\n",
       "      <td>33702.0</td>\n",
       "      <td>41110.0</td>\n",
       "      <td>NaN</td>\n",
       "      <td>37871.0</td>\n",
       "    </tr>\n",
       "    <tr>\n",
       "      <th>1</th>\n",
       "      <td>39377.0</td>\n",
       "      <td>35576.0</td>\n",
       "      <td>34982.0</td>\n",
       "      <td>38285.0</td>\n",
       "      <td>39061.0</td>\n",
       "      <td>33952.0</td>\n",
       "      <td>39842.0</td>\n",
       "      <td>40465.0</td>\n",
       "      <td>42512.0</td>\n",
       "      <td>40611.0</td>\n",
       "    </tr>\n",
       "    <tr>\n",
       "      <th>2</th>\n",
       "      <td>40757.0</td>\n",
       "      <td>40593.0</td>\n",
       "      <td>NaN</td>\n",
       "      <td>41676.0</td>\n",
       "      <td>41293.0</td>\n",
       "      <td>40050.0</td>\n",
       "      <td>NaN</td>\n",
       "      <td>NaN</td>\n",
       "      <td>NaN</td>\n",
       "      <td>39511.0</td>\n",
       "    </tr>\n",
       "    <tr>\n",
       "      <th>3</th>\n",
       "      <td>NaN</td>\n",
       "      <td>35873.0</td>\n",
       "      <td>44048.0</td>\n",
       "      <td>NaN</td>\n",
       "      <td>NaN</td>\n",
       "      <td>41679.0</td>\n",
       "      <td>40010.0</td>\n",
       "      <td>44566.0</td>\n",
       "      <td>40551.0</td>\n",
       "      <td>44879.0</td>\n",
       "    </tr>\n",
       "    <tr>\n",
       "      <th>4</th>\n",
       "      <td>36512.0</td>\n",
       "      <td>38780.0</td>\n",
       "      <td>36218.0</td>\n",
       "      <td>40621.0</td>\n",
       "      <td>41877.0</td>\n",
       "      <td>42107.0</td>\n",
       "      <td>40774.0</td>\n",
       "      <td>NaN</td>\n",
       "      <td>35379.0</td>\n",
       "      <td>39201.0</td>\n",
       "    </tr>\n",
       "    <tr>\n",
       "      <th>5</th>\n",
       "      <td>32205.0</td>\n",
       "      <td>NaN</td>\n",
       "      <td>37137.0</td>\n",
       "      <td>39516.0</td>\n",
       "      <td>44879.0</td>\n",
       "      <td>43774.0</td>\n",
       "      <td>NaN</td>\n",
       "      <td>44264.0</td>\n",
       "      <td>36787.0</td>\n",
       "      <td>37760.0</td>\n",
       "    </tr>\n",
       "    <tr>\n",
       "      <th>6</th>\n",
       "      <td>44637.0</td>\n",
       "      <td>43226.0</td>\n",
       "      <td>38429.0</td>\n",
       "      <td>41084.0</td>\n",
       "      <td>42500.0</td>\n",
       "      <td>44120.0</td>\n",
       "      <td>42527.0</td>\n",
       "      <td>38538.0</td>\n",
       "      <td>NaN</td>\n",
       "      <td>43851.0</td>\n",
       "    </tr>\n",
       "    <tr>\n",
       "      <th>7</th>\n",
       "      <td>42275.0</td>\n",
       "      <td>NaN</td>\n",
       "      <td>NaN</td>\n",
       "      <td>39581.0</td>\n",
       "      <td>38492.0</td>\n",
       "      <td>NaN</td>\n",
       "      <td>37436.0</td>\n",
       "      <td>36076.0</td>\n",
       "      <td>44703.0</td>\n",
       "      <td>44426.0</td>\n",
       "    </tr>\n",
       "    <tr>\n",
       "      <th>8</th>\n",
       "      <td>NaN</td>\n",
       "      <td>NaN</td>\n",
       "      <td>NaN</td>\n",
       "      <td>42429.0</td>\n",
       "      <td>42007.0</td>\n",
       "      <td>43724.0</td>\n",
       "      <td>41903.0</td>\n",
       "      <td>37992.0</td>\n",
       "      <td>35256.0</td>\n",
       "      <td>NaN</td>\n",
       "    </tr>\n",
       "    <tr>\n",
       "      <th>9</th>\n",
       "      <td>43688.0</td>\n",
       "      <td>44348.0</td>\n",
       "      <td>42811.0</td>\n",
       "      <td>38098.0</td>\n",
       "      <td>NaN</td>\n",
       "      <td>40817.0</td>\n",
       "      <td>38808.0</td>\n",
       "      <td>38880.0</td>\n",
       "      <td>40370.0</td>\n",
       "      <td>40277.0</td>\n",
       "    </tr>\n",
       "    <tr>\n",
       "      <th>10</th>\n",
       "      <td>40010.0</td>\n",
       "      <td>NaN</td>\n",
       "      <td>43950.0</td>\n",
       "      <td>39688.0</td>\n",
       "      <td>NaN</td>\n",
       "      <td>35308.0</td>\n",
       "      <td>44092.0</td>\n",
       "      <td>41558.0</td>\n",
       "      <td>42159.0</td>\n",
       "      <td>39515.0</td>\n",
       "    </tr>\n",
       "    <tr>\n",
       "      <th>11</th>\n",
       "      <td>39912.0</td>\n",
       "      <td>NaN</td>\n",
       "      <td>NaN</td>\n",
       "      <td>43734.0</td>\n",
       "      <td>44627.0</td>\n",
       "      <td>NaN</td>\n",
       "      <td>43155.0</td>\n",
       "      <td>44238.0</td>\n",
       "      <td>NaN</td>\n",
       "      <td>40725.0</td>\n",
       "    </tr>\n",
       "    <tr>\n",
       "      <th>12</th>\n",
       "      <td>NaN</td>\n",
       "      <td>42545.0</td>\n",
       "      <td>NaN</td>\n",
       "      <td>41436.0</td>\n",
       "      <td>39037.0</td>\n",
       "      <td>NaN</td>\n",
       "      <td>39789.0</td>\n",
       "      <td>44029.0</td>\n",
       "      <td>44074.0</td>\n",
       "      <td>40798.0</td>\n",
       "    </tr>\n",
       "    <tr>\n",
       "      <th>13</th>\n",
       "      <td>40325.0</td>\n",
       "      <td>36809.0</td>\n",
       "      <td>NaN</td>\n",
       "      <td>39847.0</td>\n",
       "      <td>42327.0</td>\n",
       "      <td>41110.0</td>\n",
       "      <td>NaN</td>\n",
       "      <td>NaN</td>\n",
       "      <td>NaN</td>\n",
       "      <td>NaN</td>\n",
       "    </tr>\n",
       "    <tr>\n",
       "      <th>14</th>\n",
       "      <td>42714.0</td>\n",
       "      <td>44059.0</td>\n",
       "      <td>41051.0</td>\n",
       "      <td>37360.0</td>\n",
       "      <td>NaN</td>\n",
       "      <td>40902.0</td>\n",
       "      <td>37038.0</td>\n",
       "      <td>44904.0</td>\n",
       "      <td>44980.0</td>\n",
       "      <td>43627.0</td>\n",
       "    </tr>\n",
       "    <tr>\n",
       "      <th>15</th>\n",
       "      <td>43535.0</td>\n",
       "      <td>39537.0</td>\n",
       "      <td>44748.0</td>\n",
       "      <td>43996.0</td>\n",
       "      <td>NaN</td>\n",
       "      <td>31476.0</td>\n",
       "      <td>43762.0</td>\n",
       "      <td>NaN</td>\n",
       "      <td>35454.0</td>\n",
       "      <td>42173.0</td>\n",
       "    </tr>\n",
       "    <tr>\n",
       "      <th>16</th>\n",
       "      <td>NaN</td>\n",
       "      <td>NaN</td>\n",
       "      <td>42907.0</td>\n",
       "      <td>42551.0</td>\n",
       "      <td>NaN</td>\n",
       "      <td>41838.0</td>\n",
       "      <td>39504.0</td>\n",
       "      <td>NaN</td>\n",
       "      <td>41962.0</td>\n",
       "      <td>NaN</td>\n",
       "    </tr>\n",
       "    <tr>\n",
       "      <th>17</th>\n",
       "      <td>43652.0</td>\n",
       "      <td>NaN</td>\n",
       "      <td>41539.0</td>\n",
       "      <td>38345.0</td>\n",
       "      <td>36153.0</td>\n",
       "      <td>32253.0</td>\n",
       "      <td>42392.0</td>\n",
       "      <td>43137.0</td>\n",
       "      <td>41932.0</td>\n",
       "      <td>42762.0</td>\n",
       "    </tr>\n",
       "    <tr>\n",
       "      <th>18</th>\n",
       "      <td>42981.0</td>\n",
       "      <td>NaN</td>\n",
       "      <td>42324.0</td>\n",
       "      <td>37756.0</td>\n",
       "      <td>36718.0</td>\n",
       "      <td>42728.0</td>\n",
       "      <td>NaN</td>\n",
       "      <td>36267.0</td>\n",
       "      <td>39682.0</td>\n",
       "      <td>43989.0</td>\n",
       "    </tr>\n",
       "    <tr>\n",
       "      <th>19</th>\n",
       "      <td>41176.0</td>\n",
       "      <td>40694.0</td>\n",
       "      <td>41379.0</td>\n",
       "      <td>40329.0</td>\n",
       "      <td>38950.0</td>\n",
       "      <td>44450.0</td>\n",
       "      <td>42224.0</td>\n",
       "      <td>NaN</td>\n",
       "      <td>42996.0</td>\n",
       "      <td>42217.0</td>\n",
       "    </tr>\n",
       "  </tbody>\n",
       "</table>\n",
       "</div>"
      ],
      "text/plain": [
       "          0        1        2        3        4        5        6        7  \\\n",
       "0   40859.0  37145.0  42928.0      NaN      NaN      NaN  33702.0  41110.0   \n",
       "1   39377.0  35576.0  34982.0  38285.0  39061.0  33952.0  39842.0  40465.0   \n",
       "2   40757.0  40593.0      NaN  41676.0  41293.0  40050.0      NaN      NaN   \n",
       "3       NaN  35873.0  44048.0      NaN      NaN  41679.0  40010.0  44566.0   \n",
       "4   36512.0  38780.0  36218.0  40621.0  41877.0  42107.0  40774.0      NaN   \n",
       "5   32205.0      NaN  37137.0  39516.0  44879.0  43774.0      NaN  44264.0   \n",
       "6   44637.0  43226.0  38429.0  41084.0  42500.0  44120.0  42527.0  38538.0   \n",
       "7   42275.0      NaN      NaN  39581.0  38492.0      NaN  37436.0  36076.0   \n",
       "8       NaN      NaN      NaN  42429.0  42007.0  43724.0  41903.0  37992.0   \n",
       "9   43688.0  44348.0  42811.0  38098.0      NaN  40817.0  38808.0  38880.0   \n",
       "10  40010.0      NaN  43950.0  39688.0      NaN  35308.0  44092.0  41558.0   \n",
       "11  39912.0      NaN      NaN  43734.0  44627.0      NaN  43155.0  44238.0   \n",
       "12      NaN  42545.0      NaN  41436.0  39037.0      NaN  39789.0  44029.0   \n",
       "13  40325.0  36809.0      NaN  39847.0  42327.0  41110.0      NaN      NaN   \n",
       "14  42714.0  44059.0  41051.0  37360.0      NaN  40902.0  37038.0  44904.0   \n",
       "15  43535.0  39537.0  44748.0  43996.0      NaN  31476.0  43762.0      NaN   \n",
       "16      NaN      NaN  42907.0  42551.0      NaN  41838.0  39504.0      NaN   \n",
       "17  43652.0      NaN  41539.0  38345.0  36153.0  32253.0  42392.0  43137.0   \n",
       "18  42981.0      NaN  42324.0  37756.0  36718.0  42728.0      NaN  36267.0   \n",
       "19  41176.0  40694.0  41379.0  40329.0  38950.0  44450.0  42224.0      NaN   \n",
       "\n",
       "          8        9  \n",
       "0       NaN  37871.0  \n",
       "1   42512.0  40611.0  \n",
       "2       NaN  39511.0  \n",
       "3   40551.0  44879.0  \n",
       "4   35379.0  39201.0  \n",
       "5   36787.0  37760.0  \n",
       "6       NaN  43851.0  \n",
       "7   44703.0  44426.0  \n",
       "8   35256.0      NaN  \n",
       "9   40370.0  40277.0  \n",
       "10  42159.0  39515.0  \n",
       "11      NaN  40725.0  \n",
       "12  44074.0  40798.0  \n",
       "13      NaN      NaN  \n",
       "14  44980.0  43627.0  \n",
       "15  35454.0  42173.0  \n",
       "16  41962.0      NaN  \n",
       "17  41932.0  42762.0  \n",
       "18  39682.0  43989.0  \n",
       "19  42996.0  42217.0  "
      ]
     },
     "execution_count": 34,
     "metadata": {},
     "output_type": "execute_result"
    }
   ],
   "source": [
    "less = garbage[garbage.ix[:]<45000]\n",
    "less"
   ]
  },
  {
   "cell_type": "markdown",
   "metadata": {},
   "source": [
    "# Based on the sample data, what percentile does the 45,000-pound weight fall closest to?"
   ]
  },
  {
   "cell_type": "code",
   "execution_count": 39,
   "metadata": {
    "collapsed": false
   },
   "outputs": [
    {
     "data": {
      "text/plain": [
       "0    42494.5\n",
       "1    43642.5\n",
       "2    42917.5\n",
       "3    40475.0\n",
       "4    42413.5\n",
       "5    41972.5\n",
       "6    42063.5\n",
       "7    44133.5\n",
       "8    42335.5\n",
       "9    42195.0\n",
       "dtype: float64"
      ]
     },
     "execution_count": 39,
     "metadata": {},
     "output_type": "execute_result"
    }
   ],
   "source": [
    "garbage.median()"
   ]
  },
  {
   "cell_type": "code",
   "execution_count": 57,
   "metadata": {
    "collapsed": false
   },
   "outputs": [
    {
     "data": {
      "text/plain": [
       "4.5"
      ]
     },
     "execution_count": 57,
     "metadata": {},
     "output_type": "execute_result"
    }
   ],
   "source": [
    "np.percentile(list(garbage), 50)"
   ]
  },
  {
   "cell_type": "code",
   "execution_count": 44,
   "metadata": {
    "collapsed": false
   },
   "outputs": [],
   "source": [
    "import math\n",
    "import functools"
   ]
  },
  {
   "cell_type": "code",
   "execution_count": 48,
   "metadata": {
    "collapsed": true
   },
   "outputs": [],
   "source": [
    "def percentile(N, percent, key=lambda x:x):\n",
    "    \"\"\"\n",
    "    Find the percentile of a list of values.\n",
    "\n",
    "    @parameter N - is a list of values. Note N MUST BE already sorted.\n",
    "    @parameter percent - a float value from 0.0 to 1.0.\n",
    "    @parameter key - optional key function to compute value from each element of N.\n",
    "\n",
    "    @return - the percentile of the values\n",
    "    \"\"\"\n",
    "    if not N:\n",
    "        return None\n",
    "    k = (len(N)-1) * percent\n",
    "    f = math.floor(k)\n",
    "    c = math.ceil(k)\n",
    "    if f == c:\n",
    "        return key(N[int(k)])\n",
    "    d0 = key(N[int(f)]) * (c-k)\n",
    "    d1 = key(N[int(c)]) * (k-f)\n",
    "    return d0+d1\n",
    "\n",
    "# median is 50th percentile.\n",
    "median = functools.partial(percentile, percent=0.5)"
   ]
  },
  {
   "cell_type": "code",
   "execution_count": 50,
   "metadata": {
    "collapsed": false
   },
   "outputs": [
    {
     "data": {
      "text/plain": [
       "4.5"
      ]
     },
     "execution_count": 50,
     "metadata": {},
     "output_type": "execute_result"
    }
   ],
   "source": [
    "percentile(list(garbage),0.5)"
   ]
  },
  {
   "cell_type": "code",
   "execution_count": 51,
   "metadata": {
    "collapsed": true
   },
   "outputs": [],
   "source": [
    "import plotly.plotly as py\n",
    "import plotly.graph_objs as go"
   ]
  },
  {
   "cell_type": "code",
   "execution_count": 58,
   "metadata": {
    "collapsed": false
   },
   "outputs": [
    {
     "data": {
      "text/html": [
       "<iframe id=\"igraph\" scrolling=\"no\" style=\"border:none;\" seamless=\"seamless\" src=\"https://plot.ly/~mkrijal/18.embed\" height=\"525px\" width=\"100%\"></iframe>"
      ],
      "text/plain": [
       "<plotly.tools.PlotlyDisplay object>"
      ]
     },
     "execution_count": 58,
     "metadata": {},
     "output_type": "execute_result"
    }
   ],
   "source": [
    "y0 = garbage[0]\n",
    "y1 = garbage[1]\n",
    "y2 = garbage[2]\n",
    "y3 = garbage[3]\n",
    "y4 = garbage[4]\n",
    "y5 = garbage[5]\n",
    "y6 = garbage[6]\n",
    "y7 = garbage[7]\n",
    "\n",
    "\n",
    "column0 = go.Box(\n",
    "    y=y0\n",
    ")\n",
    "column1 = go.Box(\n",
    "    y=y1\n",
    ")\n",
    "column2 = go.Box(\n",
    "    y=y2\n",
    ")\n",
    "column3 = go.Box(\n",
    "    y=y3\n",
    ")\n",
    "column4 = go.Box(\n",
    "    y=y4\n",
    ")\n",
    "column5 = go.Box(\n",
    "    y=y5\n",
    ")\n",
    "column6 = go.Box(\n",
    "    y=y6\n",
    ")\n",
    "column7 = go.Box(\n",
    "    y=y7\n",
    ")\n",
    "data = [column0, column1, column2, column3, column4, column5, column6, column7]\n",
    "py.iplot(data)"
   ]
  },
  {
   "cell_type": "markdown",
   "metadata": {},
   "source": [
    "# Compute appropriate measures of central location for the data."
   ]
  },
  {
   "cell_type": "code",
   "execution_count": 59,
   "metadata": {
    "collapsed": false
   },
   "outputs": [
    {
     "data": {
      "text/plain": [
       "0    42494.5\n",
       "1    43642.5\n",
       "2    42917.5\n",
       "3    40475.0\n",
       "4    42413.5\n",
       "5    41972.5\n",
       "6    42063.5\n",
       "7    44133.5\n",
       "8    42335.5\n",
       "9    42195.0\n",
       "dtype: float64"
      ]
     },
     "execution_count": 59,
     "metadata": {},
     "output_type": "execute_result"
    }
   ],
   "source": [
    "garbage.median()"
   ]
  },
  {
   "cell_type": "markdown",
   "metadata": {},
   "source": [
    "# Construct a frequency histogram based on the sample data. Use the 2k  n guideline to\n",
    "determine the number of classes. Also, construct a box and whisker plot for these data. Discuss\n",
    "the relative advantages of histograms and box and whisker plots for presenting these data."
   ]
  },
  {
   "cell_type": "code",
   "execution_count": 66,
   "metadata": {
    "collapsed": false
   },
   "outputs": [],
   "source": [
    "import seaborn as sns\n",
    "import matplotlib.pyplot as plt\n",
    "%matplotlib inline\n",
    "plt.rcParams['figure.figsize'] = (20, 10)\n",
    "plt.rcParams['font.size'] = 14"
   ]
  },
  {
   "cell_type": "code",
   "execution_count": 67,
   "metadata": {
    "collapsed": false
   },
   "outputs": [
    {
     "data": {
      "text/plain": [
       "<matplotlib.lines.Line2D at 0x2192c9d90f0>"
      ]
     },
     "execution_count": 67,
     "metadata": {},
     "output_type": "execute_result"
    },
    {
     "data": {
      "text/plain": [
       "<matplotlib.figure.Figure at 0x2192c9d9278>"
      ]
     },
     "metadata": {},
     "output_type": "display_data"
    },
    {
     "data": {
      "image/png": "[encoded data removed]",
      "text/plain": [
       "<matplotlib.figure.Figure at 0x2192e50ecf8>"
      ]
     },
     "metadata": {},
     "output_type": "display_data"
    }
   ],
   "source": [
    "plt.figure();\n",
    "\n",
    "garbage.loc[:].plot(kind='bar'); plt.axhline(0, color='k')"
   ]
  },
  {
   "cell_type": "code",
   "execution_count": 89,
   "metadata": {
    "collapsed": false
   },
   "outputs": [
    {
     "data": {
      "text/html": [
       "<iframe id=\"igraph\" scrolling=\"no\" style=\"border:none;\" seamless=\"seamless\" src=\"https://plot.ly/~mkrijal/4.embed\" height=\"525px\" width=\"100%\"></iframe>"
      ],
      "text/plain": [
       "<plotly.tools.PlotlyDisplay object>"
      ]
     },
     "execution_count": 89,
     "metadata": {},
     "output_type": "execute_result"
    }
   ],
   "source": [
    "x = garbage[0]\n",
    "data = [go.Histogram(x=x)]\n",
    "\n",
    "py.iplot(data, filename='basic histogram')"
   ]
  },
  {
   "cell_type": "code",
   "execution_count": 90,
   "metadata": {
    "collapsed": false
   },
   "outputs": [
    {
     "data": {
      "text/html": [
       "<iframe id=\"igraph\" scrolling=\"no\" style=\"border:none;\" seamless=\"seamless\" src=\"https://plot.ly/~mkrijal/4.embed\" height=\"525px\" width=\"100%\"></iframe>"
      ],
      "text/plain": [
       "<plotly.tools.PlotlyDisplay object>"
      ]
     },
     "execution_count": 90,
     "metadata": {},
     "output_type": "execute_result"
    }
   ],
   "source": [
    "x = garbage[1]\n",
    "data = [go.Histogram(x=x)]\n",
    "\n",
    "py.iplot(data, filename='basic histogram')"
   ]
  },
  {
   "cell_type": "code",
   "execution_count": 91,
   "metadata": {
    "collapsed": false
   },
   "outputs": [
    {
     "data": {
      "text/html": [
       "<iframe id=\"igraph\" scrolling=\"no\" style=\"border:none;\" seamless=\"seamless\" src=\"https://plot.ly/~mkrijal/4.embed\" height=\"525px\" width=\"100%\"></iframe>"
      ],
      "text/plain": [
       "<plotly.tools.PlotlyDisplay object>"
      ]
     },
     "execution_count": 91,
     "metadata": {},
     "output_type": "execute_result"
    }
   ],
   "source": [
    "x = garbage[2]\n",
    "data = [go.Histogram(x=x)]\n",
    "\n",
    "py.iplot(data, filename='basic histogram')"
   ]
  },
  {
   "cell_type": "code",
   "execution_count": 110,
   "metadata": {
    "collapsed": false
   },
   "outputs": [],
   "source": [
    "a = garbage[0]\n",
    "b = garbage[1]\n",
    "\n",
    "trace1 = go.Histogram(\n",
    "    x=garbage[0],\n",
    "    opacity=0.75,\n",
    "    histnorm='probability',\n",
    "    name='column 0'\n",
    ")\n",
    "trace2 = go.Histogram(\n",
    "    x=garbage[1],\n",
    "    opacity=0.75,\n",
    "    histnorm='probability',\n",
    "    name='column 1',\n",
    "    yaxis='y2'\n",
    ")"
   ]
  },
  {
   "cell_type": "code",
   "execution_count": 111,
   "metadata": {
    "collapsed": false
   },
   "outputs": [
    {
     "data": {
      "text/html": [
       "<iframe id=\"igraph\" scrolling=\"no\" style=\"border:none;\" seamless=\"seamless\" src=\"https://plot.ly/~mkrijal/24.embed\" height=\"525px\" width=\"100%\"></iframe>"
      ],
      "text/plain": [
       "<plotly.tools.PlotlyDisplay object>"
      ]
     },
     "execution_count": 111,
     "metadata": {},
     "output_type": "execute_result"
    }
   ],
   "source": [
    "data = [trace1, trace2]\n",
    "\n",
    "layout = go.Layout(\n",
    "    title='item',\n",
    "    barmode='overlay',\n",
    "    xaxis=dict(\n",
    "    title=''\n",
    "    ),\n",
    "    yaxis=dict(\n",
    "        title='Normalized Frequency 1'\n",
    "    ),\n",
    "    yaxis2=dict(\n",
    "        title='Normalized Frequency 2',\n",
    "        anchor='free',\n",
    "        overlaying='y',\n",
    "        side='right',\n",
    "        position=1\n",
    "    ),\n",
    "    \n",
    "     # Mean lines\n",
    "    shapes= [{'line': {'color': '#0099FF', 'dash': 'solid', 'width': 1},\n",
    "    'type': 'line',\n",
    "    'x0': garbage[0].mean(),\n",
    "    'x1': garbage[1].mean(),\n",
    "    'xref': 'x',\n",
    "    'y0': -0.1,\n",
    "    'y1': 1,\n",
    "    'yref': 'paper'},\n",
    "   {'line': {'color': '#FDAB5A', 'dash': 'solid', 'width': 1},\n",
    "    'type': 'line',\n",
    "    'x0': garbage[1].mean(),\n",
    "    'x1': garbage[1].mean(),\n",
    "    'xref': 'x',\n",
    "    'y0': -0.1,\n",
    "    'y1': 1,\n",
    "    'yref': 'paper'}],\n",
    "\n",
    "    # Annotations\n",
    "    annotations=[\n",
    "        dict(\n",
    "            x=garbage[0].mean(),\n",
    "            y=1,\n",
    "            xref='x',\n",
    "            yref='paper',\n",
    "            text=\"Mean a = {:,.0f}\".format(garbage[0].mean()),\n",
    "            showarrow=True,\n",
    "            arrowhead=7,\n",
    "            ax=1,\n",
    "            ay=1,\n",
    "            axref='paper',\n",
    "            ayref='paper'\n",
    "        ),\n",
    "        dict(\n",
    "            x=garbage[1].mean(),\n",
    "            y=0.95,\n",
    "            xref='x',\n",
    "            yref='paper',\n",
    "            text=\"Mean b = {:,.0f}\".format(garbage[1].mean()),\n",
    "            showarrow=True,\n",
    "            arrowhead=7,\n",
    "            ax=1,\n",
    "            ay=1,\n",
    "            axref='paper',\n",
    "            ayref='paper'\n",
    "        )\n",
    "    ]\n",
    "\n",
    ") \n",
    "fig = go.Figure(data=data, layout=layout)\n",
    "py.iplot(fig)"
   ]
  },
  {
   "cell_type": "code",
   "execution_count": 112,
   "metadata": {
    "collapsed": true
   },
   "outputs": [],
   "source": [
    "a = garbage[0]\n",
    "b = garbage[1]\n",
    "\n",
    "trace1 = go.Histogram(\n",
    "    x=garbage[0],\n",
    "    opacity=0.75,\n",
    "    name='column 0'\n",
    ")\n",
    "trace2 = go.Histogram(\n",
    "    x=garbage[1],\n",
    "    opacity=0.75,\n",
    "    name='column 1',\n",
    "    yaxis='y2'\n",
    ")"
   ]
  },
  {
   "cell_type": "code",
   "execution_count": 113,
   "metadata": {
    "collapsed": false
   },
   "outputs": [
    {
     "data": {
      "text/html": [
       "<iframe id=\"igraph\" scrolling=\"no\" style=\"border:none;\" seamless=\"seamless\" src=\"https://plot.ly/~mkrijal/26.embed\" height=\"525px\" width=\"100%\"></iframe>"
      ],
      "text/plain": [
       "<plotly.tools.PlotlyDisplay object>"
      ]
     },
     "execution_count": 113,
     "metadata": {},
     "output_type": "execute_result"
    }
   ],
   "source": [
    "data = [trace1, trace2]\n",
    "\n",
    "layout = go.Layout(\n",
    "    title='item',\n",
    "    barmode='overlay',\n",
    "    xaxis=dict(\n",
    "    title=''\n",
    "    ),\n",
    "    yaxis=dict(\n",
    "        title='Frequency 1'\n",
    "    ),\n",
    "    yaxis2=dict(\n",
    "        title='Frequency 2',\n",
    "        anchor='free',\n",
    "        overlaying='y',\n",
    "        side='right',\n",
    "        position=1\n",
    "    ),\n",
    "    \n",
    "     # Mean lines\n",
    "    shapes= [{'line': {'color': '#0099FF', 'dash': 'solid', 'width': 1},\n",
    "    'type': 'line',\n",
    "    'x0': garbage[0].mean(),\n",
    "    'x1': garbage[1].mean(),\n",
    "    'xref': 'x',\n",
    "    'y0': -0.1,\n",
    "    'y1': 1,\n",
    "    'yref': 'paper'},\n",
    "   {'line': {'color': '#FDAB5A', 'dash': 'solid', 'width': 1},\n",
    "    'type': 'line',\n",
    "    'x0': garbage[1].mean(),\n",
    "    'x1': garbage[1].mean(),\n",
    "    'xref': 'x',\n",
    "    'y0': -0.1,\n",
    "    'y1': 1,\n",
    "    'yref': 'paper'}],\n",
    "\n",
    "    # Annotations\n",
    "    annotations=[\n",
    "        dict(\n",
    "            x=garbage[0].mean(),\n",
    "            y=1,\n",
    "            xref='x',\n",
    "            yref='paper',\n",
    "            text=\"Mean a = {:,.0f}\".format(garbage[0].mean()),\n",
    "            showarrow=True,\n",
    "            arrowhead=7,\n",
    "            ax=1,\n",
    "            ay=1,\n",
    "            axref='paper',\n",
    "            ayref='paper'\n",
    "        ),\n",
    "        dict(\n",
    "            x=garbage[1].mean(),\n",
    "            y=0.95,\n",
    "            xref='x',\n",
    "            yref='paper',\n",
    "            text=\"Mean b = {:,.0f}\".format(garbage[1].mean()),\n",
    "            showarrow=True,\n",
    "            arrowhead=7,\n",
    "            ax=1,\n",
    "            ay=1,\n",
    "            axref='paper',\n",
    "            ayref='paper'\n",
    "        )\n",
    "    ]\n",
    "\n",
    ") \n",
    "fig = go.Figure(data=data, layout=layout)\n",
    "py.iplot(fig)"
   ]
  },
  {
   "cell_type": "code",
   "execution_count": null,
   "metadata": {
    "collapsed": true
   },
   "outputs": [],
   "source": []
  }
 ],
 "metadata": {
  "kernelspec": {
   "display_name": "Python 3",
   "language": "python",
   "name": "python3"
  },
  "language_info": {
   "codemirror_mode": {
    "name": "ipython",
    "version": 3
   },
   "file_extension": ".py",
   "mimetype": "text/x-python",
   "name": "python",
   "nbconvert_exporter": "python",
   "pygments_lexer": "ipython3",
   "version": "3.6.0"
  }
 },
 "nbformat": 4,
 "nbformat_minor": 2
}
